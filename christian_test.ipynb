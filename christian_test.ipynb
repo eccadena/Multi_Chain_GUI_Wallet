{
 "cells": [
  {
   "cell_type": "code",
   "execution_count": 2,
   "metadata": {},
   "outputs": [],
   "source": [
    "\n",
    "import json\n",
    "import subprocess\n",
    "from py_hd_wallet import wallet\n",
    "import eel\n",
    "import re\n",
    "from urllib.request import Request, urlopen\n",
    "import json\n",
    "import hashlib\n",
    "import os\n",
    "\n",
    "import scrypt\n",
    "\n",
    "from constants import *\n",
    "from web3 import Web3\n",
    "import os \n",
    "from dotenv import load_dotenv\n",
    "from eth_account import Account \n",
    "import subprocess\n",
    "import json\n",
    "from bit import Key, PrivateKey, PrivateKeyTestnet\n",
    "from bit.crypto import ECPrivateKey\n",
    "from bit.curve import Point\n",
    "from bit.format import (\n",
    "    bytes_to_wif, public_key_to_address, public_key_to_coords, wif_to_bytes\n",
    ")\n",
    "from bit.network import NetworkAPI, get_fee_cached, satoshi_to_currency_cached\n",
    "from bit.network.meta import Unspent\n",
    "#from bit.transaction import calc_txid, create_p2pkh_transaction, sanitize_tx_data\n",
    "from web3.middleware import geth_poa_middleware\n"
   ]
  },
  {
   "cell_type": "code",
   "execution_count": 11,
   "metadata": {},
   "outputs": [],
   "source": [
    "def derive_wallets(mnemonic, coin, nkeys):\n",
    "    os = platform.system()\n",
    "    if os == 'Windows':\n",
    "        prefix = 'php'\n",
    "        command = f'{prefix} ./hd-wallet-derive/hd-wallet-derive.php --mnemonic=\"{mnemonic}\" --coin={coin} --numderive={nkeys}  --format=json -g'\n",
    "    elif os == 'Darwin':\n",
    "        command = f'./hd-wallet-derive/hd-wallet-derive.php --mnemonic=\"{mnemonic}\" --coin={coin} --numderive={nkeys}  --format=json -g'\n",
    "    else:\n",
    "        return err\n",
    "    \n",
    "    available_coins = \"./hd-wallet-derive.php --help-coins\" # --> currently not in use\n",
    "    new_process = subprocess.Popen(command, stdout=subprocess.PIPE, shell=True)\n",
    "\n",
    "    (output, err) = new_process.communicate()\n",
    "\n",
    "    p_status = new_process.wait()\n",
    "\n",
    "    if err:\n",
    "        print(\"\\nError:###\\n\\n\")\n",
    "        return err\n",
    "\n",
    "    return json.loads(output)"
   ]
  },
  {
   "cell_type": "code",
   "execution_count": 12,
   "metadata": {},
   "outputs": [
    {
     "data": {
      "text/plain": [
       "'update arena sustain demand gift comfort border scrap drastic riot strong refuse'"
      ]
     },
     "execution_count": 12,
     "metadata": {},
     "output_type": "execute_result"
    }
   ],
   "source": [
    "seed = wallet.generate_mnemonic()\n",
    "seed"
   ]
  },
  {
   "cell_type": "code",
   "execution_count": 13,
   "metadata": {},
   "outputs": [
    {
     "data": {
      "text/plain": [
       "([{'path': \"m/44'/60'/0'/0/0\",\n",
       "   'address': '0x6DED6ea3BDcb4E2666c8c42bd413411ab7bB0f55',\n",
       "   'xprv': 'xprvA3kv8ZJHiumYrjzWqREkij95dmb4dTuPUtNb7cgZKeUrHHXmUd2sgfxtuQTC13oQnP5rVMvPfi2kWFZMrssGTw5g4tVtU82SQP3bMLzgep5',\n",
       "   'xpub': 'xpub6GkGY4qBZHKr5E4ywSmm5s5pBoRZ2vdEr7JBv16Asz1qA5rv2AM8EUHNkheuk8uonXZzt7vBRJDACL7euKSrvEgVWMzJtvXecBd7S7QoyJL',\n",
       "   'privkey': '0x737fd215f03a6497aba6f1564259837fac5ef97f84f1475e752e31785f3b826d',\n",
       "   'pubkey': '03917df6ae91936b42106f5addd9b2ef1629ae1a528922e4368c21fa9def0c9caf',\n",
       "   'pubkeyhash': 'b6a1d23e9c5bc03ab8f92fa8eb80e58aa10c6477',\n",
       "   'index': 0},\n",
       "  {'path': \"m/44'/60'/0'/0/1\",\n",
       "   'address': '0xe1F1028da7D45669a871394550147E800A6c9328',\n",
       "   'xprv': 'xprvA3kv8ZJHiumYvLi1mHy95eAJoiyYSJShmRWQuBN5AttWmcvbjAAGhzUoUdmQecHLcCWYoSvHymf5r7DJsizgSBKiy7F9ZmcWthPT2TXqQrt',\n",
       "   'xpub': 'xpub6GkGY4qBZHKr8pnUsKW9Sn73Mkp2qmAZ8eS1hZmgjERVeRFkGhUXFnoHKvMaHhxPkA4cPVmTt8pLhbstmbzkPbH6gYvSQhg7zYsoP4BzwY3',\n",
       "   'privkey': '0x13601dcd7f2d80bd2bd7a120f0654ddc593ba5d023d0c12fdceaad6c84f4f969',\n",
       "   'pubkey': '02e0a3be0a9e64b777b5de55c74c5a49d2be8ae46ad88c9960ec64477790bfd1fa',\n",
       "   'pubkeyhash': '517824be85ae537ec5ff38156c2027e0fa24860a',\n",
       "   'index': 1},\n",
       "  {'path': \"m/44'/60'/0'/0/2\",\n",
       "   'address': '0x7EE71638dE710b7a23D2332fa9057064977A2BeF',\n",
       "   'xprv': 'xprvA3kv8ZJHiumYwoEApb9RAZ3mCwaMjgSRdqbBvJHrzuyRXEkpvZA2yAJW6rsZ5epVxNZMRQXjAYM9C5KXvoDM3T9YLzQEqF1oo5yPQSJUvKt',\n",
       "   'xpub': 'xpub6GkGY4qBZHKrAHJdvcgRXgzVkyQr99AH14WnighUZFWQQ35yU6UHWxcyx9jBZ9CVA9SdZ1UtridLoNxgrpifnHSEzv8TpY6fCQVzqm8uPuK',\n",
       "   'privkey': '0x4809879ea09474c2ea5db822466e4ab3416067ea81f9210a8cbbbdbe1410627c',\n",
       "   'pubkey': '03386947dc3a6e192b1cd9251f8f6cf9ade28825099854aac238e9ec0feff0f589',\n",
       "   'pubkeyhash': '3aa0c476547d35bf6c89e70a3f6b3b69cf1876a0',\n",
       "   'index': 2},\n",
       "  {'path': \"m/44'/60'/0'/0/3\",\n",
       "   'address': '0xbA2C9997De23cad522a9748CE2A3B3E9b20e515a',\n",
       "   'xprv': 'xprvA3kv8ZJHiumZ1phVJTN3UCFim3TJXoayQk1CQB31odaMDVjkCCmy5xUqJ9bvpzjXpaC8GVi7zc5X4jNW1cad3TqG7ZvFQvjQNRTcLWwAjhY',\n",
       "   'xpub': 'xpub6GkGY4qBZHKrEJmxQUu3qLCTK5HnwGJpmxvoCZSdMy7L6J4tjk6DdkoK9U4eVwzr11AsiqNXDeZefKzUAapFDifQBuGntxdtSP56UTyBtSk',\n",
       "   'privkey': '0x2d0453c52e46534c4436baeeed49c55de7edfd29715e335d5b8f3aebe9270f88',\n",
       "   'pubkey': '03f0c3255272238d89ca746c12498382529409df3a0581abffa3e5abf550864027',\n",
       "   'pubkeyhash': '6fc518a284fe7d1d2c19a5147e6a2e13544359cd',\n",
       "   'index': 3},\n",
       "  {'path': \"m/44'/60'/0'/0/4\",\n",
       "   'address': '0xB40565B05a6b38B59eC6CF254f20A4093feFcEb3',\n",
       "   'xprv': 'xprvA3kv8ZJHiumZ2zwLGmyziKR1j3p1L5tGTSfPp4rSCWnM2kYqyiznhLWhPEbZoFY4MV94ncMN7KPg1oXodSY7dPP3de7KAuxaf4pFWpa8u1D',\n",
       "   'xpub': 'xpub6GkGY4qBZHKrFV1oNoX15TMkH5eVjYc7pfazcTG3krKKuYszXGK3F8qBEWy5t453p16e2JL5hvNx9BHoh8KeiZ2XxLBbc6boJR65dwk7Jst',\n",
       "   'privkey': '0xbf8707e2e93dfcc89235bb993e81788f0d5762743bb1a929b5046518d75d25d2',\n",
       "   'pubkey': '037012e8893a09b14f094aa785c9a41a68d9e9db326034c1bd88bb2065cc8ef0a8',\n",
       "   'pubkeyhash': '079d89afe97ef5ebb2de135d840915bcfdb7d00d',\n",
       "   'index': 4},\n",
       "  {'path': \"m/44'/60'/0'/0/5\",\n",
       "   'address': '0x3930900Ab0F634C55195c48B9db0870c1f5F86F7',\n",
       "   'xprv': 'xprvA3kv8ZJHiumZ6dz45qczrYo4Lw8Dmtv1XHEZo6wkuyUgCWFXdCQTVtT2nSLykdAk5jgfRSQtVPJgDLJ1UogbKHztUtC9foFdvvm141P5zSk',\n",
       "   'xpub': 'xpub6GkGY4qBZHKrK84XBsA1DgjntxxiBMdrtWAAbVMNUK1f5JagAjii3gmWdhcjox5SDhkJrRuQGhjVMFRP1TKzhdzzgAbd4Px2nhBg16emAKu',\n",
       "   'privkey': '0x41ff195870bef931c3c30217adefcce9372db7a2a80a5a7c7989719ffc6ae253',\n",
       "   'pubkey': '0261c52768c697f4c9c26d291157e0e146dfd8e483a2df3f2707f259d0b7c6517c',\n",
       "   'pubkeyhash': '98c7475d952640dc02e210dc76f4247e4fd7cd0b',\n",
       "   'index': 5},\n",
       "  {'path': \"m/44'/60'/0'/0/6\",\n",
       "   'address': '0x6d912F1177e546Aa00f546946b83f839d8E38eaC',\n",
       "   'xprv': 'xprvA3kv8ZJHiumZ8ZhiWms4cL48Nq9et9edKki4EkVXcvwKSawankR9YyZhN1hpL9VAF2HgYqdHEX2LAdi8dDR6dKWPVcm2nYuHN3xA3gP4KQC',\n",
       "   'xpub': 'xpub6GkGY4qBZHKrM3nBcoQ4yTzrvrz9HcNUgydf38u9BGUJKPGjLHjQ6mtBDGUgZBdYgvWLRyBggzfPHZrkdrC8LpZ1WTWMPATv92WPFHb379C',\n",
       "   'privkey': '0xa7e626b3fa9a391cd8ef91387ef8fd2631897f1e68bd2cefca92588cb7461abd',\n",
       "   'pubkey': '028610ea9014c3f6219a58dd6a935b5617e1e6375a7f29eb1542f7fbd480d5f6bc',\n",
       "   'pubkeyhash': 'cdfb4da3a76ce174ea022840fbf283284a34214b',\n",
       "   'index': 6},\n",
       "  {'path': \"m/44'/60'/0'/0/7\",\n",
       "   'address': '0x047c4729729F757783DF8EF57b26BA427E7BCBC6',\n",
       "   'xprv': 'xprvA3kv8ZJHiumZBtSseuHUGhMrn6tHJ5wgGXEbxzAatZdns1RsNHc73d7SRk4bw5GHWDVVT9cNY9g9EkQVi4HKFi3NqatywbL2YanxVyPdJVA',\n",
       "   'xpub': 'xpub6GkGY4qBZHKrQNXLkvpUdqJbL8imhYfXdkACmNaCSuAmjom1upvMbRRvH2oqBPx6bMQg8ssmUf4yB1im916yxkTMNFxg15M3mJbz6hYbbXX',\n",
       "   'privkey': '0x40b79935714f7564e531e6445eeb6556f650c67ba414849ab20b276cb5010e59',\n",
       "   'pubkey': '03228ee4181eac186a1fd2c55459983e8c1067aa674d0b446f74bb5ae852e6a38f',\n",
       "   'pubkeyhash': '5fe988dc7172ff2bc4d71bb325eeb8b5553691e8',\n",
       "   'index': 7},\n",
       "  {'path': \"m/44'/60'/0'/0/8\",\n",
       "   'address': '0x87ae8b9FAf848CF933502EFF3a1eA1E6881305b7',\n",
       "   'xprv': 'xprvA3kv8ZJHiumZD8P78ezWYfXfMxqJsJhg1fwB2waodQTyXSCpWUq7En13bdgLYcEXzR7cfpPkdMh9j1Db3363Pov9RXopxyy8K93xTNvTCCp',\n",
       "   'xpub': 'xpub6GkGY4qBZHKrRcTaEgXWuoUPuzfoGmRXNtrmqKzRBjzxQEXy429MnaKXSunjjJ26nVDuLcF4TKeA6RavAAfszbX62iEwxyrSK6pp18npf3r',\n",
       "   'privkey': '0x13c586eaaa88eb83894844e62e9013ebe1282398a94324eddb610429611bd77c',\n",
       "   'pubkey': '02a1fd13b9e891721019e5b200d3ece81c04298fa360405d0713bf96c59487a5ea',\n",
       "   'pubkeyhash': 'acbe35a68dde9023ce1a2df1666d6248ddfeb8a2',\n",
       "   'index': 8},\n",
       "  {'path': \"m/44'/60'/0'/0/9\",\n",
       "   'address': '0xaF55413CEc04f8312F7FD5bd2C6b039b28a4DBD4',\n",
       "   'xprv': 'xprvA3kv8ZJHiumZFWQFnWTR1faciRbuhvjWLK6Zow9Z4LnKnaE1cAVoDGyNi64hx8XpZPXxfM2yRTvvM6b7i7FmX6DfRDYE3qR5aLSwvNPC1y7',\n",
       "   'xpub': 'xpub6GkGY4qBZHKrTzUitXzRNoXMGTSQ7PTMhY2AcKZAcgKJfNZA9hp3m5HrZMV9G21i41sxWPGkoHEwbNvQb1fYwcuG9uVYgfRwkSSGPmTpgtT',\n",
       "   'privkey': '0x7bda193bf173b9396cb4fd00461b30fc5366dacfdfcb99e886f426eabd899b30',\n",
       "   'pubkey': '02af53c3b1e76eaac34692d422772867e1c02dd9d1c05a3a4fa93312e9a0500a11',\n",
       "   'pubkeyhash': 'b10c341b0a3f60260217e7ac77d9be8ac720d581',\n",
       "   'index': 9}],)"
      ]
     },
     "execution_count": 13,
     "metadata": {},
     "output_type": "execute_result"
    }
   ],
   "source": [
    "derive_wallets(seed, \"ETH\", 10), "
   ]
  },
  {
   "cell_type": "code",
   "execution_count": 5,
   "metadata": {},
   "outputs": [],
   "source": [
    "pass_w = \"1234\""
   ]
  },
  {
   "cell_type": "code",
   "execution_count": 6,
   "metadata": {},
   "outputs": [],
   "source": [
    "import platform"
   ]
  },
  {
   "cell_type": "code",
   "execution_count": 7,
   "metadata": {},
   "outputs": [
    {
     "data": {
      "text/plain": [
       "'Windows'"
      ]
     },
     "execution_count": 7,
     "metadata": {},
     "output_type": "execute_result"
    }
   ],
   "source": [
    "platform.system()"
   ]
  },
  {
   "cell_type": "code",
   "execution_count": 6,
   "metadata": {},
   "outputs": [],
   "source": [
    "def create_seed(pass_w):\n",
    "    seed =  wallet.generate_mnemonic()\n",
    "    clean_seed = re.sub(\"[^\\w]\", \" \",  seed).split()\n",
    "    count = 0\n",
    "    seed_dict = {}\n",
    "    for word in seed:\n",
    "        count += 1\n",
    "        word_count = \"word\" + str(count)\n",
    "        seed_dict.update( {word_count : word} )\n",
    "    file = open(\".sd\", \"w\")\n",
    "    file.write(scrypt.encrypt(seed, \"hashlib.sha256(bytes(pass_w, 'utf-8')).hexdigest()\", maxtime=0.2))\n",
    "    file.close()\n",
    "    return seed_dict"
   ]
  },
  {
   "cell_type": "code",
   "execution_count": 7,
   "metadata": {},
   "outputs": [
    {
     "ename": "error",
     "evalue": "could not read salt from /dev/urandom",
     "output_type": "error",
     "traceback": [
      "\u001b[1;31m---------------------------------------------------------------------------\u001b[0m",
      "\u001b[1;31merror\u001b[0m                                     Traceback (most recent call last)",
      "\u001b[1;32m<ipython-input-7-7689b5b76a3e>\u001b[0m in \u001b[0;36m<module>\u001b[1;34m\u001b[0m\n\u001b[1;32m----> 1\u001b[1;33m \u001b[0mx\u001b[0m \u001b[1;33m=\u001b[0m \u001b[0mcreate_seed\u001b[0m\u001b[1;33m(\u001b[0m\u001b[0mpass_w\u001b[0m\u001b[1;33m)\u001b[0m\u001b[1;33m\u001b[0m\u001b[1;33m\u001b[0m\u001b[0m\n\u001b[0m",
      "\u001b[1;32m<ipython-input-6-955f43b3834e>\u001b[0m in \u001b[0;36mcreate_seed\u001b[1;34m(pass_w)\u001b[0m\n\u001b[0;32m      9\u001b[0m         \u001b[0mseed_dict\u001b[0m\u001b[1;33m.\u001b[0m\u001b[0mupdate\u001b[0m\u001b[1;33m(\u001b[0m \u001b[1;33m{\u001b[0m\u001b[0mword_count\u001b[0m \u001b[1;33m:\u001b[0m \u001b[0mword\u001b[0m\u001b[1;33m}\u001b[0m \u001b[1;33m)\u001b[0m\u001b[1;33m\u001b[0m\u001b[1;33m\u001b[0m\u001b[0m\n\u001b[0;32m     10\u001b[0m     \u001b[0mfile\u001b[0m \u001b[1;33m=\u001b[0m \u001b[0mopen\u001b[0m\u001b[1;33m(\u001b[0m\u001b[1;34m\".sd\"\u001b[0m\u001b[1;33m,\u001b[0m \u001b[1;34m\"w\"\u001b[0m\u001b[1;33m)\u001b[0m\u001b[1;33m\u001b[0m\u001b[1;33m\u001b[0m\u001b[0m\n\u001b[1;32m---> 11\u001b[1;33m     \u001b[0mfile\u001b[0m\u001b[1;33m.\u001b[0m\u001b[0mwrite\u001b[0m\u001b[1;33m(\u001b[0m\u001b[0mscrypt\u001b[0m\u001b[1;33m.\u001b[0m\u001b[0mencrypt\u001b[0m\u001b[1;33m(\u001b[0m\u001b[0mseed\u001b[0m\u001b[1;33m,\u001b[0m \u001b[1;34m\"hashlib.sha256(bytes(pass_w, 'utf-8')).hexdigest()\"\u001b[0m\u001b[1;33m,\u001b[0m \u001b[0mmaxtime\u001b[0m\u001b[1;33m=\u001b[0m\u001b[1;36m0.2\u001b[0m\u001b[1;33m)\u001b[0m\u001b[1;33m)\u001b[0m\u001b[1;33m\u001b[0m\u001b[1;33m\u001b[0m\u001b[0m\n\u001b[0m\u001b[0;32m     12\u001b[0m     \u001b[0mfile\u001b[0m\u001b[1;33m.\u001b[0m\u001b[0mclose\u001b[0m\u001b[1;33m(\u001b[0m\u001b[1;33m)\u001b[0m\u001b[1;33m\u001b[0m\u001b[1;33m\u001b[0m\u001b[0m\n\u001b[0;32m     13\u001b[0m     \u001b[1;32mreturn\u001b[0m \u001b[0mseed_dict\u001b[0m\u001b[1;33m\u001b[0m\u001b[1;33m\u001b[0m\u001b[0m\n",
      "\u001b[1;32m~\\Anaconda3\\lib\\site-packages\\scrypt\\scrypt.py\u001b[0m in \u001b[0;36mencrypt\u001b[1;34m(input, password, maxtime, maxmem, maxmemfrac)\u001b[0m\n\u001b[0;32m    134\u001b[0m                             maxmem, maxmemfrac, maxtime, 0)\n\u001b[0;32m    135\u001b[0m     \u001b[1;32mif\u001b[0m \u001b[0mresult\u001b[0m\u001b[1;33m:\u001b[0m\u001b[1;33m\u001b[0m\u001b[1;33m\u001b[0m\u001b[0m\n\u001b[1;32m--> 136\u001b[1;33m         \u001b[1;32mraise\u001b[0m \u001b[0merror\u001b[0m\u001b[1;33m(\u001b[0m\u001b[0mresult\u001b[0m\u001b[1;33m)\u001b[0m\u001b[1;33m\u001b[0m\u001b[1;33m\u001b[0m\u001b[0m\n\u001b[0m\u001b[0;32m    137\u001b[0m \u001b[1;33m\u001b[0m\u001b[0m\n\u001b[0;32m    138\u001b[0m     \u001b[1;32mreturn\u001b[0m \u001b[0moutbuf\u001b[0m\u001b[1;33m.\u001b[0m\u001b[0mraw\u001b[0m\u001b[1;33m\u001b[0m\u001b[1;33m\u001b[0m\u001b[0m\n",
      "\u001b[1;31merror\u001b[0m: could not read salt from /dev/urandom"
     ]
    }
   ],
   "source": [
    "x = create_seed(pass_w)"
   ]
  },
  {
   "cell_type": "code",
   "execution_count": 8,
   "metadata": {},
   "outputs": [],
   "source": [
    "def get_seed(pass_w):\n",
    "    file = open(\".sd\", \"r\")\n",
    "    encrypted_seed_phrase = file.read()\n",
    "    seed_phrase = scrypt.decrypt(encrypted_seed_phrase, hashlib.sha256(bytes(pass_w, 'utf-8')).hexdigest(), maxtime=0.1)\n",
    "    return seed_phrase"
   ]
  },
  {
   "cell_type": "code",
   "execution_count": 9,
   "metadata": {},
   "outputs": [
    {
     "ename": "error",
     "evalue": "could not read salt from /dev/urandom",
     "output_type": "error",
     "traceback": [
      "\u001b[1;31m---------------------------------------------------------------------------\u001b[0m",
      "\u001b[1;31merror\u001b[0m                                     Traceback (most recent call last)",
      "\u001b[1;32m<ipython-input-9-0004f02385fd>\u001b[0m in \u001b[0;36m<module>\u001b[1;34m\u001b[0m\n\u001b[1;32m----> 1\u001b[1;33m \u001b[0mscrypt\u001b[0m\u001b[1;33m.\u001b[0m\u001b[0mencrypt\u001b[0m\u001b[1;33m(\u001b[0m\u001b[0mseed\u001b[0m\u001b[1;33m,\u001b[0m \u001b[1;34m\"1234\"\u001b[0m\u001b[1;33m,\u001b[0m \u001b[0mmaxtime\u001b[0m\u001b[1;33m=\u001b[0m\u001b[1;36m0.2\u001b[0m\u001b[1;33m)\u001b[0m\u001b[1;33m\u001b[0m\u001b[1;33m\u001b[0m\u001b[0m\n\u001b[0m",
      "\u001b[1;32m~\\Anaconda3\\lib\\site-packages\\scrypt\\scrypt.py\u001b[0m in \u001b[0;36mencrypt\u001b[1;34m(input, password, maxtime, maxmem, maxmemfrac)\u001b[0m\n\u001b[0;32m    134\u001b[0m                             maxmem, maxmemfrac, maxtime, 0)\n\u001b[0;32m    135\u001b[0m     \u001b[1;32mif\u001b[0m \u001b[0mresult\u001b[0m\u001b[1;33m:\u001b[0m\u001b[1;33m\u001b[0m\u001b[1;33m\u001b[0m\u001b[0m\n\u001b[1;32m--> 136\u001b[1;33m         \u001b[1;32mraise\u001b[0m \u001b[0merror\u001b[0m\u001b[1;33m(\u001b[0m\u001b[0mresult\u001b[0m\u001b[1;33m)\u001b[0m\u001b[1;33m\u001b[0m\u001b[1;33m\u001b[0m\u001b[0m\n\u001b[0m\u001b[0;32m    137\u001b[0m \u001b[1;33m\u001b[0m\u001b[0m\n\u001b[0;32m    138\u001b[0m     \u001b[1;32mreturn\u001b[0m \u001b[0moutbuf\u001b[0m\u001b[1;33m.\u001b[0m\u001b[0mraw\u001b[0m\u001b[1;33m\u001b[0m\u001b[1;33m\u001b[0m\u001b[0m\n",
      "\u001b[1;31merror\u001b[0m: could not read salt from /dev/urandom"
     ]
    }
   ],
   "source": [
    "scrypt.encrypt(seed, \"1234\", maxtime=0.2)"
   ]
  },
  {
   "cell_type": "code",
   "execution_count": 10,
   "metadata": {},
   "outputs": [],
   "source": [
    "def derive_wallets(mnemonic, coins):\n",
    "    '''\n",
    "    Returns a dictionary object of 5 wallet address for each coin in coins arguement.\n",
    "    \n",
    "    Args:\n",
    "    mnemonic = str, a single string of 12, 15, 18, 21, or 24 words matching BIP39 specifications.\n",
    "    coins = [list], a list of coins to create wallet address for\n",
    "    \n",
    "    Supported coins: ETH, BTCTEST\n",
    "    '''\n",
    "    coin_dic={}\n",
    "    for coin in coins:\n",
    "        bashCommand2 = f'php ./derive -g --format=json --coin={coin} --numderive=5 --mnemonic {mnemonic}'\n",
    "        addresses = json.loads(subprocess.check_output(bashCommand2, shell=True))\n",
    "        coin_dic.update( {\n",
    "            coin:addresses\n",
    "        })\n",
    "    return coin_dic"
   ]
  },
  {
   "cell_type": "code",
   "execution_count": 11,
   "metadata": {},
   "outputs": [
    {
     "ename": "CalledProcessError",
     "evalue": "Command 'php ./derive -g --format=json --coin=ETH --numderive=5 --mnemonic index behind believe plastic base practice mention suit cross key tonight hole' returned non-zero exit status 1.",
     "output_type": "error",
     "traceback": [
      "\u001b[1;31m---------------------------------------------------------------------------\u001b[0m",
      "\u001b[1;31mCalledProcessError\u001b[0m                        Traceback (most recent call last)",
      "\u001b[1;32m<ipython-input-11-551ed0975c7b>\u001b[0m in \u001b[0;36m<module>\u001b[1;34m\u001b[0m\n\u001b[0;32m      1\u001b[0m \u001b[1;32mimport\u001b[0m \u001b[0msubprocess\u001b[0m\u001b[1;33m\u001b[0m\u001b[1;33m\u001b[0m\u001b[0m\n\u001b[0;32m      2\u001b[0m \u001b[0mcoin\u001b[0m \u001b[1;33m=\u001b[0m \u001b[1;33m[\u001b[0m\u001b[1;34m\"ETH\"\u001b[0m\u001b[1;33m,\u001b[0m \u001b[1;34m\"BTC\"\u001b[0m\u001b[1;33m]\u001b[0m\u001b[1;33m\u001b[0m\u001b[1;33m\u001b[0m\u001b[0m\n\u001b[1;32m----> 3\u001b[1;33m \u001b[0mderive_wallets\u001b[0m\u001b[1;33m(\u001b[0m\u001b[0mseed\u001b[0m\u001b[1;33m,\u001b[0m \u001b[0mcoin\u001b[0m\u001b[1;33m)\u001b[0m\u001b[1;33m\u001b[0m\u001b[1;33m\u001b[0m\u001b[0m\n\u001b[0m",
      "\u001b[1;32m<ipython-input-10-f550ece21497>\u001b[0m in \u001b[0;36mderive_wallets\u001b[1;34m(mnemonic, coins)\u001b[0m\n\u001b[0;32m     12\u001b[0m     \u001b[1;32mfor\u001b[0m \u001b[0mcoin\u001b[0m \u001b[1;32min\u001b[0m \u001b[0mcoins\u001b[0m\u001b[1;33m:\u001b[0m\u001b[1;33m\u001b[0m\u001b[1;33m\u001b[0m\u001b[0m\n\u001b[0;32m     13\u001b[0m         \u001b[0mbashCommand2\u001b[0m \u001b[1;33m=\u001b[0m \u001b[1;34mf'php ./derive -g --format=json --coin={coin} --numderive=5 --mnemonic {mnemonic}'\u001b[0m\u001b[1;33m\u001b[0m\u001b[1;33m\u001b[0m\u001b[0m\n\u001b[1;32m---> 14\u001b[1;33m         \u001b[0maddresses\u001b[0m \u001b[1;33m=\u001b[0m \u001b[0mjson\u001b[0m\u001b[1;33m.\u001b[0m\u001b[0mloads\u001b[0m\u001b[1;33m(\u001b[0m\u001b[0msubprocess\u001b[0m\u001b[1;33m.\u001b[0m\u001b[0mcheck_output\u001b[0m\u001b[1;33m(\u001b[0m\u001b[0mbashCommand2\u001b[0m\u001b[1;33m,\u001b[0m \u001b[0mshell\u001b[0m\u001b[1;33m=\u001b[0m\u001b[1;32mTrue\u001b[0m\u001b[1;33m)\u001b[0m\u001b[1;33m)\u001b[0m\u001b[1;33m\u001b[0m\u001b[1;33m\u001b[0m\u001b[0m\n\u001b[0m\u001b[0;32m     15\u001b[0m         coin_dic.update( {\n\u001b[0;32m     16\u001b[0m             \u001b[0mcoin\u001b[0m\u001b[1;33m:\u001b[0m\u001b[0maddresses\u001b[0m\u001b[1;33m\u001b[0m\u001b[1;33m\u001b[0m\u001b[0m\n",
      "\u001b[1;32m~\\Anaconda3\\lib\\subprocess.py\u001b[0m in \u001b[0;36mcheck_output\u001b[1;34m(timeout, *popenargs, **kwargs)\u001b[0m\n\u001b[0;32m    409\u001b[0m \u001b[1;33m\u001b[0m\u001b[0m\n\u001b[0;32m    410\u001b[0m     return run(*popenargs, stdout=PIPE, timeout=timeout, check=True,\n\u001b[1;32m--> 411\u001b[1;33m                **kwargs).stdout\n\u001b[0m\u001b[0;32m    412\u001b[0m \u001b[1;33m\u001b[0m\u001b[0m\n\u001b[0;32m    413\u001b[0m \u001b[1;33m\u001b[0m\u001b[0m\n",
      "\u001b[1;32m~\\Anaconda3\\lib\\subprocess.py\u001b[0m in \u001b[0;36mrun\u001b[1;34m(input, capture_output, timeout, check, *popenargs, **kwargs)\u001b[0m\n\u001b[0;32m    510\u001b[0m         \u001b[1;32mif\u001b[0m \u001b[0mcheck\u001b[0m \u001b[1;32mand\u001b[0m \u001b[0mretcode\u001b[0m\u001b[1;33m:\u001b[0m\u001b[1;33m\u001b[0m\u001b[1;33m\u001b[0m\u001b[0m\n\u001b[0;32m    511\u001b[0m             raise CalledProcessError(retcode, process.args,\n\u001b[1;32m--> 512\u001b[1;33m                                      output=stdout, stderr=stderr)\n\u001b[0m\u001b[0;32m    513\u001b[0m     \u001b[1;32mreturn\u001b[0m \u001b[0mCompletedProcess\u001b[0m\u001b[1;33m(\u001b[0m\u001b[0mprocess\u001b[0m\u001b[1;33m.\u001b[0m\u001b[0margs\u001b[0m\u001b[1;33m,\u001b[0m \u001b[0mretcode\u001b[0m\u001b[1;33m,\u001b[0m \u001b[0mstdout\u001b[0m\u001b[1;33m,\u001b[0m \u001b[0mstderr\u001b[0m\u001b[1;33m)\u001b[0m\u001b[1;33m\u001b[0m\u001b[1;33m\u001b[0m\u001b[0m\n\u001b[0;32m    514\u001b[0m \u001b[1;33m\u001b[0m\u001b[0m\n",
      "\u001b[1;31mCalledProcessError\u001b[0m: Command 'php ./derive -g --format=json --coin=ETH --numderive=5 --mnemonic index behind believe plastic base practice mention suit cross key tonight hole' returned non-zero exit status 1."
     ]
    }
   ],
   "source": [
    "import subprocess\n",
    "coin = [\"ETH\", \"BTC\"]\n",
    "derive_wallets(seed, coin)"
   ]
  },
  {
   "cell_type": "code",
   "execution_count": null,
   "metadata": {},
   "outputs": [],
   "source": []
  },
  {
   "cell_type": "code",
   "execution_count": 6,
   "metadata": {},
   "outputs": [
    {
     "data": {
      "text/plain": [
       "'3.7.6 (default, Jan  8 2020, 20:23:39) [MSC v.1916 64 bit (AMD64)]'"
      ]
     },
     "execution_count": 6,
     "metadata": {},
     "output_type": "execute_result"
    }
   ],
   "source": [
    "import sys\n",
    "sys.version"
   ]
  },
  {
   "cell_type": "code",
   "execution_count": 7,
   "metadata": {},
   "outputs": [],
   "source": [
    "import abc\n"
   ]
  },
  {
   "cell_type": "code",
   "execution_count": 8,
   "metadata": {},
   "outputs": [
    {
     "data": {
      "text/plain": [
       "<module 'abc' from 'C:\\\\Users\\\\cscat\\\\Anaconda3\\\\lib\\\\abc.py'>"
      ]
     },
     "execution_count": 8,
     "metadata": {},
     "output_type": "execute_result"
    }
   ],
   "source": [
    "abc"
   ]
  },
  {
   "cell_type": "code",
   "execution_count": 9,
   "metadata": {},
   "outputs": [
    {
     "data": {
      "text/plain": [
       "sys.version_info(major=3, minor=7, micro=6, releaselevel='final', serial=0)"
      ]
     },
     "execution_count": 9,
     "metadata": {},
     "output_type": "execute_result"
    }
   ],
   "source": [
    "sys.version_info"
   ]
  },
  {
   "cell_type": "code",
   "execution_count": 10,
   "metadata": {},
   "outputs": [
    {
     "data": {
      "text/plain": [
       "False"
      ]
     },
     "execution_count": 10,
     "metadata": {},
     "output_type": "execute_result"
    }
   ],
   "source": [
    "sys.version_info[0] == 2"
   ]
  },
  {
   "cell_type": "code",
   "execution_count": 11,
   "metadata": {},
   "outputs": [],
   "source": [
    "def byte_string(s):\n",
    "    return isinstance(s, bytes)"
   ]
  },
  {
   "cell_type": "code",
   "execution_count": 13,
   "metadata": {},
   "outputs": [
    {
     "data": {
      "text/plain": [
       "True"
      ]
     },
     "execution_count": 13,
     "metadata": {},
     "output_type": "execute_result"
    }
   ],
   "source": [
    "byte_string(b\"sting\")"
   ]
  },
  {
   "cell_type": "code",
   "execution_count": 26,
   "metadata": {},
   "outputs": [],
   "source": [
    "from Crypto.Util.py3compat import *"
   ]
  },
  {
   "cell_type": "code",
   "execution_count": 27,
   "metadata": {},
   "outputs": [
    {
     "data": {
      "text/plain": [
       "True"
      ]
     },
     "execution_count": 27,
     "metadata": {},
     "output_type": "execute_result"
    }
   ],
   "source": [
    "byte_string(b\"sere\")"
   ]
  },
  {
   "cell_type": "code",
   "execution_count": 18,
   "metadata": {},
   "outputs": [],
   "source": [
    "def derive_wallets(mnemonic, coin, nkeys):\n",
    "\n",
    "    command = f'/c/php/php.exe -f \"./hd-wallet-derive/hd-wallet-derive.php\" --mnemonic=\"{mnemonic}\" --coin={coin} --numderive={nkeys}  --format=json -g'\n",
    "    available_coins = \"./hd-wallet-derive.php --help-coins\" # --> currently not in use\n",
    "    new_process = subprocess.Popen(command, stdout=subprocess.PIPE, shell=True)\n",
    "\n",
    "    (output, err) = new_process.communicate()\n",
    "\n",
    "    p_status = new_process.wait()\n",
    "\n",
    "\n",
    "    return json.loads(output)"
   ]
  },
  {
   "cell_type": "code",
   "execution_count": 26,
   "metadata": {},
   "outputs": [],
   "source": [
    "def derive_wallets(mnemonic, coins):\n",
    "    '''\n",
    "    Returns a dictionary object of 5 wallet address for each coin in coins arguement.\n",
    "    \n",
    "    Args:\n",
    "    mnemonic = str, a single string of 12, 15, 18, 21, or 24 words matching BIP39 specifications.\n",
    "    coins = [list], a list of coins to create wallet address for\n",
    "    \n",
    "    Supported coins: ETH, BTCTEST\n",
    "    '''\n",
    "    coin_dic={}\n",
    "    for coin in coins:\n",
    "        bashCommand2 = f'/c/php/php.exe -f ./hd-wallet-derive/hd-wallet-derive.php -g --format=json --coin={coin} --numderive=5 --mnemonic {mnemonic}'\n",
    "        addresses = json.loads(subprocess.check_output(bashCommand2, shell=True))\n",
    "        coin_dic.update( {\n",
    "            coin:addresses\n",
    "        })\n",
    "    return coin_dic"
   ]
  },
  {
   "cell_type": "code",
   "execution_count": 27,
   "metadata": {},
   "outputs": [
    {
     "ename": "CalledProcessError",
     "evalue": "Command '/c/php/php.exe -f ./hd-wallet-derive/hd-wallet-derive.php -g --format=json --coin=BTC --numderive=5 --mnemonic sport awesome skill visual yard night session girl champion book innocent worth' returned non-zero exit status 1.",
     "output_type": "error",
     "traceback": [
      "\u001b[1;31m---------------------------------------------------------------------------\u001b[0m",
      "\u001b[1;31mCalledProcessError\u001b[0m                        Traceback (most recent call last)",
      "\u001b[1;32m<ipython-input-27-ff556abd7811>\u001b[0m in \u001b[0;36m<module>\u001b[1;34m\u001b[0m\n\u001b[0;32m      3\u001b[0m \u001b[0mcoin\u001b[0m \u001b[1;33m=\u001b[0m \u001b[1;33m[\u001b[0m\u001b[1;34m\"BTC\"\u001b[0m\u001b[1;33m]\u001b[0m\u001b[1;33m\u001b[0m\u001b[1;33m\u001b[0m\u001b[0m\n\u001b[0;32m      4\u001b[0m \u001b[0mnkeys\u001b[0m \u001b[1;33m=\u001b[0m \u001b[1;36m1\u001b[0m\u001b[1;33m\u001b[0m\u001b[1;33m\u001b[0m\u001b[0m\n\u001b[1;32m----> 5\u001b[1;33m \u001b[0mderive_wallets\u001b[0m\u001b[1;33m(\u001b[0m\u001b[0mmnemonic\u001b[0m\u001b[1;33m,\u001b[0m \u001b[0mcoin\u001b[0m\u001b[1;33m)\u001b[0m\u001b[1;33m\u001b[0m\u001b[1;33m\u001b[0m\u001b[0m\n\u001b[0m",
      "\u001b[1;32m<ipython-input-26-528b181d210a>\u001b[0m in \u001b[0;36mderive_wallets\u001b[1;34m(mnemonic, coins)\u001b[0m\n\u001b[0;32m     12\u001b[0m     \u001b[1;32mfor\u001b[0m \u001b[0mcoin\u001b[0m \u001b[1;32min\u001b[0m \u001b[0mcoins\u001b[0m\u001b[1;33m:\u001b[0m\u001b[1;33m\u001b[0m\u001b[1;33m\u001b[0m\u001b[0m\n\u001b[0;32m     13\u001b[0m         \u001b[0mbashCommand2\u001b[0m \u001b[1;33m=\u001b[0m \u001b[1;34mf'/c/php/php.exe -f ./hd-wallet-derive/hd-wallet-derive.php -g --format=json --coin={coin} --numderive=5 --mnemonic {mnemonic}'\u001b[0m\u001b[1;33m\u001b[0m\u001b[1;33m\u001b[0m\u001b[0m\n\u001b[1;32m---> 14\u001b[1;33m         \u001b[0maddresses\u001b[0m \u001b[1;33m=\u001b[0m \u001b[0mjson\u001b[0m\u001b[1;33m.\u001b[0m\u001b[0mloads\u001b[0m\u001b[1;33m(\u001b[0m\u001b[0msubprocess\u001b[0m\u001b[1;33m.\u001b[0m\u001b[0mcheck_output\u001b[0m\u001b[1;33m(\u001b[0m\u001b[0mbashCommand2\u001b[0m\u001b[1;33m,\u001b[0m \u001b[0mshell\u001b[0m\u001b[1;33m=\u001b[0m\u001b[1;32mTrue\u001b[0m\u001b[1;33m)\u001b[0m\u001b[1;33m)\u001b[0m\u001b[1;33m\u001b[0m\u001b[1;33m\u001b[0m\u001b[0m\n\u001b[0m\u001b[0;32m     15\u001b[0m         coin_dic.update( {\n\u001b[0;32m     16\u001b[0m             \u001b[0mcoin\u001b[0m\u001b[1;33m:\u001b[0m\u001b[0maddresses\u001b[0m\u001b[1;33m\u001b[0m\u001b[1;33m\u001b[0m\u001b[0m\n",
      "\u001b[1;32m~\\Anaconda3\\lib\\subprocess.py\u001b[0m in \u001b[0;36mcheck_output\u001b[1;34m(timeout, *popenargs, **kwargs)\u001b[0m\n\u001b[0;32m    409\u001b[0m \u001b[1;33m\u001b[0m\u001b[0m\n\u001b[0;32m    410\u001b[0m     return run(*popenargs, stdout=PIPE, timeout=timeout, check=True,\n\u001b[1;32m--> 411\u001b[1;33m                **kwargs).stdout\n\u001b[0m\u001b[0;32m    412\u001b[0m \u001b[1;33m\u001b[0m\u001b[0m\n\u001b[0;32m    413\u001b[0m \u001b[1;33m\u001b[0m\u001b[0m\n",
      "\u001b[1;32m~\\Anaconda3\\lib\\subprocess.py\u001b[0m in \u001b[0;36mrun\u001b[1;34m(input, capture_output, timeout, check, *popenargs, **kwargs)\u001b[0m\n\u001b[0;32m    510\u001b[0m         \u001b[1;32mif\u001b[0m \u001b[0mcheck\u001b[0m \u001b[1;32mand\u001b[0m \u001b[0mretcode\u001b[0m\u001b[1;33m:\u001b[0m\u001b[1;33m\u001b[0m\u001b[1;33m\u001b[0m\u001b[0m\n\u001b[0;32m    511\u001b[0m             raise CalledProcessError(retcode, process.args,\n\u001b[1;32m--> 512\u001b[1;33m                                      output=stdout, stderr=stderr)\n\u001b[0m\u001b[0;32m    513\u001b[0m     \u001b[1;32mreturn\u001b[0m \u001b[0mCompletedProcess\u001b[0m\u001b[1;33m(\u001b[0m\u001b[0mprocess\u001b[0m\u001b[1;33m.\u001b[0m\u001b[0margs\u001b[0m\u001b[1;33m,\u001b[0m \u001b[0mretcode\u001b[0m\u001b[1;33m,\u001b[0m \u001b[0mstdout\u001b[0m\u001b[1;33m,\u001b[0m \u001b[0mstderr\u001b[0m\u001b[1;33m)\u001b[0m\u001b[1;33m\u001b[0m\u001b[1;33m\u001b[0m\u001b[0m\n\u001b[0;32m    514\u001b[0m \u001b[1;33m\u001b[0m\u001b[0m\n",
      "\u001b[1;31mCalledProcessError\u001b[0m: Command '/c/php/php.exe -f ./hd-wallet-derive/hd-wallet-derive.php -g --format=json --coin=BTC --numderive=5 --mnemonic sport awesome skill visual yard night session girl champion book innocent worth' returned non-zero exit status 1."
     ]
    }
   ],
   "source": [
    "\n",
    "mnemonic = seed\n",
    "coin = [\"BTC\"]\n",
    "nkeys = 1\n",
    "derive_wallets(mnemonic, coin)"
   ]
  },
  {
   "cell_type": "code",
   "execution_count": null,
   "metadata": {},
   "outputs": [],
   "source": [
    "/c/php/php.exe -f \"./hd-wallet-derive/hd-wallet-derive.php\" -g --format=json --coin=\"BTC\" --numderive=5 --mnemonic \"sport awesome skill visual yard night session girl champion book innocent worth\""
   ]
  }
 ],
 "metadata": {
  "kernelspec": {
   "display_name": "Python 3",
   "language": "python",
   "name": "python3"
  },
  "language_info": {
   "codemirror_mode": {
    "name": "ipython",
    "version": 3
   },
   "file_extension": ".py",
   "mimetype": "text/x-python",
   "name": "python",
   "nbconvert_exporter": "python",
   "pygments_lexer": "ipython3",
   "version": "3.7.4"
  }
 },
 "nbformat": 4,
 "nbformat_minor": 4
}
