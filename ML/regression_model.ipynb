{
 "cells": [
  {
   "cell_type": "code",
   "execution_count": 1,
   "metadata": {},
   "outputs": [
    {
     "name": "stderr",
     "output_type": "stream",
     "text": [
      "C:\\Users\\willi\\Anaconda3\\lib\\site-packages\\sklearn\\utils\\deprecation.py:144: FutureWarning: The sklearn.ensemble.forest module is  deprecated in version 0.22 and will be removed in version 0.24. The corresponding classes / functions should instead be imported from sklearn.ensemble. Anything that cannot be imported from sklearn.ensemble is now part of the private API.\n",
      "  warnings.warn(message, FutureWarning)\n",
      "C:\\Users\\willi\\Anaconda3\\lib\\site-packages\\sklearn\\externals\\joblib\\__init__.py:15: FutureWarning: sklearn.externals.joblib is deprecated in 0.21 and will be removed in 0.23. Please import this functionality directly from joblib, which can be installed with: pip install joblib. If this warning is raised when loading pickled models, you may need to re-serialize those models with scikit-learn 0.21+.\n",
      "  warnings.warn(msg, category=FutureWarning)\n",
      "C:\\Users\\willi\\Anaconda3\\lib\\site-packages\\sklearn\\externals\\six.py:31: FutureWarning: The module is deprecated in version 0.21 and will be removed in version 0.23 since we've dropped support for Python 2.7. Please rely on the official version of six (https://pypi.org/project/six/).\n",
      "  \"(https://pypi.org/project/six/).\", FutureWarning)\n",
      "C:\\Users\\willi\\Anaconda3\\lib\\site-packages\\sklearn\\utils\\deprecation.py:144: FutureWarning: The sklearn.tree.tree module is  deprecated in version 0.22 and will be removed in version 0.24. The corresponding classes / functions should instead be imported from sklearn.tree. Anything that cannot be imported from sklearn.tree is now part of the private API.\n",
      "  warnings.warn(message, FutureWarning)\n"
     ]
    }
   ],
   "source": [
    "import pandas as pd\n",
    "from sklearn.ensemble import RandomForestRegressor\n",
    "from skgarden import RandomForestQuantileRegressor\n",
    "import warnings\n",
    "warnings.filterwarnings(\"ignore\")\n",
    "import numpy as np\n",
    "import matplotlib.pyplot as plt\n"
   ]
  },
  {
   "cell_type": "code",
   "execution_count": 2,
   "metadata": {},
   "outputs": [],
   "source": [
    "currency_btc_df = pd.read_csv('./Data/final_currency_df.csv', index_col = 'Date')"
   ]
  },
  {
   "cell_type": "code",
   "execution_count": 3,
   "metadata": {},
   "outputs": [
    {
     "data": {
      "text/html": [
       "<div>\n",
       "<style scoped>\n",
       "    .dataframe tbody tr th:only-of-type {\n",
       "        vertical-align: middle;\n",
       "    }\n",
       "\n",
       "    .dataframe tbody tr th {\n",
       "        vertical-align: top;\n",
       "    }\n",
       "\n",
       "    .dataframe thead th {\n",
       "        text-align: right;\n",
       "    }\n",
       "</style>\n",
       "<table border=\"1\" class=\"dataframe\">\n",
       "  <thead>\n",
       "    <tr style=\"text-align: right;\">\n",
       "      <th></th>\n",
       "      <th>BTC_Price</th>\n",
       "      <th>BTC_Volume</th>\n",
       "      <th>USD/CNY_Price</th>\n",
       "      <th>USD/CNY_PCT_CHANGE</th>\n",
       "      <th>USD/EUR_Price</th>\n",
       "      <th>USD/EUR_PCT_CHANGE</th>\n",
       "      <th>USD/JPY_Price</th>\n",
       "      <th>USD/JPY_PCT_CHANGE</th>\n",
       "    </tr>\n",
       "    <tr>\n",
       "      <th>Date</th>\n",
       "      <th></th>\n",
       "      <th></th>\n",
       "      <th></th>\n",
       "      <th></th>\n",
       "      <th></th>\n",
       "      <th></th>\n",
       "      <th></th>\n",
       "      <th></th>\n",
       "    </tr>\n",
       "  </thead>\n",
       "  <tbody>\n",
       "    <tr>\n",
       "      <th>2017-01-13</th>\n",
       "      <td>823.984009</td>\n",
       "      <td>168968000</td>\n",
       "      <td>6.9005</td>\n",
       "      <td>0.13</td>\n",
       "      <td>0.9395</td>\n",
       "      <td>-0.30</td>\n",
       "      <td>114.53</td>\n",
       "      <td>-0.17</td>\n",
       "    </tr>\n",
       "    <tr>\n",
       "      <th>2017-01-14</th>\n",
       "      <td>818.411987</td>\n",
       "      <td>93063296</td>\n",
       "      <td>6.9005</td>\n",
       "      <td>0.00</td>\n",
       "      <td>0.9395</td>\n",
       "      <td>0.00</td>\n",
       "      <td>114.53</td>\n",
       "      <td>0.00</td>\n",
       "    </tr>\n",
       "    <tr>\n",
       "      <th>2017-01-15</th>\n",
       "      <td>821.797974</td>\n",
       "      <td>71013600</td>\n",
       "      <td>6.9005</td>\n",
       "      <td>0.00</td>\n",
       "      <td>0.9395</td>\n",
       "      <td>0.00</td>\n",
       "      <td>114.53</td>\n",
       "      <td>0.00</td>\n",
       "    </tr>\n",
       "    <tr>\n",
       "      <th>2017-01-16</th>\n",
       "      <td>831.533997</td>\n",
       "      <td>82755200</td>\n",
       "      <td>6.9009</td>\n",
       "      <td>0.01</td>\n",
       "      <td>0.9432</td>\n",
       "      <td>0.39</td>\n",
       "      <td>114.20</td>\n",
       "      <td>-0.29</td>\n",
       "    </tr>\n",
       "    <tr>\n",
       "      <th>2017-01-17</th>\n",
       "      <td>907.937988</td>\n",
       "      <td>155095008</td>\n",
       "      <td>6.8546</td>\n",
       "      <td>-0.67</td>\n",
       "      <td>0.9334</td>\n",
       "      <td>-1.04</td>\n",
       "      <td>112.64</td>\n",
       "      <td>-1.37</td>\n",
       "    </tr>\n",
       "  </tbody>\n",
       "</table>\n",
       "</div>"
      ],
      "text/plain": [
       "             BTC_Price  BTC_Volume  USD/CNY_Price  USD/CNY_PCT_CHANGE  \\\n",
       "Date                                                                    \n",
       "2017-01-13  823.984009   168968000         6.9005                0.13   \n",
       "2017-01-14  818.411987    93063296         6.9005                0.00   \n",
       "2017-01-15  821.797974    71013600         6.9005                0.00   \n",
       "2017-01-16  831.533997    82755200         6.9009                0.01   \n",
       "2017-01-17  907.937988   155095008         6.8546               -0.67   \n",
       "\n",
       "            USD/EUR_Price  USD/EUR_PCT_CHANGE  USD/JPY_Price  \\\n",
       "Date                                                           \n",
       "2017-01-13         0.9395               -0.30         114.53   \n",
       "2017-01-14         0.9395                0.00         114.53   \n",
       "2017-01-15         0.9395                0.00         114.53   \n",
       "2017-01-16         0.9432                0.39         114.20   \n",
       "2017-01-17         0.9334               -1.04         112.64   \n",
       "\n",
       "            USD/JPY_PCT_CHANGE  \n",
       "Date                            \n",
       "2017-01-13               -0.17  \n",
       "2017-01-14                0.00  \n",
       "2017-01-15                0.00  \n",
       "2017-01-16               -0.29  \n",
       "2017-01-17               -1.37  "
      ]
     },
     "execution_count": 3,
     "metadata": {},
     "output_type": "execute_result"
    }
   ],
   "source": [
    "currency_btc_df.head()"
   ]
  },
  {
   "cell_type": "code",
   "execution_count": 4,
   "metadata": {},
   "outputs": [],
   "source": [
    "currency_btc_df['BTC_Previous_Day_Close'] = currency_btc_df['BTC_Price'].shift(1)"
   ]
  },
  {
   "cell_type": "code",
   "execution_count": 5,
   "metadata": {},
   "outputs": [],
   "source": [
    "currency_btc_df = currency_btc_df.dropna()"
   ]
  },
  {
   "cell_type": "code",
   "execution_count": 6,
   "metadata": {},
   "outputs": [
    {
     "data": {
      "text/html": [
       "<div>\n",
       "<style scoped>\n",
       "    .dataframe tbody tr th:only-of-type {\n",
       "        vertical-align: middle;\n",
       "    }\n",
       "\n",
       "    .dataframe tbody tr th {\n",
       "        vertical-align: top;\n",
       "    }\n",
       "\n",
       "    .dataframe thead th {\n",
       "        text-align: right;\n",
       "    }\n",
       "</style>\n",
       "<table border=\"1\" class=\"dataframe\">\n",
       "  <thead>\n",
       "    <tr style=\"text-align: right;\">\n",
       "      <th></th>\n",
       "      <th>BTC_Price</th>\n",
       "      <th>BTC_Volume</th>\n",
       "      <th>USD/CNY_Price</th>\n",
       "      <th>USD/CNY_PCT_CHANGE</th>\n",
       "      <th>USD/EUR_Price</th>\n",
       "      <th>USD/EUR_PCT_CHANGE</th>\n",
       "      <th>USD/JPY_Price</th>\n",
       "      <th>USD/JPY_PCT_CHANGE</th>\n",
       "      <th>BTC_Previous_Day_Close</th>\n",
       "    </tr>\n",
       "    <tr>\n",
       "      <th>Date</th>\n",
       "      <th></th>\n",
       "      <th></th>\n",
       "      <th></th>\n",
       "      <th></th>\n",
       "      <th></th>\n",
       "      <th></th>\n",
       "      <th></th>\n",
       "      <th></th>\n",
       "      <th></th>\n",
       "    </tr>\n",
       "  </thead>\n",
       "  <tbody>\n",
       "    <tr>\n",
       "      <th>2017-01-14</th>\n",
       "      <td>818.411987</td>\n",
       "      <td>93063296</td>\n",
       "      <td>6.9005</td>\n",
       "      <td>0.00</td>\n",
       "      <td>0.9395</td>\n",
       "      <td>0.00</td>\n",
       "      <td>114.53</td>\n",
       "      <td>0.00</td>\n",
       "      <td>823.984009</td>\n",
       "    </tr>\n",
       "    <tr>\n",
       "      <th>2017-01-15</th>\n",
       "      <td>821.797974</td>\n",
       "      <td>71013600</td>\n",
       "      <td>6.9005</td>\n",
       "      <td>0.00</td>\n",
       "      <td>0.9395</td>\n",
       "      <td>0.00</td>\n",
       "      <td>114.53</td>\n",
       "      <td>0.00</td>\n",
       "      <td>818.411987</td>\n",
       "    </tr>\n",
       "    <tr>\n",
       "      <th>2017-01-16</th>\n",
       "      <td>831.533997</td>\n",
       "      <td>82755200</td>\n",
       "      <td>6.9009</td>\n",
       "      <td>0.01</td>\n",
       "      <td>0.9432</td>\n",
       "      <td>0.39</td>\n",
       "      <td>114.20</td>\n",
       "      <td>-0.29</td>\n",
       "      <td>821.797974</td>\n",
       "    </tr>\n",
       "    <tr>\n",
       "      <th>2017-01-17</th>\n",
       "      <td>907.937988</td>\n",
       "      <td>155095008</td>\n",
       "      <td>6.8546</td>\n",
       "      <td>-0.67</td>\n",
       "      <td>0.9334</td>\n",
       "      <td>-1.04</td>\n",
       "      <td>112.64</td>\n",
       "      <td>-1.37</td>\n",
       "      <td>831.533997</td>\n",
       "    </tr>\n",
       "    <tr>\n",
       "      <th>2017-01-18</th>\n",
       "      <td>886.617981</td>\n",
       "      <td>225676992</td>\n",
       "      <td>6.8390</td>\n",
       "      <td>-0.23</td>\n",
       "      <td>0.9406</td>\n",
       "      <td>0.77</td>\n",
       "      <td>114.67</td>\n",
       "      <td>1.80</td>\n",
       "      <td>907.937988</td>\n",
       "    </tr>\n",
       "  </tbody>\n",
       "</table>\n",
       "</div>"
      ],
      "text/plain": [
       "             BTC_Price  BTC_Volume  USD/CNY_Price  USD/CNY_PCT_CHANGE  \\\n",
       "Date                                                                    \n",
       "2017-01-14  818.411987    93063296         6.9005                0.00   \n",
       "2017-01-15  821.797974    71013600         6.9005                0.00   \n",
       "2017-01-16  831.533997    82755200         6.9009                0.01   \n",
       "2017-01-17  907.937988   155095008         6.8546               -0.67   \n",
       "2017-01-18  886.617981   225676992         6.8390               -0.23   \n",
       "\n",
       "            USD/EUR_Price  USD/EUR_PCT_CHANGE  USD/JPY_Price  \\\n",
       "Date                                                           \n",
       "2017-01-14         0.9395                0.00         114.53   \n",
       "2017-01-15         0.9395                0.00         114.53   \n",
       "2017-01-16         0.9432                0.39         114.20   \n",
       "2017-01-17         0.9334               -1.04         112.64   \n",
       "2017-01-18         0.9406                0.77         114.67   \n",
       "\n",
       "            USD/JPY_PCT_CHANGE  BTC_Previous_Day_Close  \n",
       "Date                                                    \n",
       "2017-01-14                0.00              823.984009  \n",
       "2017-01-15                0.00              818.411987  \n",
       "2017-01-16               -0.29              821.797974  \n",
       "2017-01-17               -1.37              831.533997  \n",
       "2017-01-18                1.80              907.937988  "
      ]
     },
     "execution_count": 6,
     "metadata": {},
     "output_type": "execute_result"
    }
   ],
   "source": [
    "currency_btc_df.head()"
   ]
  },
  {
   "cell_type": "code",
   "execution_count": 7,
   "metadata": {},
   "outputs": [],
   "source": [
    "X = currency_btc_df.drop(columns = 'BTC_Price')"
   ]
  },
  {
   "cell_type": "code",
   "execution_count": 8,
   "metadata": {},
   "outputs": [],
   "source": [
    "y = currency_btc_df['BTC_Price']"
   ]
  },
  {
   "cell_type": "code",
   "execution_count": 9,
   "metadata": {},
   "outputs": [
    {
     "data": {
      "text/plain": [
       "1095"
      ]
     },
     "execution_count": 9,
     "metadata": {},
     "output_type": "execute_result"
    }
   ],
   "source": [
    "len(X)"
   ]
  },
  {
   "cell_type": "code",
   "execution_count": 10,
   "metadata": {},
   "outputs": [
    {
     "data": {
      "text/plain": [
       "1095"
      ]
     },
     "execution_count": 10,
     "metadata": {},
     "output_type": "execute_result"
    }
   ],
   "source": [
    "len(y)"
   ]
  },
  {
   "cell_type": "code",
   "execution_count": 44,
   "metadata": {},
   "outputs": [],
   "source": [
    "training_X = X[:1080]"
   ]
  },
  {
   "cell_type": "code",
   "execution_count": 19,
   "metadata": {},
   "outputs": [
    {
     "data": {
      "text/html": [
       "<div>\n",
       "<style scoped>\n",
       "    .dataframe tbody tr th:only-of-type {\n",
       "        vertical-align: middle;\n",
       "    }\n",
       "\n",
       "    .dataframe tbody tr th {\n",
       "        vertical-align: top;\n",
       "    }\n",
       "\n",
       "    .dataframe thead th {\n",
       "        text-align: right;\n",
       "    }\n",
       "</style>\n",
       "<table border=\"1\" class=\"dataframe\">\n",
       "  <thead>\n",
       "    <tr style=\"text-align: right;\">\n",
       "      <th></th>\n",
       "      <th>BTC_Volume</th>\n",
       "      <th>USD/CNY_Price</th>\n",
       "      <th>USD/CNY_PCT_CHANGE</th>\n",
       "      <th>USD/EUR_Price</th>\n",
       "      <th>USD/EUR_PCT_CHANGE</th>\n",
       "      <th>USD/JPY_Price</th>\n",
       "      <th>USD/JPY_PCT_CHANGE</th>\n",
       "      <th>BTC_Previous_Day_Close</th>\n",
       "    </tr>\n",
       "    <tr>\n",
       "      <th>Date</th>\n",
       "      <th></th>\n",
       "      <th></th>\n",
       "      <th></th>\n",
       "      <th></th>\n",
       "      <th></th>\n",
       "      <th></th>\n",
       "      <th></th>\n",
       "      <th></th>\n",
       "    </tr>\n",
       "  </thead>\n",
       "  <tbody>\n",
       "    <tr>\n",
       "      <th>2017-01-14</th>\n",
       "      <td>93063296</td>\n",
       "      <td>6.9005</td>\n",
       "      <td>0.00</td>\n",
       "      <td>0.9395</td>\n",
       "      <td>0.00</td>\n",
       "      <td>114.53</td>\n",
       "      <td>0.00</td>\n",
       "      <td>823.984009</td>\n",
       "    </tr>\n",
       "    <tr>\n",
       "      <th>2017-01-15</th>\n",
       "      <td>71013600</td>\n",
       "      <td>6.9005</td>\n",
       "      <td>0.00</td>\n",
       "      <td>0.9395</td>\n",
       "      <td>0.00</td>\n",
       "      <td>114.53</td>\n",
       "      <td>0.00</td>\n",
       "      <td>818.411987</td>\n",
       "    </tr>\n",
       "    <tr>\n",
       "      <th>2017-01-16</th>\n",
       "      <td>82755200</td>\n",
       "      <td>6.9009</td>\n",
       "      <td>0.01</td>\n",
       "      <td>0.9432</td>\n",
       "      <td>0.39</td>\n",
       "      <td>114.20</td>\n",
       "      <td>-0.29</td>\n",
       "      <td>821.797974</td>\n",
       "    </tr>\n",
       "    <tr>\n",
       "      <th>2017-01-17</th>\n",
       "      <td>155095008</td>\n",
       "      <td>6.8546</td>\n",
       "      <td>-0.67</td>\n",
       "      <td>0.9334</td>\n",
       "      <td>-1.04</td>\n",
       "      <td>112.64</td>\n",
       "      <td>-1.37</td>\n",
       "      <td>831.533997</td>\n",
       "    </tr>\n",
       "    <tr>\n",
       "      <th>2017-01-18</th>\n",
       "      <td>225676992</td>\n",
       "      <td>6.8390</td>\n",
       "      <td>-0.23</td>\n",
       "      <td>0.9406</td>\n",
       "      <td>0.77</td>\n",
       "      <td>114.67</td>\n",
       "      <td>1.80</td>\n",
       "      <td>907.937988</td>\n",
       "    </tr>\n",
       "    <tr>\n",
       "      <th>...</th>\n",
       "      <td>...</td>\n",
       "      <td>...</td>\n",
       "      <td>...</td>\n",
       "      <td>...</td>\n",
       "      <td>...</td>\n",
       "      <td>...</td>\n",
       "      <td>...</td>\n",
       "      <td>...</td>\n",
       "    </tr>\n",
       "    <tr>\n",
       "      <th>2020-01-05</th>\n",
       "      <td>19725074094</td>\n",
       "      <td>6.9655</td>\n",
       "      <td>0.00</td>\n",
       "      <td>0.8959</td>\n",
       "      <td>0.00</td>\n",
       "      <td>108.09</td>\n",
       "      <td>0.00</td>\n",
       "      <td>7410.656738</td>\n",
       "    </tr>\n",
       "    <tr>\n",
       "      <th>2020-01-06</th>\n",
       "      <td>23276261598</td>\n",
       "      <td>6.9760</td>\n",
       "      <td>0.15</td>\n",
       "      <td>0.8930</td>\n",
       "      <td>-0.32</td>\n",
       "      <td>108.38</td>\n",
       "      <td>0.27</td>\n",
       "      <td>7411.317383</td>\n",
       "    </tr>\n",
       "    <tr>\n",
       "      <th>2020-01-07</th>\n",
       "      <td>28767291326</td>\n",
       "      <td>6.9452</td>\n",
       "      <td>-0.44</td>\n",
       "      <td>0.8965</td>\n",
       "      <td>0.39</td>\n",
       "      <td>108.44</td>\n",
       "      <td>0.06</td>\n",
       "      <td>7769.219238</td>\n",
       "    </tr>\n",
       "    <tr>\n",
       "      <th>2020-01-08</th>\n",
       "      <td>31672559264</td>\n",
       "      <td>6.9462</td>\n",
       "      <td>0.01</td>\n",
       "      <td>0.9004</td>\n",
       "      <td>0.44</td>\n",
       "      <td>109.14</td>\n",
       "      <td>0.65</td>\n",
       "      <td>8163.692383</td>\n",
       "    </tr>\n",
       "    <tr>\n",
       "      <th>2020-01-09</th>\n",
       "      <td>24045990465</td>\n",
       "      <td>6.9318</td>\n",
       "      <td>-0.21</td>\n",
       "      <td>0.9004</td>\n",
       "      <td>0.00</td>\n",
       "      <td>109.52</td>\n",
       "      <td>0.35</td>\n",
       "      <td>8079.862793</td>\n",
       "    </tr>\n",
       "  </tbody>\n",
       "</table>\n",
       "<p>1091 rows × 8 columns</p>\n",
       "</div>"
      ],
      "text/plain": [
       "             BTC_Volume  USD/CNY_Price  USD/CNY_PCT_CHANGE  USD/EUR_Price  \\\n",
       "Date                                                                        \n",
       "2017-01-14     93063296         6.9005                0.00         0.9395   \n",
       "2017-01-15     71013600         6.9005                0.00         0.9395   \n",
       "2017-01-16     82755200         6.9009                0.01         0.9432   \n",
       "2017-01-17    155095008         6.8546               -0.67         0.9334   \n",
       "2017-01-18    225676992         6.8390               -0.23         0.9406   \n",
       "...                 ...            ...                 ...            ...   \n",
       "2020-01-05  19725074094         6.9655                0.00         0.8959   \n",
       "2020-01-06  23276261598         6.9760                0.15         0.8930   \n",
       "2020-01-07  28767291326         6.9452               -0.44         0.8965   \n",
       "2020-01-08  31672559264         6.9462                0.01         0.9004   \n",
       "2020-01-09  24045990465         6.9318               -0.21         0.9004   \n",
       "\n",
       "            USD/EUR_PCT_CHANGE  USD/JPY_Price  USD/JPY_PCT_CHANGE  \\\n",
       "Date                                                                \n",
       "2017-01-14                0.00         114.53                0.00   \n",
       "2017-01-15                0.00         114.53                0.00   \n",
       "2017-01-16                0.39         114.20               -0.29   \n",
       "2017-01-17               -1.04         112.64               -1.37   \n",
       "2017-01-18                0.77         114.67                1.80   \n",
       "...                        ...            ...                 ...   \n",
       "2020-01-05                0.00         108.09                0.00   \n",
       "2020-01-06               -0.32         108.38                0.27   \n",
       "2020-01-07                0.39         108.44                0.06   \n",
       "2020-01-08                0.44         109.14                0.65   \n",
       "2020-01-09                0.00         109.52                0.35   \n",
       "\n",
       "            BTC_Previous_Day_Close  \n",
       "Date                                \n",
       "2017-01-14              823.984009  \n",
       "2017-01-15              818.411987  \n",
       "2017-01-16              821.797974  \n",
       "2017-01-17              831.533997  \n",
       "2017-01-18              907.937988  \n",
       "...                            ...  \n",
       "2020-01-05             7410.656738  \n",
       "2020-01-06             7411.317383  \n",
       "2020-01-07             7769.219238  \n",
       "2020-01-08             8163.692383  \n",
       "2020-01-09             8079.862793  \n",
       "\n",
       "[1091 rows x 8 columns]"
      ]
     },
     "execution_count": 19,
     "metadata": {},
     "output_type": "execute_result"
    }
   ],
   "source": [
    "training_X"
   ]
  },
  {
   "cell_type": "code",
   "execution_count": 45,
   "metadata": {},
   "outputs": [],
   "source": [
    "training_y = y[:1080]"
   ]
  },
  {
   "cell_type": "code",
   "execution_count": 46,
   "metadata": {},
   "outputs": [
    {
     "data": {
      "text/plain": [
       "Date\n",
       "2019-12-25    7275.155762\n",
       "2019-12-26    7238.966797\n",
       "2019-12-27    7290.088379\n",
       "2019-12-28    7317.990234\n",
       "2019-12-29    7422.652832\n",
       "Name: BTC_Price, dtype: float64"
      ]
     },
     "execution_count": 46,
     "metadata": {},
     "output_type": "execute_result"
    }
   ],
   "source": [
    "training_y.tail()"
   ]
  },
  {
   "cell_type": "code",
   "execution_count": 47,
   "metadata": {},
   "outputs": [],
   "source": [
    "testing_X = X[1080:]"
   ]
  },
  {
   "cell_type": "code",
   "execution_count": 48,
   "metadata": {},
   "outputs": [
    {
     "data": {
      "text/html": [
       "<div>\n",
       "<style scoped>\n",
       "    .dataframe tbody tr th:only-of-type {\n",
       "        vertical-align: middle;\n",
       "    }\n",
       "\n",
       "    .dataframe tbody tr th {\n",
       "        vertical-align: top;\n",
       "    }\n",
       "\n",
       "    .dataframe thead th {\n",
       "        text-align: right;\n",
       "    }\n",
       "</style>\n",
       "<table border=\"1\" class=\"dataframe\">\n",
       "  <thead>\n",
       "    <tr style=\"text-align: right;\">\n",
       "      <th></th>\n",
       "      <th>BTC_Volume</th>\n",
       "      <th>USD/CNY_Price</th>\n",
       "      <th>USD/CNY_PCT_CHANGE</th>\n",
       "      <th>USD/EUR_Price</th>\n",
       "      <th>USD/EUR_PCT_CHANGE</th>\n",
       "      <th>USD/JPY_Price</th>\n",
       "      <th>USD/JPY_PCT_CHANGE</th>\n",
       "      <th>BTC_Previous_Day_Close</th>\n",
       "    </tr>\n",
       "    <tr>\n",
       "      <th>Date</th>\n",
       "      <th></th>\n",
       "      <th></th>\n",
       "      <th></th>\n",
       "      <th></th>\n",
       "      <th></th>\n",
       "      <th></th>\n",
       "      <th></th>\n",
       "      <th></th>\n",
       "    </tr>\n",
       "  </thead>\n",
       "  <tbody>\n",
       "    <tr>\n",
       "      <th>2019-12-30</th>\n",
       "      <td>22874131671</td>\n",
       "      <td>6.9867</td>\n",
       "      <td>-0.13</td>\n",
       "      <td>0.8930</td>\n",
       "      <td>-0.20</td>\n",
       "      <td>108.88</td>\n",
       "      <td>-0.49</td>\n",
       "      <td>7422.652832</td>\n",
       "    </tr>\n",
       "    <tr>\n",
       "      <th>2019-12-31</th>\n",
       "      <td>21167946112</td>\n",
       "      <td>6.9632</td>\n",
       "      <td>-0.34</td>\n",
       "      <td>0.8919</td>\n",
       "      <td>-0.12</td>\n",
       "      <td>108.62</td>\n",
       "      <td>-0.24</td>\n",
       "      <td>7292.995117</td>\n",
       "    </tr>\n",
       "    <tr>\n",
       "      <th>2020-01-01</th>\n",
       "      <td>18565664996</td>\n",
       "      <td>6.9632</td>\n",
       "      <td>0.00</td>\n",
       "      <td>0.8919</td>\n",
       "      <td>0.00</td>\n",
       "      <td>108.70</td>\n",
       "      <td>0.07</td>\n",
       "      <td>7193.599121</td>\n",
       "    </tr>\n",
       "    <tr>\n",
       "      <th>2020-01-02</th>\n",
       "      <td>20802083465</td>\n",
       "      <td>6.9643</td>\n",
       "      <td>0.02</td>\n",
       "      <td>0.8950</td>\n",
       "      <td>0.35</td>\n",
       "      <td>108.58</td>\n",
       "      <td>-0.11</td>\n",
       "      <td>7200.174316</td>\n",
       "    </tr>\n",
       "    <tr>\n",
       "      <th>2020-01-03</th>\n",
       "      <td>28111481031</td>\n",
       "      <td>6.9655</td>\n",
       "      <td>0.02</td>\n",
       "      <td>0.8959</td>\n",
       "      <td>0.10</td>\n",
       "      <td>108.09</td>\n",
       "      <td>-0.45</td>\n",
       "      <td>6985.470215</td>\n",
       "    </tr>\n",
       "  </tbody>\n",
       "</table>\n",
       "</div>"
      ],
      "text/plain": [
       "             BTC_Volume  USD/CNY_Price  USD/CNY_PCT_CHANGE  USD/EUR_Price  \\\n",
       "Date                                                                        \n",
       "2019-12-30  22874131671         6.9867               -0.13         0.8930   \n",
       "2019-12-31  21167946112         6.9632               -0.34         0.8919   \n",
       "2020-01-01  18565664996         6.9632                0.00         0.8919   \n",
       "2020-01-02  20802083465         6.9643                0.02         0.8950   \n",
       "2020-01-03  28111481031         6.9655                0.02         0.8959   \n",
       "\n",
       "            USD/EUR_PCT_CHANGE  USD/JPY_Price  USD/JPY_PCT_CHANGE  \\\n",
       "Date                                                                \n",
       "2019-12-30               -0.20         108.88               -0.49   \n",
       "2019-12-31               -0.12         108.62               -0.24   \n",
       "2020-01-01                0.00         108.70                0.07   \n",
       "2020-01-02                0.35         108.58               -0.11   \n",
       "2020-01-03                0.10         108.09               -0.45   \n",
       "\n",
       "            BTC_Previous_Day_Close  \n",
       "Date                                \n",
       "2019-12-30             7422.652832  \n",
       "2019-12-31             7292.995117  \n",
       "2020-01-01             7193.599121  \n",
       "2020-01-02             7200.174316  \n",
       "2020-01-03             6985.470215  "
      ]
     },
     "execution_count": 48,
     "metadata": {},
     "output_type": "execute_result"
    }
   ],
   "source": [
    "testing_X.head()"
   ]
  },
  {
   "cell_type": "code",
   "execution_count": 49,
   "metadata": {},
   "outputs": [],
   "source": [
    "testing_y = y[1080:]"
   ]
  },
  {
   "cell_type": "code",
   "execution_count": 50,
   "metadata": {},
   "outputs": [
    {
     "data": {
      "text/plain": [
       "Date\n",
       "2019-12-30    7292.995117\n",
       "2019-12-31    7193.599121\n",
       "2020-01-01    7200.174316\n",
       "2020-01-02    6985.470215\n",
       "2020-01-03    7344.884277\n",
       "Name: BTC_Price, dtype: float64"
      ]
     },
     "execution_count": 50,
     "metadata": {},
     "output_type": "execute_result"
    }
   ],
   "source": [
    "testing_y.head()"
   ]
  },
  {
   "cell_type": "code",
   "execution_count": 51,
   "metadata": {},
   "outputs": [],
   "source": [
    "regressor = RandomForestQuantileRegressor(random_state = 0, n_estimators = 500)"
   ]
  },
  {
   "cell_type": "code",
   "execution_count": 52,
   "metadata": {},
   "outputs": [],
   "source": [
    "model = regressor.fit(training_X, training_y)"
   ]
  },
  {
   "cell_type": "code",
   "execution_count": 53,
   "metadata": {},
   "outputs": [
    {
     "data": {
      "text/plain": [
       "0.9982153130966176"
      ]
     },
     "execution_count": 53,
     "metadata": {},
     "output_type": "execute_result"
    }
   ],
   "source": [
    "model.score(training_X, training_y)"
   ]
  },
  {
   "cell_type": "code",
   "execution_count": 54,
   "metadata": {},
   "outputs": [
    {
     "data": {
      "text/plain": [
       "0.6783797416304844"
      ]
     },
     "execution_count": 54,
     "metadata": {},
     "output_type": "execute_result"
    }
   ],
   "source": [
    "model.score(testing_X, testing_y)"
   ]
  },
  {
   "cell_type": "code",
   "execution_count": 55,
   "metadata": {},
   "outputs": [
    {
     "name": "stdout",
     "output_type": "stream",
     "text": [
      "[1.77463039e-03 2.41770039e-03 7.18816303e-04 4.96970570e-03\n",
      " 8.82988990e-04 4.21621560e-03 1.20418107e-03 9.83815762e-01]\n"
     ]
    }
   ],
   "source": [
    "print(model.feature_importances_)"
   ]
  },
  {
   "cell_type": "code",
   "execution_count": 56,
   "metadata": {},
   "outputs": [],
   "source": [
    "predictions = model.predict(testing_X)"
   ]
  },
  {
   "cell_type": "code",
   "execution_count": 57,
   "metadata": {},
   "outputs": [],
   "source": [
    "predictions_df = pd.DataFrame(predictions)"
   ]
  },
  {
   "cell_type": "code",
   "execution_count": 58,
   "metadata": {},
   "outputs": [],
   "source": [
    "upper = model.predict(testing_X, quantile = 98.5)"
   ]
  },
  {
   "cell_type": "code",
   "execution_count": null,
   "metadata": {},
   "outputs": [],
   "source": []
  },
  {
   "cell_type": "code",
   "execution_count": 59,
   "metadata": {},
   "outputs": [],
   "source": [
    "lower = model.predict(testing_X, quantile = 2.5)"
   ]
  },
  {
   "cell_type": "code",
   "execution_count": 60,
   "metadata": {},
   "outputs": [
    {
     "data": {
      "text/html": [
       "<div>\n",
       "<style scoped>\n",
       "    .dataframe tbody tr th:only-of-type {\n",
       "        vertical-align: middle;\n",
       "    }\n",
       "\n",
       "    .dataframe tbody tr th {\n",
       "        vertical-align: top;\n",
       "    }\n",
       "\n",
       "    .dataframe thead th {\n",
       "        text-align: right;\n",
       "    }\n",
       "</style>\n",
       "<table border=\"1\" class=\"dataframe\">\n",
       "  <thead>\n",
       "    <tr style=\"text-align: right;\">\n",
       "      <th></th>\n",
       "      <th>0</th>\n",
       "    </tr>\n",
       "  </thead>\n",
       "  <tbody>\n",
       "    <tr>\n",
       "      <th>0</th>\n",
       "      <td>7320.158898</td>\n",
       "    </tr>\n",
       "    <tr>\n",
       "      <th>1</th>\n",
       "      <td>7274.786218</td>\n",
       "    </tr>\n",
       "    <tr>\n",
       "      <th>2</th>\n",
       "      <td>7263.122067</td>\n",
       "    </tr>\n",
       "    <tr>\n",
       "      <th>3</th>\n",
       "      <td>7315.329376</td>\n",
       "    </tr>\n",
       "    <tr>\n",
       "      <th>4</th>\n",
       "      <td>7258.373429</td>\n",
       "    </tr>\n",
       "  </tbody>\n",
       "</table>\n",
       "</div>"
      ],
      "text/plain": [
       "             0\n",
       "0  7320.158898\n",
       "1  7274.786218\n",
       "2  7263.122067\n",
       "3  7315.329376\n",
       "4  7258.373429"
      ]
     },
     "execution_count": 60,
     "metadata": {},
     "output_type": "execute_result"
    }
   ],
   "source": [
    "predictions_df.head()"
   ]
  },
  {
   "cell_type": "code",
   "execution_count": 61,
   "metadata": {},
   "outputs": [],
   "source": [
    "actuals = pd.DataFrame(testing_y)"
   ]
  },
  {
   "cell_type": "code",
   "execution_count": 62,
   "metadata": {},
   "outputs": [
    {
     "data": {
      "text/html": [
       "<div>\n",
       "<style scoped>\n",
       "    .dataframe tbody tr th:only-of-type {\n",
       "        vertical-align: middle;\n",
       "    }\n",
       "\n",
       "    .dataframe tbody tr th {\n",
       "        vertical-align: top;\n",
       "    }\n",
       "\n",
       "    .dataframe thead th {\n",
       "        text-align: right;\n",
       "    }\n",
       "</style>\n",
       "<table border=\"1\" class=\"dataframe\">\n",
       "  <thead>\n",
       "    <tr style=\"text-align: right;\">\n",
       "      <th></th>\n",
       "      <th>BTC_Price</th>\n",
       "    </tr>\n",
       "    <tr>\n",
       "      <th>Date</th>\n",
       "      <th></th>\n",
       "    </tr>\n",
       "  </thead>\n",
       "  <tbody>\n",
       "    <tr>\n",
       "      <th>2019-12-30</th>\n",
       "      <td>7292.995117</td>\n",
       "    </tr>\n",
       "    <tr>\n",
       "      <th>2019-12-31</th>\n",
       "      <td>7193.599121</td>\n",
       "    </tr>\n",
       "    <tr>\n",
       "      <th>2020-01-01</th>\n",
       "      <td>7200.174316</td>\n",
       "    </tr>\n",
       "    <tr>\n",
       "      <th>2020-01-02</th>\n",
       "      <td>6985.470215</td>\n",
       "    </tr>\n",
       "    <tr>\n",
       "      <th>2020-01-03</th>\n",
       "      <td>7344.884277</td>\n",
       "    </tr>\n",
       "  </tbody>\n",
       "</table>\n",
       "</div>"
      ],
      "text/plain": [
       "              BTC_Price\n",
       "Date                   \n",
       "2019-12-30  7292.995117\n",
       "2019-12-31  7193.599121\n",
       "2020-01-01  7200.174316\n",
       "2020-01-02  6985.470215\n",
       "2020-01-03  7344.884277"
      ]
     },
     "execution_count": 62,
     "metadata": {},
     "output_type": "execute_result"
    }
   ],
   "source": [
    "actuals.head()"
   ]
  },
  {
   "cell_type": "code",
   "execution_count": 63,
   "metadata": {},
   "outputs": [],
   "source": [
    "actuals_vs_predictions = actuals.copy()"
   ]
  },
  {
   "cell_type": "code",
   "execution_count": 64,
   "metadata": {},
   "outputs": [],
   "source": [
    "actuals_vs_predictions['Predictions'] = predictions"
   ]
  },
  {
   "cell_type": "code",
   "execution_count": 65,
   "metadata": {},
   "outputs": [],
   "source": [
    "actuals_vs_predictions['Upper'] = upper"
   ]
  },
  {
   "cell_type": "code",
   "execution_count": 66,
   "metadata": {},
   "outputs": [],
   "source": [
    "actuals_vs_predictions['Lower'] = lower"
   ]
  },
  {
   "cell_type": "code",
   "execution_count": 67,
   "metadata": {},
   "outputs": [
    {
     "data": {
      "text/html": [
       "<div>\n",
       "<style scoped>\n",
       "    .dataframe tbody tr th:only-of-type {\n",
       "        vertical-align: middle;\n",
       "    }\n",
       "\n",
       "    .dataframe tbody tr th {\n",
       "        vertical-align: top;\n",
       "    }\n",
       "\n",
       "    .dataframe thead th {\n",
       "        text-align: right;\n",
       "    }\n",
       "</style>\n",
       "<table border=\"1\" class=\"dataframe\">\n",
       "  <thead>\n",
       "    <tr style=\"text-align: right;\">\n",
       "      <th></th>\n",
       "      <th>BTC_Price</th>\n",
       "      <th>Predictions</th>\n",
       "      <th>Upper</th>\n",
       "      <th>Lower</th>\n",
       "    </tr>\n",
       "    <tr>\n",
       "      <th>Date</th>\n",
       "      <th></th>\n",
       "      <th></th>\n",
       "      <th></th>\n",
       "      <th></th>\n",
       "    </tr>\n",
       "  </thead>\n",
       "  <tbody>\n",
       "    <tr>\n",
       "      <th>2019-12-30</th>\n",
       "      <td>7292.995117</td>\n",
       "      <td>7320.158898</td>\n",
       "      <td>7804.180762</td>\n",
       "      <td>6861.175872</td>\n",
       "    </tr>\n",
       "    <tr>\n",
       "      <th>2019-12-31</th>\n",
       "      <td>7193.599121</td>\n",
       "      <td>7274.786218</td>\n",
       "      <td>7554.019908</td>\n",
       "      <td>6774.552284</td>\n",
       "    </tr>\n",
       "    <tr>\n",
       "      <th>2020-01-01</th>\n",
       "      <td>7200.174316</td>\n",
       "      <td>7263.122067</td>\n",
       "      <td>7538.566168</td>\n",
       "      <td>6932.480469</td>\n",
       "    </tr>\n",
       "    <tr>\n",
       "      <th>2020-01-02</th>\n",
       "      <td>6985.470215</td>\n",
       "      <td>7315.329376</td>\n",
       "      <td>7764.364343</td>\n",
       "      <td>6965.331975</td>\n",
       "    </tr>\n",
       "    <tr>\n",
       "      <th>2020-01-03</th>\n",
       "      <td>7344.884277</td>\n",
       "      <td>7258.373429</td>\n",
       "      <td>8342.380448</td>\n",
       "      <td>6625.885328</td>\n",
       "    </tr>\n",
       "  </tbody>\n",
       "</table>\n",
       "</div>"
      ],
      "text/plain": [
       "              BTC_Price  Predictions        Upper        Lower\n",
       "Date                                                          \n",
       "2019-12-30  7292.995117  7320.158898  7804.180762  6861.175872\n",
       "2019-12-31  7193.599121  7274.786218  7554.019908  6774.552284\n",
       "2020-01-01  7200.174316  7263.122067  7538.566168  6932.480469\n",
       "2020-01-02  6985.470215  7315.329376  7764.364343  6965.331975\n",
       "2020-01-03  7344.884277  7258.373429  8342.380448  6625.885328"
      ]
     },
     "execution_count": 67,
     "metadata": {},
     "output_type": "execute_result"
    }
   ],
   "source": [
    "actuals_vs_predictions.head()"
   ]
  },
  {
   "cell_type": "code",
   "execution_count": 68,
   "metadata": {},
   "outputs": [
    {
     "data": {
      "image/png": "[encoded data removed]",
      "text/plain": [
       "<Figure size 1080x720 with 1 Axes>"
      ]
     },
     "metadata": {},
     "output_type": "display_data"
    }
   ],
   "source": [
    "plt.style.use('dark_background')\n",
    "fig = plt.figure(figsize = (15,10))\n",
    "plt.plot(actuals_vs_predictions['Predictions'], marker = 'o', color = 'y')\n",
    "plt.fill_between(actuals_vs_predictions.index, actuals_vs_predictions['Upper'], actuals_vs_predictions['Lower'], color = 'b', alpha = 0.6)\n",
    "plt.xticks(actuals_vs_predictions.index)\n",
    "plt.show()\n"
   ]
  },
  {
   "cell_type": "code",
   "execution_count": null,
   "metadata": {},
   "outputs": [],
   "source": []
  }
 ],
 "metadata": {
  "kernelspec": {
   "display_name": "Python 3",
   "language": "python",
   "name": "python3"
  },
  "language_info": {
   "codemirror_mode": {
    "name": "ipython",
    "version": 3
   },
   "file_extension": ".py",
   "mimetype": "text/x-python",
   "name": "python",
   "nbconvert_exporter": "python",
   "pygments_lexer": "ipython3",
   "version": "3.7.3"
  }
 },
 "nbformat": 4,
 "nbformat_minor": 4
}
