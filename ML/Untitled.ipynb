{
 "cells": [
  {
   "cell_type": "code",
   "execution_count": null,
   "metadata": {},
   "outputs": [],
   "source": [
    "df_list = ['avg_block_size', 'btc_in_circulation', 'blockchain_size', 'cny_eur_exchange_rate', 'cny_usd_exchange_rate', 'daily_btc_usd', 'btc_transaction_volume_usd', 'btc_daily_transactions', 'eur_usd_exchange_rate', 'confirmation_time', 'number_daily_transactions', 'number_transactions_excluding_most_100_popular', 'number_transactions_per_block', '']"
   ]
  }
 ],
 "metadata": {
  "kernelspec": {
   "display_name": "Python 3",
   "language": "python",
   "name": "python3"
  },
  "language_info": {
   "codemirror_mode": {
    "name": "ipython",
    "version": 3
   },
   "file_extension": ".py",
   "mimetype": "text/x-python",
   "name": "python",
   "nbconvert_exporter": "python",
   "pygments_lexer": "ipython3",
   "version": "3.7.3"
  }
 },
 "nbformat": 4,
 "nbformat_minor": 4
}
