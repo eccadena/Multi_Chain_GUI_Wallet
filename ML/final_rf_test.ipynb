{
 "cells": [
  {
   "cell_type": "code",
   "execution_count": 1,
   "metadata": {},
   "outputs": [],
   "source": [
    "import pandas as pd\n",
    "import requests\n",
    "from datetime import date, timedelta\n",
    "from ml_functions import get_historical_data, get_random_forest_df\n",
    "from skgarden import RandomForestQuantileRegressor\n",
    "from plotly.io import write_html\n",
    "import plotly.express as px\n",
    "import numpy as np\n",
    "\n"
   ]
  },
  {
   "cell_type": "code",
   "execution_count": 2,
   "metadata": {},
   "outputs": [],
   "source": [
    "end_date = date.today().isoformat()"
   ]
  },
  {
   "cell_type": "code",
   "execution_count": 3,
   "metadata": {},
   "outputs": [
    {
     "data": {
      "text/plain": [
       "'2020-01-17'"
      ]
     },
     "execution_count": 3,
     "metadata": {},
     "output_type": "execute_result"
    }
   ],
   "source": [
    "end_date"
   ]
  },
  {
   "cell_type": "code",
   "execution_count": 4,
   "metadata": {},
   "outputs": [],
   "source": [
    "delta = timedelta(730)"
   ]
  },
  {
   "cell_type": "code",
   "execution_count": 5,
   "metadata": {},
   "outputs": [],
   "source": [
    "start_date = (date.today() - delta).isoformat()"
   ]
  },
  {
   "cell_type": "code",
   "execution_count": 6,
   "metadata": {},
   "outputs": [
    {
     "data": {
      "text/plain": [
       "'2018-01-17'"
      ]
     },
     "execution_count": 6,
     "metadata": {},
     "output_type": "execute_result"
    }
   ],
   "source": [
    "start_date"
   ]
  },
  {
   "cell_type": "code",
   "execution_count": 7,
   "metadata": {},
   "outputs": [],
   "source": [
    "url = 'https://api.exchangeratesapi.io/history'\n"
   ]
  },
  {
   "cell_type": "code",
   "execution_count": 8,
   "metadata": {},
   "outputs": [],
   "source": [
    "payload = {\n",
    "    \"start_at\": start_date,\n",
    "    \"end_at\": end_date,\n",
    "    \"symbols\": \"CNY,JPY,EUR\",\n",
    "    \"base\": \"USD\"\n",
    "}"
   ]
  },
  {
   "cell_type": "code",
   "execution_count": 9,
   "metadata": {},
   "outputs": [],
   "source": [
    "result = requests.get(url, params = payload).json()"
   ]
  },
  {
   "cell_type": "code",
   "execution_count": 10,
   "metadata": {},
   "outputs": [],
   "source": [
    "rate_df = pd.DataFrame(result['rates']).transpose()"
   ]
  },
  {
   "cell_type": "code",
   "execution_count": 11,
   "metadata": {},
   "outputs": [],
   "source": [
    "rate_df = rate_df.sort_index()\n"
   ]
  },
  {
   "cell_type": "code",
   "execution_count": 12,
   "metadata": {},
   "outputs": [],
   "source": [
    "rate_df.index = pd.to_datetime(rate_df.index, format = '%Y-%m-%d')"
   ]
  },
  {
   "cell_type": "code",
   "execution_count": 13,
   "metadata": {},
   "outputs": [
    {
     "data": {
      "text/html": [
       "<div>\n",
       "<style scoped>\n",
       "    .dataframe tbody tr th:only-of-type {\n",
       "        vertical-align: middle;\n",
       "    }\n",
       "\n",
       "    .dataframe tbody tr th {\n",
       "        vertical-align: top;\n",
       "    }\n",
       "\n",
       "    .dataframe thead th {\n",
       "        text-align: right;\n",
       "    }\n",
       "</style>\n",
       "<table border=\"1\" class=\"dataframe\">\n",
       "  <thead>\n",
       "    <tr style=\"text-align: right;\">\n",
       "      <th></th>\n",
       "      <th>EUR</th>\n",
       "      <th>CNY</th>\n",
       "      <th>JPY</th>\n",
       "    </tr>\n",
       "  </thead>\n",
       "  <tbody>\n",
       "    <tr>\n",
       "      <th>2018-01-17</th>\n",
       "      <td>0.819471</td>\n",
       "      <td>6.435139</td>\n",
       "      <td>110.800623</td>\n",
       "    </tr>\n",
       "    <tr>\n",
       "      <th>2018-01-18</th>\n",
       "      <td>0.817327</td>\n",
       "      <td>6.422722</td>\n",
       "      <td>111.213731</td>\n",
       "    </tr>\n",
       "    <tr>\n",
       "      <th>2018-01-19</th>\n",
       "      <td>0.815993</td>\n",
       "      <td>6.403998</td>\n",
       "      <td>110.599755</td>\n",
       "    </tr>\n",
       "    <tr>\n",
       "      <th>2018-01-22</th>\n",
       "      <td>0.817060</td>\n",
       "      <td>6.403628</td>\n",
       "      <td>110.842389</td>\n",
       "    </tr>\n",
       "    <tr>\n",
       "      <th>2018-01-23</th>\n",
       "      <td>0.816393</td>\n",
       "      <td>6.405911</td>\n",
       "      <td>110.498816</td>\n",
       "    </tr>\n",
       "    <tr>\n",
       "      <th>...</th>\n",
       "      <td>...</td>\n",
       "      <td>...</td>\n",
       "      <td>...</td>\n",
       "    </tr>\n",
       "    <tr>\n",
       "      <th>2020-01-13</th>\n",
       "      <td>0.898796</td>\n",
       "      <td>6.893493</td>\n",
       "      <td>109.877764</td>\n",
       "    </tr>\n",
       "    <tr>\n",
       "      <th>2020-01-14</th>\n",
       "      <td>0.899685</td>\n",
       "      <td>6.885830</td>\n",
       "      <td>110.049483</td>\n",
       "    </tr>\n",
       "    <tr>\n",
       "      <th>2020-01-15</th>\n",
       "      <td>0.897505</td>\n",
       "      <td>6.887991</td>\n",
       "      <td>109.881529</td>\n",
       "    </tr>\n",
       "    <tr>\n",
       "      <th>2020-01-16</th>\n",
       "      <td>0.895335</td>\n",
       "      <td>6.879488</td>\n",
       "      <td>109.947175</td>\n",
       "    </tr>\n",
       "    <tr>\n",
       "      <th>2020-01-17</th>\n",
       "      <td>0.900252</td>\n",
       "      <td>6.858660</td>\n",
       "      <td>110.109831</td>\n",
       "    </tr>\n",
       "  </tbody>\n",
       "</table>\n",
       "<p>511 rows × 3 columns</p>\n",
       "</div>"
      ],
      "text/plain": [
       "                 EUR       CNY         JPY\n",
       "2018-01-17  0.819471  6.435139  110.800623\n",
       "2018-01-18  0.817327  6.422722  111.213731\n",
       "2018-01-19  0.815993  6.403998  110.599755\n",
       "2018-01-22  0.817060  6.403628  110.842389\n",
       "2018-01-23  0.816393  6.405911  110.498816\n",
       "...              ...       ...         ...\n",
       "2020-01-13  0.898796  6.893493  109.877764\n",
       "2020-01-14  0.899685  6.885830  110.049483\n",
       "2020-01-15  0.897505  6.887991  109.881529\n",
       "2020-01-16  0.895335  6.879488  109.947175\n",
       "2020-01-17  0.900252  6.858660  110.109831\n",
       "\n",
       "[511 rows x 3 columns]"
      ]
     },
     "execution_count": 13,
     "metadata": {},
     "output_type": "execute_result"
    }
   ],
   "source": [
    "rate_df"
   ]
  },
  {
   "cell_type": "code",
   "execution_count": 14,
   "metadata": {},
   "outputs": [],
   "source": [
    "btc_price = get_historical_data('BTC', 730)"
   ]
  },
  {
   "cell_type": "code",
   "execution_count": 15,
   "metadata": {},
   "outputs": [
    {
     "data": {
      "text/plain": [
       "731"
      ]
     },
     "execution_count": 15,
     "metadata": {},
     "output_type": "execute_result"
    }
   ],
   "source": [
    "len(btc_price)"
   ]
  },
  {
   "cell_type": "code",
   "execution_count": 16,
   "metadata": {},
   "outputs": [],
   "source": [
    "btc_price = btc_price.rename(columns = {'close': 'BTC'})\n",
    "    \n",
    "    "
   ]
  },
  {
   "cell_type": "code",
   "execution_count": 17,
   "metadata": {},
   "outputs": [
    {
     "data": {
      "text/html": [
       "<div>\n",
       "<style scoped>\n",
       "    .dataframe tbody tr th:only-of-type {\n",
       "        vertical-align: middle;\n",
       "    }\n",
       "\n",
       "    .dataframe tbody tr th {\n",
       "        vertical-align: top;\n",
       "    }\n",
       "\n",
       "    .dataframe thead th {\n",
       "        text-align: right;\n",
       "    }\n",
       "</style>\n",
       "<table border=\"1\" class=\"dataframe\">\n",
       "  <thead>\n",
       "    <tr style=\"text-align: right;\">\n",
       "      <th></th>\n",
       "      <th>BTC</th>\n",
       "    </tr>\n",
       "    <tr>\n",
       "      <th>Date</th>\n",
       "      <th></th>\n",
       "    </tr>\n",
       "  </thead>\n",
       "  <tbody>\n",
       "    <tr>\n",
       "      <th>2018-01-17</th>\n",
       "      <td>11162.70</td>\n",
       "    </tr>\n",
       "    <tr>\n",
       "      <th>2018-01-18</th>\n",
       "      <td>11175.52</td>\n",
       "    </tr>\n",
       "    <tr>\n",
       "      <th>2018-01-19</th>\n",
       "      <td>11521.76</td>\n",
       "    </tr>\n",
       "    <tr>\n",
       "      <th>2018-01-20</th>\n",
       "      <td>12783.94</td>\n",
       "    </tr>\n",
       "    <tr>\n",
       "      <th>2018-01-21</th>\n",
       "      <td>11549.93</td>\n",
       "    </tr>\n",
       "  </tbody>\n",
       "</table>\n",
       "</div>"
      ],
      "text/plain": [
       "                 BTC\n",
       "Date                \n",
       "2018-01-17  11162.70\n",
       "2018-01-18  11175.52\n",
       "2018-01-19  11521.76\n",
       "2018-01-20  12783.94\n",
       "2018-01-21  11549.93"
      ]
     },
     "execution_count": 17,
     "metadata": {},
     "output_type": "execute_result"
    }
   ],
   "source": [
    "btc_price.head()"
   ]
  },
  {
   "cell_type": "code",
   "execution_count": 18,
   "metadata": {},
   "outputs": [],
   "source": [
    "eth_price = get_historical_data('ETH', 730)"
   ]
  },
  {
   "cell_type": "code",
   "execution_count": 19,
   "metadata": {},
   "outputs": [],
   "source": [
    "eth_price = eth_price.rename(columns = {'close': 'ETH'})"
   ]
  },
  {
   "cell_type": "code",
   "execution_count": 20,
   "metadata": {},
   "outputs": [],
   "source": [
    "ltc_price = get_historical_data('LTC', 730)"
   ]
  },
  {
   "cell_type": "code",
   "execution_count": 21,
   "metadata": {},
   "outputs": [],
   "source": [
    "ltc_price = ltc_price.rename(columns = {'close': 'LTC'})"
   ]
  },
  {
   "cell_type": "code",
   "execution_count": 23,
   "metadata": {},
   "outputs": [],
   "source": [
    "coin_df = btc_price"
   ]
  },
  {
   "cell_type": "code",
   "execution_count": 24,
   "metadata": {},
   "outputs": [],
   "source": [
    "coin_df['LTC'] = ltc_price"
   ]
  },
  {
   "cell_type": "code",
   "execution_count": 25,
   "metadata": {},
   "outputs": [],
   "source": [
    "coin_df['ETH'] = eth_price"
   ]
  },
  {
   "cell_type": "code",
   "execution_count": 85,
   "metadata": {},
   "outputs": [],
   "source": [
    "combined_df = pd.concat([coin_df, rate_df], axis = 1 )"
   ]
  },
  {
   "cell_type": "code",
   "execution_count": 86,
   "metadata": {},
   "outputs": [
    {
     "data": {
      "text/html": [
       "<div>\n",
       "<style scoped>\n",
       "    .dataframe tbody tr th:only-of-type {\n",
       "        vertical-align: middle;\n",
       "    }\n",
       "\n",
       "    .dataframe tbody tr th {\n",
       "        vertical-align: top;\n",
       "    }\n",
       "\n",
       "    .dataframe thead th {\n",
       "        text-align: right;\n",
       "    }\n",
       "</style>\n",
       "<table border=\"1\" class=\"dataframe\">\n",
       "  <thead>\n",
       "    <tr style=\"text-align: right;\">\n",
       "      <th></th>\n",
       "      <th>BTC</th>\n",
       "      <th>LTC</th>\n",
       "      <th>ETH</th>\n",
       "      <th>EUR</th>\n",
       "      <th>CNY</th>\n",
       "      <th>JPY</th>\n",
       "    </tr>\n",
       "  </thead>\n",
       "  <tbody>\n",
       "    <tr>\n",
       "      <th>2018-01-17</th>\n",
       "      <td>11162.70</td>\n",
       "      <td>188.21</td>\n",
       "      <td>1024.69</td>\n",
       "      <td>0.819471</td>\n",
       "      <td>6.435139</td>\n",
       "      <td>110.800623</td>\n",
       "    </tr>\n",
       "    <tr>\n",
       "      <th>2018-01-18</th>\n",
       "      <td>11175.52</td>\n",
       "      <td>191.03</td>\n",
       "      <td>1012.97</td>\n",
       "      <td>0.817327</td>\n",
       "      <td>6.422722</td>\n",
       "      <td>111.213731</td>\n",
       "    </tr>\n",
       "    <tr>\n",
       "      <th>2018-01-19</th>\n",
       "      <td>11521.76</td>\n",
       "      <td>192.27</td>\n",
       "      <td>1037.36</td>\n",
       "      <td>0.815993</td>\n",
       "      <td>6.403998</td>\n",
       "      <td>110.599755</td>\n",
       "    </tr>\n",
       "    <tr>\n",
       "      <th>2018-01-20</th>\n",
       "      <td>12783.94</td>\n",
       "      <td>210.68</td>\n",
       "      <td>1150.50</td>\n",
       "      <td>NaN</td>\n",
       "      <td>NaN</td>\n",
       "      <td>NaN</td>\n",
       "    </tr>\n",
       "    <tr>\n",
       "      <th>2018-01-21</th>\n",
       "      <td>11549.93</td>\n",
       "      <td>190.73</td>\n",
       "      <td>1049.09</td>\n",
       "      <td>NaN</td>\n",
       "      <td>NaN</td>\n",
       "      <td>NaN</td>\n",
       "    </tr>\n",
       "  </tbody>\n",
       "</table>\n",
       "</div>"
      ],
      "text/plain": [
       "                 BTC     LTC      ETH       EUR       CNY         JPY\n",
       "2018-01-17  11162.70  188.21  1024.69  0.819471  6.435139  110.800623\n",
       "2018-01-18  11175.52  191.03  1012.97  0.817327  6.422722  111.213731\n",
       "2018-01-19  11521.76  192.27  1037.36  0.815993  6.403998  110.599755\n",
       "2018-01-20  12783.94  210.68  1150.50       NaN       NaN         NaN\n",
       "2018-01-21  11549.93  190.73  1049.09       NaN       NaN         NaN"
      ]
     },
     "execution_count": 86,
     "metadata": {},
     "output_type": "execute_result"
    }
   ],
   "source": [
    "combined_df.head()"
   ]
  },
  {
   "cell_type": "code",
   "execution_count": 87,
   "metadata": {},
   "outputs": [],
   "source": [
    "combined_df['EUR'] = combined_df['EUR'].ffill()\n"
   ]
  },
  {
   "cell_type": "code",
   "execution_count": 88,
   "metadata": {},
   "outputs": [
    {
     "data": {
      "text/html": [
       "<div>\n",
       "<style scoped>\n",
       "    .dataframe tbody tr th:only-of-type {\n",
       "        vertical-align: middle;\n",
       "    }\n",
       "\n",
       "    .dataframe tbody tr th {\n",
       "        vertical-align: top;\n",
       "    }\n",
       "\n",
       "    .dataframe thead th {\n",
       "        text-align: right;\n",
       "    }\n",
       "</style>\n",
       "<table border=\"1\" class=\"dataframe\">\n",
       "  <thead>\n",
       "    <tr style=\"text-align: right;\">\n",
       "      <th></th>\n",
       "      <th>BTC</th>\n",
       "      <th>LTC</th>\n",
       "      <th>ETH</th>\n",
       "      <th>EUR</th>\n",
       "      <th>CNY</th>\n",
       "      <th>JPY</th>\n",
       "    </tr>\n",
       "  </thead>\n",
       "  <tbody>\n",
       "    <tr>\n",
       "      <th>2018-01-17</th>\n",
       "      <td>11162.70</td>\n",
       "      <td>188.21</td>\n",
       "      <td>1024.69</td>\n",
       "      <td>0.819471</td>\n",
       "      <td>6.435139</td>\n",
       "      <td>110.800623</td>\n",
       "    </tr>\n",
       "    <tr>\n",
       "      <th>2018-01-18</th>\n",
       "      <td>11175.52</td>\n",
       "      <td>191.03</td>\n",
       "      <td>1012.97</td>\n",
       "      <td>0.817327</td>\n",
       "      <td>6.422722</td>\n",
       "      <td>111.213731</td>\n",
       "    </tr>\n",
       "    <tr>\n",
       "      <th>2018-01-19</th>\n",
       "      <td>11521.76</td>\n",
       "      <td>192.27</td>\n",
       "      <td>1037.36</td>\n",
       "      <td>0.815993</td>\n",
       "      <td>6.403998</td>\n",
       "      <td>110.599755</td>\n",
       "    </tr>\n",
       "    <tr>\n",
       "      <th>2018-01-20</th>\n",
       "      <td>12783.94</td>\n",
       "      <td>210.68</td>\n",
       "      <td>1150.50</td>\n",
       "      <td>0.815993</td>\n",
       "      <td>NaN</td>\n",
       "      <td>NaN</td>\n",
       "    </tr>\n",
       "    <tr>\n",
       "      <th>2018-01-21</th>\n",
       "      <td>11549.93</td>\n",
       "      <td>190.73</td>\n",
       "      <td>1049.09</td>\n",
       "      <td>0.815993</td>\n",
       "      <td>NaN</td>\n",
       "      <td>NaN</td>\n",
       "    </tr>\n",
       "  </tbody>\n",
       "</table>\n",
       "</div>"
      ],
      "text/plain": [
       "                 BTC     LTC      ETH       EUR       CNY         JPY\n",
       "2018-01-17  11162.70  188.21  1024.69  0.819471  6.435139  110.800623\n",
       "2018-01-18  11175.52  191.03  1012.97  0.817327  6.422722  111.213731\n",
       "2018-01-19  11521.76  192.27  1037.36  0.815993  6.403998  110.599755\n",
       "2018-01-20  12783.94  210.68  1150.50  0.815993       NaN         NaN\n",
       "2018-01-21  11549.93  190.73  1049.09  0.815993       NaN         NaN"
      ]
     },
     "execution_count": 88,
     "metadata": {},
     "output_type": "execute_result"
    }
   ],
   "source": [
    "combined_df.head()"
   ]
  },
  {
   "cell_type": "code",
   "execution_count": 89,
   "metadata": {},
   "outputs": [],
   "source": [
    "combined_df['CNY'] = combined_df['JPY'].ffill()\n"
   ]
  },
  {
   "cell_type": "code",
   "execution_count": 90,
   "metadata": {},
   "outputs": [],
   "source": [
    "combined_df['JPY'] = combined_df['CNY'].ffill()"
   ]
  },
  {
   "cell_type": "code",
   "execution_count": 91,
   "metadata": {},
   "outputs": [
    {
     "data": {
      "text/html": [
       "<div>\n",
       "<style scoped>\n",
       "    .dataframe tbody tr th:only-of-type {\n",
       "        vertical-align: middle;\n",
       "    }\n",
       "\n",
       "    .dataframe tbody tr th {\n",
       "        vertical-align: top;\n",
       "    }\n",
       "\n",
       "    .dataframe thead th {\n",
       "        text-align: right;\n",
       "    }\n",
       "</style>\n",
       "<table border=\"1\" class=\"dataframe\">\n",
       "  <thead>\n",
       "    <tr style=\"text-align: right;\">\n",
       "      <th></th>\n",
       "      <th>BTC</th>\n",
       "      <th>LTC</th>\n",
       "      <th>ETH</th>\n",
       "      <th>EUR</th>\n",
       "      <th>CNY</th>\n",
       "      <th>JPY</th>\n",
       "    </tr>\n",
       "  </thead>\n",
       "  <tbody>\n",
       "    <tr>\n",
       "      <th>2020-01-13</th>\n",
       "      <td>8106.56</td>\n",
       "      <td>49.64</td>\n",
       "      <td>143.49</td>\n",
       "      <td>0.898796</td>\n",
       "      <td>109.877764</td>\n",
       "      <td>109.877764</td>\n",
       "    </tr>\n",
       "    <tr>\n",
       "      <th>2020-01-14</th>\n",
       "      <td>8820.95</td>\n",
       "      <td>58.43</td>\n",
       "      <td>165.66</td>\n",
       "      <td>0.899685</td>\n",
       "      <td>110.049483</td>\n",
       "      <td>110.049483</td>\n",
       "    </tr>\n",
       "    <tr>\n",
       "      <th>2020-01-15</th>\n",
       "      <td>8813.21</td>\n",
       "      <td>58.24</td>\n",
       "      <td>166.04</td>\n",
       "      <td>0.897505</td>\n",
       "      <td>109.881529</td>\n",
       "      <td>109.881529</td>\n",
       "    </tr>\n",
       "    <tr>\n",
       "      <th>2020-01-16</th>\n",
       "      <td>8719.63</td>\n",
       "      <td>57.51</td>\n",
       "      <td>164.10</td>\n",
       "      <td>0.895335</td>\n",
       "      <td>109.947175</td>\n",
       "      <td>109.947175</td>\n",
       "    </tr>\n",
       "    <tr>\n",
       "      <th>2020-01-17</th>\n",
       "      <td>8895.68</td>\n",
       "      <td>61.43</td>\n",
       "      <td>171.04</td>\n",
       "      <td>0.900252</td>\n",
       "      <td>110.109831</td>\n",
       "      <td>110.109831</td>\n",
       "    </tr>\n",
       "  </tbody>\n",
       "</table>\n",
       "</div>"
      ],
      "text/plain": [
       "                BTC    LTC     ETH       EUR         CNY         JPY\n",
       "2020-01-13  8106.56  49.64  143.49  0.898796  109.877764  109.877764\n",
       "2020-01-14  8820.95  58.43  165.66  0.899685  110.049483  110.049483\n",
       "2020-01-15  8813.21  58.24  166.04  0.897505  109.881529  109.881529\n",
       "2020-01-16  8719.63  57.51  164.10  0.895335  109.947175  109.947175\n",
       "2020-01-17  8895.68  61.43  171.04  0.900252  110.109831  110.109831"
      ]
     },
     "execution_count": 91,
     "metadata": {},
     "output_type": "execute_result"
    }
   ],
   "source": [
    "combined_df.tail()"
   ]
  },
  {
   "cell_type": "code",
   "execution_count": 92,
   "metadata": {},
   "outputs": [
    {
     "data": {
      "text/html": [
       "<div>\n",
       "<style scoped>\n",
       "    .dataframe tbody tr th:only-of-type {\n",
       "        vertical-align: middle;\n",
       "    }\n",
       "\n",
       "    .dataframe tbody tr th {\n",
       "        vertical-align: top;\n",
       "    }\n",
       "\n",
       "    .dataframe thead th {\n",
       "        text-align: right;\n",
       "    }\n",
       "</style>\n",
       "<table border=\"1\" class=\"dataframe\">\n",
       "  <thead>\n",
       "    <tr style=\"text-align: right;\">\n",
       "      <th></th>\n",
       "      <th>BTC</th>\n",
       "      <th>LTC</th>\n",
       "      <th>ETH</th>\n",
       "      <th>EUR</th>\n",
       "      <th>CNY</th>\n",
       "      <th>JPY</th>\n",
       "    </tr>\n",
       "  </thead>\n",
       "  <tbody>\n",
       "    <tr>\n",
       "      <th>2018-01-17</th>\n",
       "      <td>11162.70</td>\n",
       "      <td>188.21</td>\n",
       "      <td>1024.69</td>\n",
       "      <td>0.819471</td>\n",
       "      <td>110.800623</td>\n",
       "      <td>110.800623</td>\n",
       "    </tr>\n",
       "    <tr>\n",
       "      <th>2018-01-18</th>\n",
       "      <td>11175.52</td>\n",
       "      <td>191.03</td>\n",
       "      <td>1012.97</td>\n",
       "      <td>0.817327</td>\n",
       "      <td>111.213731</td>\n",
       "      <td>111.213731</td>\n",
       "    </tr>\n",
       "    <tr>\n",
       "      <th>2018-01-19</th>\n",
       "      <td>11521.76</td>\n",
       "      <td>192.27</td>\n",
       "      <td>1037.36</td>\n",
       "      <td>0.815993</td>\n",
       "      <td>110.599755</td>\n",
       "      <td>110.599755</td>\n",
       "    </tr>\n",
       "    <tr>\n",
       "      <th>2018-01-20</th>\n",
       "      <td>12783.94</td>\n",
       "      <td>210.68</td>\n",
       "      <td>1150.50</td>\n",
       "      <td>0.815993</td>\n",
       "      <td>110.599755</td>\n",
       "      <td>110.599755</td>\n",
       "    </tr>\n",
       "    <tr>\n",
       "      <th>2018-01-21</th>\n",
       "      <td>11549.93</td>\n",
       "      <td>190.73</td>\n",
       "      <td>1049.09</td>\n",
       "      <td>0.815993</td>\n",
       "      <td>110.599755</td>\n",
       "      <td>110.599755</td>\n",
       "    </tr>\n",
       "  </tbody>\n",
       "</table>\n",
       "</div>"
      ],
      "text/plain": [
       "                 BTC     LTC      ETH       EUR         CNY         JPY\n",
       "2018-01-17  11162.70  188.21  1024.69  0.819471  110.800623  110.800623\n",
       "2018-01-18  11175.52  191.03  1012.97  0.817327  111.213731  111.213731\n",
       "2018-01-19  11521.76  192.27  1037.36  0.815993  110.599755  110.599755\n",
       "2018-01-20  12783.94  210.68  1150.50  0.815993  110.599755  110.599755\n",
       "2018-01-21  11549.93  190.73  1049.09  0.815993  110.599755  110.599755"
      ]
     },
     "execution_count": 92,
     "metadata": {},
     "output_type": "execute_result"
    }
   ],
   "source": [
    "combined_df.head()"
   ]
  },
  {
   "cell_type": "code",
   "execution_count": 93,
   "metadata": {},
   "outputs": [],
   "source": [
    "combined_df = combined_df.reset_index()"
   ]
  },
  {
   "cell_type": "code",
   "execution_count": 94,
   "metadata": {},
   "outputs": [
    {
     "data": {
      "text/html": [
       "<div>\n",
       "<style scoped>\n",
       "    .dataframe tbody tr th:only-of-type {\n",
       "        vertical-align: middle;\n",
       "    }\n",
       "\n",
       "    .dataframe tbody tr th {\n",
       "        vertical-align: top;\n",
       "    }\n",
       "\n",
       "    .dataframe thead th {\n",
       "        text-align: right;\n",
       "    }\n",
       "</style>\n",
       "<table border=\"1\" class=\"dataframe\">\n",
       "  <thead>\n",
       "    <tr style=\"text-align: right;\">\n",
       "      <th></th>\n",
       "      <th>index</th>\n",
       "      <th>BTC</th>\n",
       "      <th>LTC</th>\n",
       "      <th>ETH</th>\n",
       "      <th>EUR</th>\n",
       "      <th>CNY</th>\n",
       "      <th>JPY</th>\n",
       "    </tr>\n",
       "  </thead>\n",
       "  <tbody>\n",
       "    <tr>\n",
       "      <th>0</th>\n",
       "      <td>2018-01-17</td>\n",
       "      <td>11162.70</td>\n",
       "      <td>188.21</td>\n",
       "      <td>1024.69</td>\n",
       "      <td>0.819471</td>\n",
       "      <td>110.800623</td>\n",
       "      <td>110.800623</td>\n",
       "    </tr>\n",
       "    <tr>\n",
       "      <th>1</th>\n",
       "      <td>2018-01-18</td>\n",
       "      <td>11175.52</td>\n",
       "      <td>191.03</td>\n",
       "      <td>1012.97</td>\n",
       "      <td>0.817327</td>\n",
       "      <td>111.213731</td>\n",
       "      <td>111.213731</td>\n",
       "    </tr>\n",
       "    <tr>\n",
       "      <th>2</th>\n",
       "      <td>2018-01-19</td>\n",
       "      <td>11521.76</td>\n",
       "      <td>192.27</td>\n",
       "      <td>1037.36</td>\n",
       "      <td>0.815993</td>\n",
       "      <td>110.599755</td>\n",
       "      <td>110.599755</td>\n",
       "    </tr>\n",
       "    <tr>\n",
       "      <th>3</th>\n",
       "      <td>2018-01-20</td>\n",
       "      <td>12783.94</td>\n",
       "      <td>210.68</td>\n",
       "      <td>1150.50</td>\n",
       "      <td>0.815993</td>\n",
       "      <td>110.599755</td>\n",
       "      <td>110.599755</td>\n",
       "    </tr>\n",
       "    <tr>\n",
       "      <th>4</th>\n",
       "      <td>2018-01-21</td>\n",
       "      <td>11549.93</td>\n",
       "      <td>190.73</td>\n",
       "      <td>1049.09</td>\n",
       "      <td>0.815993</td>\n",
       "      <td>110.599755</td>\n",
       "      <td>110.599755</td>\n",
       "    </tr>\n",
       "  </tbody>\n",
       "</table>\n",
       "</div>"
      ],
      "text/plain": [
       "       index       BTC     LTC      ETH       EUR         CNY         JPY\n",
       "0 2018-01-17  11162.70  188.21  1024.69  0.819471  110.800623  110.800623\n",
       "1 2018-01-18  11175.52  191.03  1012.97  0.817327  111.213731  111.213731\n",
       "2 2018-01-19  11521.76  192.27  1037.36  0.815993  110.599755  110.599755\n",
       "3 2018-01-20  12783.94  210.68  1150.50  0.815993  110.599755  110.599755\n",
       "4 2018-01-21  11549.93  190.73  1049.09  0.815993  110.599755  110.599755"
      ]
     },
     "execution_count": 94,
     "metadata": {},
     "output_type": "execute_result"
    }
   ],
   "source": [
    "combined_df.head()"
   ]
  },
  {
   "cell_type": "code",
   "execution_count": 95,
   "metadata": {},
   "outputs": [],
   "source": [
    "delta = timedelta(1)\n",
    "add_row_date = (date.today() + delta).isoformat()"
   ]
  },
  {
   "cell_type": "code",
   "execution_count": 96,
   "metadata": {},
   "outputs": [
    {
     "data": {
      "text/plain": [
       "'2020-01-18'"
      ]
     },
     "execution_count": 96,
     "metadata": {},
     "output_type": "execute_result"
    }
   ],
   "source": []
  },
  {
   "cell_type": "code",
   "execution_count": 97,
   "metadata": {},
   "outputs": [],
   "source": [
    "df2 = pd.DataFrame([[add_row_date,0,0,0,0,0,0]], columns= ['index','BTC','LTC','ETH','EUR','CNY','JPY'])"
   ]
  },
  {
   "cell_type": "code",
   "execution_count": 98,
   "metadata": {},
   "outputs": [],
   "source": [
    "combined_df = combined_df.append(df2, ignore_index = True)"
   ]
  },
  {
   "cell_type": "code",
   "execution_count": 99,
   "metadata": {},
   "outputs": [],
   "source": [
    "combined_df = combined_df.set_index('index')"
   ]
  },
  {
   "cell_type": "code",
   "execution_count": 102,
   "metadata": {},
   "outputs": [
    {
     "data": {
      "text/html": [
       "<div>\n",
       "<style scoped>\n",
       "    .dataframe tbody tr th:only-of-type {\n",
       "        vertical-align: middle;\n",
       "    }\n",
       "\n",
       "    .dataframe tbody tr th {\n",
       "        vertical-align: top;\n",
       "    }\n",
       "\n",
       "    .dataframe thead th {\n",
       "        text-align: right;\n",
       "    }\n",
       "</style>\n",
       "<table border=\"1\" class=\"dataframe\">\n",
       "  <thead>\n",
       "    <tr style=\"text-align: right;\">\n",
       "      <th></th>\n",
       "      <th>BTC</th>\n",
       "      <th>LTC</th>\n",
       "      <th>ETH</th>\n",
       "      <th>EUR</th>\n",
       "      <th>CNY</th>\n",
       "      <th>JPY</th>\n",
       "    </tr>\n",
       "    <tr>\n",
       "      <th>index</th>\n",
       "      <th></th>\n",
       "      <th></th>\n",
       "      <th></th>\n",
       "      <th></th>\n",
       "      <th></th>\n",
       "      <th></th>\n",
       "    </tr>\n",
       "  </thead>\n",
       "  <tbody>\n",
       "    <tr>\n",
       "      <th>2020-01-14 00:00:00</th>\n",
       "      <td>8820.95</td>\n",
       "      <td>58.43</td>\n",
       "      <td>165.66</td>\n",
       "      <td>0.899685</td>\n",
       "      <td>110.049483</td>\n",
       "      <td>110.049483</td>\n",
       "    </tr>\n",
       "    <tr>\n",
       "      <th>2020-01-15 00:00:00</th>\n",
       "      <td>8813.21</td>\n",
       "      <td>58.24</td>\n",
       "      <td>166.04</td>\n",
       "      <td>0.897505</td>\n",
       "      <td>109.881529</td>\n",
       "      <td>109.881529</td>\n",
       "    </tr>\n",
       "    <tr>\n",
       "      <th>2020-01-16 00:00:00</th>\n",
       "      <td>8719.63</td>\n",
       "      <td>57.51</td>\n",
       "      <td>164.10</td>\n",
       "      <td>0.895335</td>\n",
       "      <td>109.947175</td>\n",
       "      <td>109.947175</td>\n",
       "    </tr>\n",
       "    <tr>\n",
       "      <th>2020-01-17 00:00:00</th>\n",
       "      <td>8895.68</td>\n",
       "      <td>61.43</td>\n",
       "      <td>171.04</td>\n",
       "      <td>0.900252</td>\n",
       "      <td>110.109831</td>\n",
       "      <td>110.109831</td>\n",
       "    </tr>\n",
       "    <tr>\n",
       "      <th>2020-01-18</th>\n",
       "      <td>0.00</td>\n",
       "      <td>0.00</td>\n",
       "      <td>0.00</td>\n",
       "      <td>0.000000</td>\n",
       "      <td>0.000000</td>\n",
       "      <td>0.000000</td>\n",
       "    </tr>\n",
       "  </tbody>\n",
       "</table>\n",
       "</div>"
      ],
      "text/plain": [
       "                         BTC    LTC     ETH       EUR         CNY         JPY\n",
       "index                                                                        \n",
       "2020-01-14 00:00:00  8820.95  58.43  165.66  0.899685  110.049483  110.049483\n",
       "2020-01-15 00:00:00  8813.21  58.24  166.04  0.897505  109.881529  109.881529\n",
       "2020-01-16 00:00:00  8719.63  57.51  164.10  0.895335  109.947175  109.947175\n",
       "2020-01-17 00:00:00  8895.68  61.43  171.04  0.900252  110.109831  110.109831\n",
       "2020-01-18              0.00   0.00    0.00  0.000000    0.000000    0.000000"
      ]
     },
     "execution_count": 102,
     "metadata": {},
     "output_type": "execute_result"
    }
   ],
   "source": [
    "combined_df.tail()"
   ]
  },
  {
   "cell_type": "code",
   "execution_count": 56,
   "metadata": {},
   "outputs": [
    {
     "data": {
      "text/html": [
       "<div>\n",
       "<style scoped>\n",
       "    .dataframe tbody tr th:only-of-type {\n",
       "        vertical-align: middle;\n",
       "    }\n",
       "\n",
       "    .dataframe tbody tr th {\n",
       "        vertical-align: top;\n",
       "    }\n",
       "\n",
       "    .dataframe thead th {\n",
       "        text-align: right;\n",
       "    }\n",
       "</style>\n",
       "<table border=\"1\" class=\"dataframe\">\n",
       "  <thead>\n",
       "    <tr style=\"text-align: right;\">\n",
       "      <th></th>\n",
       "      <th>BTC</th>\n",
       "      <th>LTC</th>\n",
       "      <th>ETH</th>\n",
       "      <th>EUR</th>\n",
       "      <th>CNY</th>\n",
       "      <th>JPY</th>\n",
       "    </tr>\n",
       "  </thead>\n",
       "  <tbody>\n",
       "    <tr>\n",
       "      <th>727</th>\n",
       "      <td>8820.95</td>\n",
       "      <td>58.43</td>\n",
       "      <td>165.66</td>\n",
       "      <td>0.899685</td>\n",
       "      <td>110.049483</td>\n",
       "      <td>110.049483</td>\n",
       "    </tr>\n",
       "    <tr>\n",
       "      <th>728</th>\n",
       "      <td>8813.21</td>\n",
       "      <td>58.24</td>\n",
       "      <td>166.04</td>\n",
       "      <td>0.897505</td>\n",
       "      <td>109.881529</td>\n",
       "      <td>109.881529</td>\n",
       "    </tr>\n",
       "    <tr>\n",
       "      <th>729</th>\n",
       "      <td>8719.63</td>\n",
       "      <td>57.51</td>\n",
       "      <td>164.10</td>\n",
       "      <td>0.895335</td>\n",
       "      <td>109.947175</td>\n",
       "      <td>109.947175</td>\n",
       "    </tr>\n",
       "    <tr>\n",
       "      <th>730</th>\n",
       "      <td>8895.68</td>\n",
       "      <td>61.43</td>\n",
       "      <td>171.04</td>\n",
       "      <td>0.900252</td>\n",
       "      <td>110.109831</td>\n",
       "      <td>110.109831</td>\n",
       "    </tr>\n",
       "    <tr>\n",
       "      <th>731</th>\n",
       "      <td>0.00</td>\n",
       "      <td>0.00</td>\n",
       "      <td>0.00</td>\n",
       "      <td>0.000000</td>\n",
       "      <td>0.000000</td>\n",
       "      <td>0.000000</td>\n",
       "    </tr>\n",
       "  </tbody>\n",
       "</table>\n",
       "</div>"
      ],
      "text/plain": [
       "         BTC    LTC     ETH       EUR         CNY         JPY\n",
       "727  8820.95  58.43  165.66  0.899685  110.049483  110.049483\n",
       "728  8813.21  58.24  166.04  0.897505  109.881529  109.881529\n",
       "729  8719.63  57.51  164.10  0.895335  109.947175  109.947175\n",
       "730  8895.68  61.43  171.04  0.900252  110.109831  110.109831\n",
       "731     0.00   0.00    0.00  0.000000    0.000000    0.000000"
      ]
     },
     "execution_count": 56,
     "metadata": {},
     "output_type": "execute_result"
    }
   ],
   "source": [
    "combined_df.tail()"
   ]
  },
  {
   "cell_type": "code",
   "execution_count": null,
   "metadata": {},
   "outputs": [],
   "source": [
    "combined_df.tail()"
   ]
  },
  {
   "cell_type": "code",
   "execution_count": 103,
   "metadata": {},
   "outputs": [],
   "source": [
    "combined_df['BTC_Previous_Day'] = combined_df['BTC'].shift(1)"
   ]
  },
  {
   "cell_type": "code",
   "execution_count": null,
   "metadata": {},
   "outputs": [],
   "source": [
    "combined_df.tail()"
   ]
  },
  {
   "cell_type": "code",
   "execution_count": 104,
   "metadata": {},
   "outputs": [],
   "source": [
    "combined_df['LTC_Previous_Day'] = combined_df['LTC'].shift(1)"
   ]
  },
  {
   "cell_type": "code",
   "execution_count": 105,
   "metadata": {},
   "outputs": [],
   "source": [
    "combined_df['ETH_Previous_Day'] = combined_df['ETH'].shift(1)"
   ]
  },
  {
   "cell_type": "code",
   "execution_count": 106,
   "metadata": {},
   "outputs": [],
   "source": [
    "combined_df['EUR_Previous_Day'] = combined_df['EUR'].shift(1)"
   ]
  },
  {
   "cell_type": "code",
   "execution_count": 107,
   "metadata": {},
   "outputs": [],
   "source": [
    "combined_df['CNY_Previous_Day'] = combined_df['CNY'].shift(1)"
   ]
  },
  {
   "cell_type": "code",
   "execution_count": 108,
   "metadata": {},
   "outputs": [],
   "source": [
    "combined_df['JPY_Previous_Day'] = combined_df['JPY'].shift(1)"
   ]
  },
  {
   "cell_type": "code",
   "execution_count": 109,
   "metadata": {},
   "outputs": [
    {
     "data": {
      "text/html": [
       "<div>\n",
       "<style scoped>\n",
       "    .dataframe tbody tr th:only-of-type {\n",
       "        vertical-align: middle;\n",
       "    }\n",
       "\n",
       "    .dataframe tbody tr th {\n",
       "        vertical-align: top;\n",
       "    }\n",
       "\n",
       "    .dataframe thead th {\n",
       "        text-align: right;\n",
       "    }\n",
       "</style>\n",
       "<table border=\"1\" class=\"dataframe\">\n",
       "  <thead>\n",
       "    <tr style=\"text-align: right;\">\n",
       "      <th></th>\n",
       "      <th>BTC</th>\n",
       "      <th>LTC</th>\n",
       "      <th>ETH</th>\n",
       "      <th>EUR</th>\n",
       "      <th>CNY</th>\n",
       "      <th>JPY</th>\n",
       "      <th>BTC_Previous_Day</th>\n",
       "      <th>LTC_Previous_Day</th>\n",
       "      <th>ETH_Previous_Day</th>\n",
       "      <th>EUR_Previous_Day</th>\n",
       "      <th>CNY_Previous_Day</th>\n",
       "      <th>JPY_Previous_Day</th>\n",
       "    </tr>\n",
       "    <tr>\n",
       "      <th>index</th>\n",
       "      <th></th>\n",
       "      <th></th>\n",
       "      <th></th>\n",
       "      <th></th>\n",
       "      <th></th>\n",
       "      <th></th>\n",
       "      <th></th>\n",
       "      <th></th>\n",
       "      <th></th>\n",
       "      <th></th>\n",
       "      <th></th>\n",
       "      <th></th>\n",
       "    </tr>\n",
       "  </thead>\n",
       "  <tbody>\n",
       "    <tr>\n",
       "      <th>2020-01-14 00:00:00</th>\n",
       "      <td>8820.95</td>\n",
       "      <td>58.43</td>\n",
       "      <td>165.66</td>\n",
       "      <td>0.899685</td>\n",
       "      <td>110.049483</td>\n",
       "      <td>110.049483</td>\n",
       "      <td>8106.56</td>\n",
       "      <td>49.64</td>\n",
       "      <td>143.49</td>\n",
       "      <td>0.898796</td>\n",
       "      <td>109.877764</td>\n",
       "      <td>109.877764</td>\n",
       "    </tr>\n",
       "    <tr>\n",
       "      <th>2020-01-15 00:00:00</th>\n",
       "      <td>8813.21</td>\n",
       "      <td>58.24</td>\n",
       "      <td>166.04</td>\n",
       "      <td>0.897505</td>\n",
       "      <td>109.881529</td>\n",
       "      <td>109.881529</td>\n",
       "      <td>8820.95</td>\n",
       "      <td>58.43</td>\n",
       "      <td>165.66</td>\n",
       "      <td>0.899685</td>\n",
       "      <td>110.049483</td>\n",
       "      <td>110.049483</td>\n",
       "    </tr>\n",
       "    <tr>\n",
       "      <th>2020-01-16 00:00:00</th>\n",
       "      <td>8719.63</td>\n",
       "      <td>57.51</td>\n",
       "      <td>164.10</td>\n",
       "      <td>0.895335</td>\n",
       "      <td>109.947175</td>\n",
       "      <td>109.947175</td>\n",
       "      <td>8813.21</td>\n",
       "      <td>58.24</td>\n",
       "      <td>166.04</td>\n",
       "      <td>0.897505</td>\n",
       "      <td>109.881529</td>\n",
       "      <td>109.881529</td>\n",
       "    </tr>\n",
       "    <tr>\n",
       "      <th>2020-01-17 00:00:00</th>\n",
       "      <td>8895.68</td>\n",
       "      <td>61.43</td>\n",
       "      <td>171.04</td>\n",
       "      <td>0.900252</td>\n",
       "      <td>110.109831</td>\n",
       "      <td>110.109831</td>\n",
       "      <td>8719.63</td>\n",
       "      <td>57.51</td>\n",
       "      <td>164.10</td>\n",
       "      <td>0.895335</td>\n",
       "      <td>109.947175</td>\n",
       "      <td>109.947175</td>\n",
       "    </tr>\n",
       "    <tr>\n",
       "      <th>2020-01-18</th>\n",
       "      <td>0.00</td>\n",
       "      <td>0.00</td>\n",
       "      <td>0.00</td>\n",
       "      <td>0.000000</td>\n",
       "      <td>0.000000</td>\n",
       "      <td>0.000000</td>\n",
       "      <td>8895.68</td>\n",
       "      <td>61.43</td>\n",
       "      <td>171.04</td>\n",
       "      <td>0.900252</td>\n",
       "      <td>110.109831</td>\n",
       "      <td>110.109831</td>\n",
       "    </tr>\n",
       "  </tbody>\n",
       "</table>\n",
       "</div>"
      ],
      "text/plain": [
       "                         BTC    LTC     ETH       EUR         CNY         JPY  \\\n",
       "index                                                                           \n",
       "2020-01-14 00:00:00  8820.95  58.43  165.66  0.899685  110.049483  110.049483   \n",
       "2020-01-15 00:00:00  8813.21  58.24  166.04  0.897505  109.881529  109.881529   \n",
       "2020-01-16 00:00:00  8719.63  57.51  164.10  0.895335  109.947175  109.947175   \n",
       "2020-01-17 00:00:00  8895.68  61.43  171.04  0.900252  110.109831  110.109831   \n",
       "2020-01-18              0.00   0.00    0.00  0.000000    0.000000    0.000000   \n",
       "\n",
       "                     BTC_Previous_Day  LTC_Previous_Day  ETH_Previous_Day  \\\n",
       "index                                                                       \n",
       "2020-01-14 00:00:00           8106.56             49.64            143.49   \n",
       "2020-01-15 00:00:00           8820.95             58.43            165.66   \n",
       "2020-01-16 00:00:00           8813.21             58.24            166.04   \n",
       "2020-01-17 00:00:00           8719.63             57.51            164.10   \n",
       "2020-01-18                    8895.68             61.43            171.04   \n",
       "\n",
       "                     EUR_Previous_Day  CNY_Previous_Day  JPY_Previous_Day  \n",
       "index                                                                      \n",
       "2020-01-14 00:00:00          0.898796        109.877764        109.877764  \n",
       "2020-01-15 00:00:00          0.899685        110.049483        110.049483  \n",
       "2020-01-16 00:00:00          0.897505        109.881529        109.881529  \n",
       "2020-01-17 00:00:00          0.895335        109.947175        109.947175  \n",
       "2020-01-18                   0.900252        110.109831        110.109831  "
      ]
     },
     "execution_count": 109,
     "metadata": {},
     "output_type": "execute_result"
    }
   ],
   "source": [
    "combined_df.tail()"
   ]
  },
  {
   "cell_type": "code",
   "execution_count": 110,
   "metadata": {},
   "outputs": [],
   "source": [
    "combined_df = combined_df.drop(columns = ['EUR', 'CNY', 'JPY'])"
   ]
  },
  {
   "cell_type": "code",
   "execution_count": 111,
   "metadata": {},
   "outputs": [],
   "source": [
    "combined_df = combined_df.dropna()"
   ]
  },
  {
   "cell_type": "code",
   "execution_count": 112,
   "metadata": {},
   "outputs": [
    {
     "data": {
      "text/html": [
       "<div>\n",
       "<style scoped>\n",
       "    .dataframe tbody tr th:only-of-type {\n",
       "        vertical-align: middle;\n",
       "    }\n",
       "\n",
       "    .dataframe tbody tr th {\n",
       "        vertical-align: top;\n",
       "    }\n",
       "\n",
       "    .dataframe thead th {\n",
       "        text-align: right;\n",
       "    }\n",
       "</style>\n",
       "<table border=\"1\" class=\"dataframe\">\n",
       "  <thead>\n",
       "    <tr style=\"text-align: right;\">\n",
       "      <th></th>\n",
       "      <th>BTC</th>\n",
       "      <th>LTC</th>\n",
       "      <th>ETH</th>\n",
       "      <th>BTC_Previous_Day</th>\n",
       "      <th>LTC_Previous_Day</th>\n",
       "      <th>ETH_Previous_Day</th>\n",
       "      <th>EUR_Previous_Day</th>\n",
       "      <th>CNY_Previous_Day</th>\n",
       "      <th>JPY_Previous_Day</th>\n",
       "    </tr>\n",
       "    <tr>\n",
       "      <th>index</th>\n",
       "      <th></th>\n",
       "      <th></th>\n",
       "      <th></th>\n",
       "      <th></th>\n",
       "      <th></th>\n",
       "      <th></th>\n",
       "      <th></th>\n",
       "      <th></th>\n",
       "      <th></th>\n",
       "    </tr>\n",
       "  </thead>\n",
       "  <tbody>\n",
       "    <tr>\n",
       "      <th>2020-01-14 00:00:00</th>\n",
       "      <td>8820.95</td>\n",
       "      <td>58.43</td>\n",
       "      <td>165.66</td>\n",
       "      <td>8106.56</td>\n",
       "      <td>49.64</td>\n",
       "      <td>143.49</td>\n",
       "      <td>0.898796</td>\n",
       "      <td>109.877764</td>\n",
       "      <td>109.877764</td>\n",
       "    </tr>\n",
       "    <tr>\n",
       "      <th>2020-01-15 00:00:00</th>\n",
       "      <td>8813.21</td>\n",
       "      <td>58.24</td>\n",
       "      <td>166.04</td>\n",
       "      <td>8820.95</td>\n",
       "      <td>58.43</td>\n",
       "      <td>165.66</td>\n",
       "      <td>0.899685</td>\n",
       "      <td>110.049483</td>\n",
       "      <td>110.049483</td>\n",
       "    </tr>\n",
       "    <tr>\n",
       "      <th>2020-01-16 00:00:00</th>\n",
       "      <td>8719.63</td>\n",
       "      <td>57.51</td>\n",
       "      <td>164.10</td>\n",
       "      <td>8813.21</td>\n",
       "      <td>58.24</td>\n",
       "      <td>166.04</td>\n",
       "      <td>0.897505</td>\n",
       "      <td>109.881529</td>\n",
       "      <td>109.881529</td>\n",
       "    </tr>\n",
       "    <tr>\n",
       "      <th>2020-01-17 00:00:00</th>\n",
       "      <td>8895.68</td>\n",
       "      <td>61.43</td>\n",
       "      <td>171.04</td>\n",
       "      <td>8719.63</td>\n",
       "      <td>57.51</td>\n",
       "      <td>164.10</td>\n",
       "      <td>0.895335</td>\n",
       "      <td>109.947175</td>\n",
       "      <td>109.947175</td>\n",
       "    </tr>\n",
       "    <tr>\n",
       "      <th>2020-01-18</th>\n",
       "      <td>0.00</td>\n",
       "      <td>0.00</td>\n",
       "      <td>0.00</td>\n",
       "      <td>8895.68</td>\n",
       "      <td>61.43</td>\n",
       "      <td>171.04</td>\n",
       "      <td>0.900252</td>\n",
       "      <td>110.109831</td>\n",
       "      <td>110.109831</td>\n",
       "    </tr>\n",
       "  </tbody>\n",
       "</table>\n",
       "</div>"
      ],
      "text/plain": [
       "                         BTC    LTC     ETH  BTC_Previous_Day  \\\n",
       "index                                                           \n",
       "2020-01-14 00:00:00  8820.95  58.43  165.66           8106.56   \n",
       "2020-01-15 00:00:00  8813.21  58.24  166.04           8820.95   \n",
       "2020-01-16 00:00:00  8719.63  57.51  164.10           8813.21   \n",
       "2020-01-17 00:00:00  8895.68  61.43  171.04           8719.63   \n",
       "2020-01-18              0.00   0.00    0.00           8895.68   \n",
       "\n",
       "                     LTC_Previous_Day  ETH_Previous_Day  EUR_Previous_Day  \\\n",
       "index                                                                       \n",
       "2020-01-14 00:00:00             49.64            143.49          0.898796   \n",
       "2020-01-15 00:00:00             58.43            165.66          0.899685   \n",
       "2020-01-16 00:00:00             58.24            166.04          0.897505   \n",
       "2020-01-17 00:00:00             57.51            164.10          0.895335   \n",
       "2020-01-18                      61.43            171.04          0.900252   \n",
       "\n",
       "                     CNY_Previous_Day  JPY_Previous_Day  \n",
       "index                                                    \n",
       "2020-01-14 00:00:00        109.877764        109.877764  \n",
       "2020-01-15 00:00:00        110.049483        110.049483  \n",
       "2020-01-16 00:00:00        109.881529        109.881529  \n",
       "2020-01-17 00:00:00        109.947175        109.947175  \n",
       "2020-01-18                 110.109831        110.109831  "
      ]
     },
     "execution_count": 112,
     "metadata": {},
     "output_type": "execute_result"
    }
   ],
   "source": [
    "combined_df.tail()"
   ]
  },
  {
   "cell_type": "code",
   "execution_count": 114,
   "metadata": {},
   "outputs": [],
   "source": [
    "new_df = combined_df.copy()"
   ]
  },
  {
   "cell_type": "code",
   "execution_count": null,
   "metadata": {},
   "outputs": [],
   "source": [
    "new_df = get_random_forest_df()"
   ]
  },
  {
   "cell_type": "code",
   "execution_count": null,
   "metadata": {},
   "outputs": [],
   "source": [
    "new_df"
   ]
  },
  {
   "cell_type": "code",
   "execution_count": null,
   "metadata": {},
   "outputs": [],
   "source": [
    "len(new_df)\n"
   ]
  },
  {
   "cell_type": "code",
   "execution_count": 115,
   "metadata": {},
   "outputs": [],
   "source": [
    "X = new_df.drop(columns = ['BTC', 'LTC', 'ETH'])\n"
   ]
  },
  {
   "cell_type": "code",
   "execution_count": 116,
   "metadata": {},
   "outputs": [
    {
     "data": {
      "text/html": [
       "<div>\n",
       "<style scoped>\n",
       "    .dataframe tbody tr th:only-of-type {\n",
       "        vertical-align: middle;\n",
       "    }\n",
       "\n",
       "    .dataframe tbody tr th {\n",
       "        vertical-align: top;\n",
       "    }\n",
       "\n",
       "    .dataframe thead th {\n",
       "        text-align: right;\n",
       "    }\n",
       "</style>\n",
       "<table border=\"1\" class=\"dataframe\">\n",
       "  <thead>\n",
       "    <tr style=\"text-align: right;\">\n",
       "      <th></th>\n",
       "      <th>BTC_Previous_Day</th>\n",
       "      <th>LTC_Previous_Day</th>\n",
       "      <th>ETH_Previous_Day</th>\n",
       "      <th>EUR_Previous_Day</th>\n",
       "      <th>CNY_Previous_Day</th>\n",
       "      <th>JPY_Previous_Day</th>\n",
       "    </tr>\n",
       "    <tr>\n",
       "      <th>index</th>\n",
       "      <th></th>\n",
       "      <th></th>\n",
       "      <th></th>\n",
       "      <th></th>\n",
       "      <th></th>\n",
       "      <th></th>\n",
       "    </tr>\n",
       "  </thead>\n",
       "  <tbody>\n",
       "    <tr>\n",
       "      <th>2020-01-14 00:00:00</th>\n",
       "      <td>8106.56</td>\n",
       "      <td>49.64</td>\n",
       "      <td>143.49</td>\n",
       "      <td>0.898796</td>\n",
       "      <td>109.877764</td>\n",
       "      <td>109.877764</td>\n",
       "    </tr>\n",
       "    <tr>\n",
       "      <th>2020-01-15 00:00:00</th>\n",
       "      <td>8820.95</td>\n",
       "      <td>58.43</td>\n",
       "      <td>165.66</td>\n",
       "      <td>0.899685</td>\n",
       "      <td>110.049483</td>\n",
       "      <td>110.049483</td>\n",
       "    </tr>\n",
       "    <tr>\n",
       "      <th>2020-01-16 00:00:00</th>\n",
       "      <td>8813.21</td>\n",
       "      <td>58.24</td>\n",
       "      <td>166.04</td>\n",
       "      <td>0.897505</td>\n",
       "      <td>109.881529</td>\n",
       "      <td>109.881529</td>\n",
       "    </tr>\n",
       "    <tr>\n",
       "      <th>2020-01-17 00:00:00</th>\n",
       "      <td>8719.63</td>\n",
       "      <td>57.51</td>\n",
       "      <td>164.10</td>\n",
       "      <td>0.895335</td>\n",
       "      <td>109.947175</td>\n",
       "      <td>109.947175</td>\n",
       "    </tr>\n",
       "    <tr>\n",
       "      <th>2020-01-18</th>\n",
       "      <td>8895.68</td>\n",
       "      <td>61.43</td>\n",
       "      <td>171.04</td>\n",
       "      <td>0.900252</td>\n",
       "      <td>110.109831</td>\n",
       "      <td>110.109831</td>\n",
       "    </tr>\n",
       "  </tbody>\n",
       "</table>\n",
       "</div>"
      ],
      "text/plain": [
       "                     BTC_Previous_Day  LTC_Previous_Day  ETH_Previous_Day  \\\n",
       "index                                                                       \n",
       "2020-01-14 00:00:00           8106.56             49.64            143.49   \n",
       "2020-01-15 00:00:00           8820.95             58.43            165.66   \n",
       "2020-01-16 00:00:00           8813.21             58.24            166.04   \n",
       "2020-01-17 00:00:00           8719.63             57.51            164.10   \n",
       "2020-01-18                    8895.68             61.43            171.04   \n",
       "\n",
       "                     EUR_Previous_Day  CNY_Previous_Day  JPY_Previous_Day  \n",
       "index                                                                      \n",
       "2020-01-14 00:00:00          0.898796        109.877764        109.877764  \n",
       "2020-01-15 00:00:00          0.899685        110.049483        110.049483  \n",
       "2020-01-16 00:00:00          0.897505        109.881529        109.881529  \n",
       "2020-01-17 00:00:00          0.895335        109.947175        109.947175  \n",
       "2020-01-18                   0.900252        110.109831        110.109831  "
      ]
     },
     "execution_count": 116,
     "metadata": {},
     "output_type": "execute_result"
    }
   ],
   "source": [
    "X.tail()"
   ]
  },
  {
   "cell_type": "code",
   "execution_count": 117,
   "metadata": {},
   "outputs": [],
   "source": [
    "y = new_df['BTC']"
   ]
  },
  {
   "cell_type": "code",
   "execution_count": 118,
   "metadata": {},
   "outputs": [],
   "source": [
    "X_train = X[:725]\n"
   ]
  },
  {
   "cell_type": "code",
   "execution_count": 119,
   "metadata": {},
   "outputs": [],
   "source": [
    "y_train = y[:725]"
   ]
  },
  {
   "cell_type": "code",
   "execution_count": 120,
   "metadata": {},
   "outputs": [],
   "source": [
    "X_test = X[725:]"
   ]
  },
  {
   "cell_type": "code",
   "execution_count": 121,
   "metadata": {},
   "outputs": [],
   "source": [
    "y_test = y[725:]"
   ]
  },
  {
   "cell_type": "code",
   "execution_count": 122,
   "metadata": {},
   "outputs": [],
   "source": [
    "regressor = RandomForestQuantileRegressor(random_state = 0, n_estimators = 500)"
   ]
  },
  {
   "cell_type": "code",
   "execution_count": 123,
   "metadata": {},
   "outputs": [],
   "source": [
    "model = regressor.fit(X_train, y_train)"
   ]
  },
  {
   "cell_type": "code",
   "execution_count": 124,
   "metadata": {},
   "outputs": [
    {
     "data": {
      "text/plain": [
       "0.9968324512421323"
      ]
     },
     "execution_count": 124,
     "metadata": {},
     "output_type": "execute_result"
    }
   ],
   "source": [
    "model.score(X_train, y_train)"
   ]
  },
  {
   "cell_type": "code",
   "execution_count": 125,
   "metadata": {},
   "outputs": [
    {
     "data": {
      "text/plain": [
       "-0.32042931695749943"
      ]
     },
     "execution_count": 125,
     "metadata": {},
     "output_type": "execute_result"
    }
   ],
   "source": [
    "model.score(X_test,y_test)"
   ]
  },
  {
   "cell_type": "code",
   "execution_count": 126,
   "metadata": {},
   "outputs": [
    {
     "name": "stdout",
     "output_type": "stream",
     "text": [
      "[0.98578307 0.0039288  0.00351437 0.00328276 0.00176333 0.00172767]\n"
     ]
    }
   ],
   "source": [
    "print(model.feature_importances_)"
   ]
  },
  {
   "cell_type": "code",
   "execution_count": 127,
   "metadata": {},
   "outputs": [],
   "source": [
    "predictions = model.predict(X_test)"
   ]
  },
  {
   "cell_type": "code",
   "execution_count": 128,
   "metadata": {},
   "outputs": [
    {
     "data": {
      "text/plain": [
       "array([8040.93326, 7956.04922, 9082.35994, 9050.9868 , 8867.5391 ,\n",
       "       9074.53336])"
      ]
     },
     "execution_count": 128,
     "metadata": {},
     "output_type": "execute_result"
    }
   ],
   "source": [
    "predictions"
   ]
  },
  {
   "cell_type": "code",
   "execution_count": 129,
   "metadata": {},
   "outputs": [],
   "source": [
    "actuals = pd.DataFrame(y_test)"
   ]
  },
  {
   "cell_type": "code",
   "execution_count": 130,
   "metadata": {},
   "outputs": [],
   "source": [
    "actuals_vs_predictions = actuals.copy()"
   ]
  },
  {
   "cell_type": "code",
   "execution_count": 131,
   "metadata": {},
   "outputs": [],
   "source": [
    "actuals_vs_predictions['Predictions'] = predictions"
   ]
  },
  {
   "cell_type": "code",
   "execution_count": 136,
   "metadata": {},
   "outputs": [],
   "source": [
    "actuals_vs_predictions = actuals_vs_predictions.reset_index()"
   ]
  },
  {
   "cell_type": "code",
   "execution_count": 137,
   "metadata": {},
   "outputs": [
    {
     "data": {
      "text/html": [
       "<div>\n",
       "<style scoped>\n",
       "    .dataframe tbody tr th:only-of-type {\n",
       "        vertical-align: middle;\n",
       "    }\n",
       "\n",
       "    .dataframe tbody tr th {\n",
       "        vertical-align: top;\n",
       "    }\n",
       "\n",
       "    .dataframe thead th {\n",
       "        text-align: right;\n",
       "    }\n",
       "</style>\n",
       "<table border=\"1\" class=\"dataframe\">\n",
       "  <thead>\n",
       "    <tr style=\"text-align: right;\">\n",
       "      <th></th>\n",
       "      <th>index</th>\n",
       "      <th>BTC</th>\n",
       "      <th>Predictions</th>\n",
       "    </tr>\n",
       "  </thead>\n",
       "  <tbody>\n",
       "    <tr>\n",
       "      <th>0</th>\n",
       "      <td>2020-01-13</td>\n",
       "      <td>8106.56</td>\n",
       "      <td>8040.93326</td>\n",
       "    </tr>\n",
       "    <tr>\n",
       "      <th>1</th>\n",
       "      <td>2020-01-14</td>\n",
       "      <td>8820.95</td>\n",
       "      <td>7956.04922</td>\n",
       "    </tr>\n",
       "    <tr>\n",
       "      <th>2</th>\n",
       "      <td>2020-01-15</td>\n",
       "      <td>8813.21</td>\n",
       "      <td>9082.35994</td>\n",
       "    </tr>\n",
       "    <tr>\n",
       "      <th>3</th>\n",
       "      <td>2020-01-16</td>\n",
       "      <td>8719.63</td>\n",
       "      <td>9050.98680</td>\n",
       "    </tr>\n",
       "    <tr>\n",
       "      <th>4</th>\n",
       "      <td>2020-01-17</td>\n",
       "      <td>8895.68</td>\n",
       "      <td>8867.53910</td>\n",
       "    </tr>\n",
       "    <tr>\n",
       "      <th>5</th>\n",
       "      <td>2020-01-18</td>\n",
       "      <td>0.00</td>\n",
       "      <td>9074.53336</td>\n",
       "    </tr>\n",
       "  </tbody>\n",
       "</table>\n",
       "</div>"
      ],
      "text/plain": [
       "       index      BTC  Predictions\n",
       "0 2020-01-13  8106.56   8040.93326\n",
       "1 2020-01-14  8820.95   7956.04922\n",
       "2 2020-01-15  8813.21   9082.35994\n",
       "3 2020-01-16  8719.63   9050.98680\n",
       "4 2020-01-17  8895.68   8867.53910\n",
       "5 2020-01-18     0.00   9074.53336"
      ]
     },
     "execution_count": 137,
     "metadata": {},
     "output_type": "execute_result"
    }
   ],
   "source": [
    "actuals_vs_predictions"
   ]
  },
  {
   "cell_type": "code",
   "execution_count": 141,
   "metadata": {},
   "outputs": [
    {
     "data": {
      "application/vnd.plotly.v1+json": {
       "config": {
        "plotlyServerURL": "https://plot.ly"
       },
       "data": [
        {
         "hoverlabel": {
          "namelength": 0
         },
         "hovertemplate": "index=%{x}<br>Predictions=%{y}",
         "legendgroup": "",
         "line": {
          "color": "#636efa",
          "dash": "solid"
         },
         "mode": "lines",
         "name": "",
         "showlegend": false,
         "type": "scatter",
         "x": [
          "2020-01-13T00:00:00",
          "2020-01-14T00:00:00",
          "2020-01-15T00:00:00",
          "2020-01-16T00:00:00",
          "2020-01-17T00:00:00",
          "2020-01-18T00:00:00"
         ],
         "xaxis": "x",
         "y": [
          8040.933260000034,
          7956.049220000032,
          9082.359940000008,
          9050.986800000002,
          8867.539099999989,
          9074.533360000005
         ],
         "yaxis": "y"
        }
       ],
       "layout": {
        "autosize": true,
        "height": 800,
        "legend": {
         "tracegroupgap": 0
        },
        "margin": {
         "t": 60
        },
        "template": {
         "data": {
          "bar": [
           {
            "error_x": {
             "color": "#2a3f5f"
            },
            "error_y": {
             "color": "#2a3f5f"
            },
            "marker": {
             "line": {
              "color": "#E5ECF6",
              "width": 0.5
             }
            },
            "type": "bar"
           }
          ],
          "barpolar": [
           {
            "marker": {
             "line": {
              "color": "#E5ECF6",
              "width": 0.5
             }
            },
            "type": "barpolar"
           }
          ],
          "carpet": [
           {
            "aaxis": {
             "endlinecolor": "#2a3f5f",
             "gridcolor": "white",
             "linecolor": "white",
             "minorgridcolor": "white",
             "startlinecolor": "#2a3f5f"
            },
            "baxis": {
             "endlinecolor": "#2a3f5f",
             "gridcolor": "white",
             "linecolor": "white",
             "minorgridcolor": "white",
             "startlinecolor": "#2a3f5f"
            },
            "type": "carpet"
           }
          ],
          "choropleth": [
           {
            "colorbar": {
             "outlinewidth": 0,
             "ticks": ""
            },
            "type": "choropleth"
           }
          ],
          "contour": [
           {
            "colorbar": {
             "outlinewidth": 0,
             "ticks": ""
            },
            "colorscale": [
             [
              0,
              "#0d0887"
             ],
             [
              0.1111111111111111,
              "#46039f"
             ],
             [
              0.2222222222222222,
              "#7201a8"
             ],
             [
              0.3333333333333333,
              "#9c179e"
             ],
             [
              0.4444444444444444,
              "#bd3786"
             ],
             [
              0.5555555555555556,
              "#d8576b"
             ],
             [
              0.6666666666666666,
              "#ed7953"
             ],
             [
              0.7777777777777778,
              "#fb9f3a"
             ],
             [
              0.8888888888888888,
              "#fdca26"
             ],
             [
              1,
              "#f0f921"
             ]
            ],
            "type": "contour"
           }
          ],
          "contourcarpet": [
           {
            "colorbar": {
             "outlinewidth": 0,
             "ticks": ""
            },
            "type": "contourcarpet"
           }
          ],
          "heatmap": [
           {
            "colorbar": {
             "outlinewidth": 0,
             "ticks": ""
            },
            "colorscale": [
             [
              0,
              "#0d0887"
             ],
             [
              0.1111111111111111,
              "#46039f"
             ],
             [
              0.2222222222222222,
              "#7201a8"
             ],
             [
              0.3333333333333333,
              "#9c179e"
             ],
             [
              0.4444444444444444,
              "#bd3786"
             ],
             [
              0.5555555555555556,
              "#d8576b"
             ],
             [
              0.6666666666666666,
              "#ed7953"
             ],
             [
              0.7777777777777778,
              "#fb9f3a"
             ],
             [
              0.8888888888888888,
              "#fdca26"
             ],
             [
              1,
              "#f0f921"
             ]
            ],
            "type": "heatmap"
           }
          ],
          "heatmapgl": [
           {
            "colorbar": {
             "outlinewidth": 0,
             "ticks": ""
            },
            "colorscale": [
             [
              0,
              "#0d0887"
             ],
             [
              0.1111111111111111,
              "#46039f"
             ],
             [
              0.2222222222222222,
              "#7201a8"
             ],
             [
              0.3333333333333333,
              "#9c179e"
             ],
             [
              0.4444444444444444,
              "#bd3786"
             ],
             [
              0.5555555555555556,
              "#d8576b"
             ],
             [
              0.6666666666666666,
              "#ed7953"
             ],
             [
              0.7777777777777778,
              "#fb9f3a"
             ],
             [
              0.8888888888888888,
              "#fdca26"
             ],
             [
              1,
              "#f0f921"
             ]
            ],
            "type": "heatmapgl"
           }
          ],
          "histogram": [
           {
            "marker": {
             "colorbar": {
              "outlinewidth": 0,
              "ticks": ""
             }
            },
            "type": "histogram"
           }
          ],
          "histogram2d": [
           {
            "colorbar": {
             "outlinewidth": 0,
             "ticks": ""
            },
            "colorscale": [
             [
              0,
              "#0d0887"
             ],
             [
              0.1111111111111111,
              "#46039f"
             ],
             [
              0.2222222222222222,
              "#7201a8"
             ],
             [
              0.3333333333333333,
              "#9c179e"
             ],
             [
              0.4444444444444444,
              "#bd3786"
             ],
             [
              0.5555555555555556,
              "#d8576b"
             ],
             [
              0.6666666666666666,
              "#ed7953"
             ],
             [
              0.7777777777777778,
              "#fb9f3a"
             ],
             [
              0.8888888888888888,
              "#fdca26"
             ],
             [
              1,
              "#f0f921"
             ]
            ],
            "type": "histogram2d"
           }
          ],
          "histogram2dcontour": [
           {
            "colorbar": {
             "outlinewidth": 0,
             "ticks": ""
            },
            "colorscale": [
             [
              0,
              "#0d0887"
             ],
             [
              0.1111111111111111,
              "#46039f"
             ],
             [
              0.2222222222222222,
              "#7201a8"
             ],
             [
              0.3333333333333333,
              "#9c179e"
             ],
             [
              0.4444444444444444,
              "#bd3786"
             ],
             [
              0.5555555555555556,
              "#d8576b"
             ],
             [
              0.6666666666666666,
              "#ed7953"
             ],
             [
              0.7777777777777778,
              "#fb9f3a"
             ],
             [
              0.8888888888888888,
              "#fdca26"
             ],
             [
              1,
              "#f0f921"
             ]
            ],
            "type": "histogram2dcontour"
           }
          ],
          "mesh3d": [
           {
            "colorbar": {
             "outlinewidth": 0,
             "ticks": ""
            },
            "type": "mesh3d"
           }
          ],
          "parcoords": [
           {
            "line": {
             "colorbar": {
              "outlinewidth": 0,
              "ticks": ""
             }
            },
            "type": "parcoords"
           }
          ],
          "scatter": [
           {
            "marker": {
             "colorbar": {
              "outlinewidth": 0,
              "ticks": ""
             }
            },
            "type": "scatter"
           }
          ],
          "scatter3d": [
           {
            "line": {
             "colorbar": {
              "outlinewidth": 0,
              "ticks": ""
             }
            },
            "marker": {
             "colorbar": {
              "outlinewidth": 0,
              "ticks": ""
             }
            },
            "type": "scatter3d"
           }
          ],
          "scattercarpet": [
           {
            "marker": {
             "colorbar": {
              "outlinewidth": 0,
              "ticks": ""
             }
            },
            "type": "scattercarpet"
           }
          ],
          "scattergeo": [
           {
            "marker": {
             "colorbar": {
              "outlinewidth": 0,
              "ticks": ""
             }
            },
            "type": "scattergeo"
           }
          ],
          "scattergl": [
           {
            "marker": {
             "colorbar": {
              "outlinewidth": 0,
              "ticks": ""
             }
            },
            "type": "scattergl"
           }
          ],
          "scattermapbox": [
           {
            "marker": {
             "colorbar": {
              "outlinewidth": 0,
              "ticks": ""
             }
            },
            "type": "scattermapbox"
           }
          ],
          "scatterpolar": [
           {
            "marker": {
             "colorbar": {
              "outlinewidth": 0,
              "ticks": ""
             }
            },
            "type": "scatterpolar"
           }
          ],
          "scatterpolargl": [
           {
            "marker": {
             "colorbar": {
              "outlinewidth": 0,
              "ticks": ""
             }
            },
            "type": "scatterpolargl"
           }
          ],
          "scatterternary": [
           {
            "marker": {
             "colorbar": {
              "outlinewidth": 0,
              "ticks": ""
             }
            },
            "type": "scatterternary"
           }
          ],
          "surface": [
           {
            "colorbar": {
             "outlinewidth": 0,
             "ticks": ""
            },
            "colorscale": [
             [
              0,
              "#0d0887"
             ],
             [
              0.1111111111111111,
              "#46039f"
             ],
             [
              0.2222222222222222,
              "#7201a8"
             ],
             [
              0.3333333333333333,
              "#9c179e"
             ],
             [
              0.4444444444444444,
              "#bd3786"
             ],
             [
              0.5555555555555556,
              "#d8576b"
             ],
             [
              0.6666666666666666,
              "#ed7953"
             ],
             [
              0.7777777777777778,
              "#fb9f3a"
             ],
             [
              0.8888888888888888,
              "#fdca26"
             ],
             [
              1,
              "#f0f921"
             ]
            ],
            "type": "surface"
           }
          ],
          "table": [
           {
            "cells": {
             "fill": {
              "color": "#EBF0F8"
             },
             "line": {
              "color": "white"
             }
            },
            "header": {
             "fill": {
              "color": "#C8D4E3"
             },
             "line": {
              "color": "white"
             }
            },
            "type": "table"
           }
          ]
         },
         "layout": {
          "annotationdefaults": {
           "arrowcolor": "#2a3f5f",
           "arrowhead": 0,
           "arrowwidth": 1
          },
          "colorscale": {
           "diverging": [
            [
             0,
             "#8e0152"
            ],
            [
             0.1,
             "#c51b7d"
            ],
            [
             0.2,
             "#de77ae"
            ],
            [
             0.3,
             "#f1b6da"
            ],
            [
             0.4,
             "#fde0ef"
            ],
            [
             0.5,
             "#f7f7f7"
            ],
            [
             0.6,
             "#e6f5d0"
            ],
            [
             0.7,
             "#b8e186"
            ],
            [
             0.8,
             "#7fbc41"
            ],
            [
             0.9,
             "#4d9221"
            ],
            [
             1,
             "#276419"
            ]
           ],
           "sequential": [
            [
             0,
             "#0d0887"
            ],
            [
             0.1111111111111111,
             "#46039f"
            ],
            [
             0.2222222222222222,
             "#7201a8"
            ],
            [
             0.3333333333333333,
             "#9c179e"
            ],
            [
             0.4444444444444444,
             "#bd3786"
            ],
            [
             0.5555555555555556,
             "#d8576b"
            ],
            [
             0.6666666666666666,
             "#ed7953"
            ],
            [
             0.7777777777777778,
             "#fb9f3a"
            ],
            [
             0.8888888888888888,
             "#fdca26"
            ],
            [
             1,
             "#f0f921"
            ]
           ],
           "sequentialminus": [
            [
             0,
             "#0d0887"
            ],
            [
             0.1111111111111111,
             "#46039f"
            ],
            [
             0.2222222222222222,
             "#7201a8"
            ],
            [
             0.3333333333333333,
             "#9c179e"
            ],
            [
             0.4444444444444444,
             "#bd3786"
            ],
            [
             0.5555555555555556,
             "#d8576b"
            ],
            [
             0.6666666666666666,
             "#ed7953"
            ],
            [
             0.7777777777777778,
             "#fb9f3a"
            ],
            [
             0.8888888888888888,
             "#fdca26"
            ],
            [
             1,
             "#f0f921"
            ]
           ]
          },
          "colorway": [
           "#636efa",
           "#EF553B",
           "#00cc96",
           "#ab63fa",
           "#FFA15A",
           "#19d3f3",
           "#FF6692",
           "#B6E880",
           "#FF97FF",
           "#FECB52"
          ],
          "font": {
           "color": "#2a3f5f"
          },
          "geo": {
           "bgcolor": "white",
           "lakecolor": "white",
           "landcolor": "#E5ECF6",
           "showlakes": true,
           "showland": true,
           "subunitcolor": "white"
          },
          "hoverlabel": {
           "align": "left"
          },
          "hovermode": "closest",
          "mapbox": {
           "style": "light"
          },
          "paper_bgcolor": "white",
          "plot_bgcolor": "#E5ECF6",
          "polar": {
           "angularaxis": {
            "gridcolor": "white",
            "linecolor": "white",
            "ticks": ""
           },
           "bgcolor": "#E5ECF6",
           "radialaxis": {
            "gridcolor": "white",
            "linecolor": "white",
            "ticks": ""
           }
          },
          "scene": {
           "xaxis": {
            "backgroundcolor": "#E5ECF6",
            "gridcolor": "white",
            "gridwidth": 2,
            "linecolor": "white",
            "showbackground": true,
            "ticks": "",
            "zerolinecolor": "white"
           },
           "yaxis": {
            "backgroundcolor": "#E5ECF6",
            "gridcolor": "white",
            "gridwidth": 2,
            "linecolor": "white",
            "showbackground": true,
            "ticks": "",
            "zerolinecolor": "white"
           },
           "zaxis": {
            "backgroundcolor": "#E5ECF6",
            "gridcolor": "white",
            "gridwidth": 2,
            "linecolor": "white",
            "showbackground": true,
            "ticks": "",
            "zerolinecolor": "white"
           }
          },
          "shapedefaults": {
           "line": {
            "color": "#2a3f5f"
           }
          },
          "ternary": {
           "aaxis": {
            "gridcolor": "white",
            "linecolor": "white",
            "ticks": ""
           },
           "baxis": {
            "gridcolor": "white",
            "linecolor": "white",
            "ticks": ""
           },
           "bgcolor": "#E5ECF6",
           "caxis": {
            "gridcolor": "white",
            "linecolor": "white",
            "ticks": ""
           }
          },
          "title": {
           "x": 0.05
          },
          "xaxis": {
           "automargin": true,
           "gridcolor": "white",
           "linecolor": "white",
           "ticks": "",
           "zerolinecolor": "white",
           "zerolinewidth": 2
          },
          "yaxis": {
           "automargin": true,
           "gridcolor": "white",
           "linecolor": "white",
           "ticks": "",
           "zerolinecolor": "white",
           "zerolinewidth": 2
          }
         }
        },
        "width": 950,
        "xaxis": {
         "anchor": "y",
         "autorange": true,
         "domain": [
          0,
          0.98
         ],
         "nticks": 5,
         "range": [
          "2020-01-13",
          "2020-01-18"
         ],
         "title": {
          "text": "index"
         },
         "type": "date"
        },
        "yaxis": {
         "anchor": "x",
         "automargin": true,
         "autorange": true,
         "domain": [
          0,
          1
         ],
         "range": [
          7893.476402222255,
          9144.932757777784
         ],
         "title": {
          "text": "Predictions"
         },
         "type": "linear"
        }
       }
      },
      "image/png": "[encoded data removed]",
      "text/html": [
       "<div>\n",
       "        \n",
       "        \n",
       "            <div id=\"47bed2f3-3ab1-46f5-a567-c1bb302708f0\" class=\"plotly-graph-div\" style=\"height:800px; width:950px;\"></div>\n",
       "            <script type=\"text/javascript\">\n",
       "                require([\"plotly\"], function(Plotly) {\n",
       "                    window.PLOTLYENV=window.PLOTLYENV || {};\n",
       "                    \n",
       "                if (document.getElementById(\"47bed2f3-3ab1-46f5-a567-c1bb302708f0\")) {\n",
       "                    Plotly.newPlot(\n",
       "                        '47bed2f3-3ab1-46f5-a567-c1bb302708f0',\n",
       "                        [{\"hoverlabel\": {\"namelength\": 0}, \"hovertemplate\": \"index=%{x}<br>Predictions=%{y}\", \"legendgroup\": \"\", \"line\": {\"color\": \"#636efa\", \"dash\": \"solid\"}, \"mode\": \"lines\", \"name\": \"\", \"showlegend\": false, \"type\": \"scatter\", \"x\": [\"2020-01-13T00:00:00\", \"2020-01-14T00:00:00\", \"2020-01-15T00:00:00\", \"2020-01-16T00:00:00\", \"2020-01-17T00:00:00\", \"2020-01-18T00:00:00\"], \"xaxis\": \"x\", \"y\": [8040.933260000034, 7956.049220000032, 9082.359940000008, 9050.986800000002, 8867.539099999989, 9074.533360000005], \"yaxis\": \"y\"}],\n",
       "                        {\"autosize\": true, \"height\": 800, \"legend\": {\"tracegroupgap\": 0}, \"margin\": {\"t\": 60}, \"template\": {\"data\": {\"bar\": [{\"error_x\": {\"color\": \"#2a3f5f\"}, \"error_y\": {\"color\": \"#2a3f5f\"}, \"marker\": {\"line\": {\"color\": \"#E5ECF6\", \"width\": 0.5}}, \"type\": \"bar\"}], \"barpolar\": [{\"marker\": {\"line\": {\"color\": \"#E5ECF6\", \"width\": 0.5}}, \"type\": \"barpolar\"}], \"carpet\": [{\"aaxis\": {\"endlinecolor\": \"#2a3f5f\", \"gridcolor\": \"white\", \"linecolor\": \"white\", \"minorgridcolor\": \"white\", \"startlinecolor\": \"#2a3f5f\"}, \"baxis\": {\"endlinecolor\": \"#2a3f5f\", \"gridcolor\": \"white\", \"linecolor\": \"white\", \"minorgridcolor\": \"white\", \"startlinecolor\": \"#2a3f5f\"}, \"type\": \"carpet\"}], \"choropleth\": [{\"colorbar\": {\"outlinewidth\": 0, \"ticks\": \"\"}, \"type\": \"choropleth\"}], \"contour\": [{\"colorbar\": {\"outlinewidth\": 0, \"ticks\": \"\"}, \"colorscale\": [[0.0, \"#0d0887\"], [0.1111111111111111, \"#46039f\"], [0.2222222222222222, \"#7201a8\"], [0.3333333333333333, \"#9c179e\"], [0.4444444444444444, \"#bd3786\"], [0.5555555555555556, \"#d8576b\"], [0.6666666666666666, \"#ed7953\"], [0.7777777777777778, \"#fb9f3a\"], [0.8888888888888888, \"#fdca26\"], [1.0, \"#f0f921\"]], \"type\": \"contour\"}], \"contourcarpet\": [{\"colorbar\": {\"outlinewidth\": 0, \"ticks\": \"\"}, \"type\": \"contourcarpet\"}], \"heatmap\": [{\"colorbar\": {\"outlinewidth\": 0, \"ticks\": \"\"}, \"colorscale\": [[0.0, \"#0d0887\"], [0.1111111111111111, \"#46039f\"], [0.2222222222222222, \"#7201a8\"], [0.3333333333333333, \"#9c179e\"], [0.4444444444444444, \"#bd3786\"], [0.5555555555555556, \"#d8576b\"], [0.6666666666666666, \"#ed7953\"], [0.7777777777777778, \"#fb9f3a\"], [0.8888888888888888, \"#fdca26\"], [1.0, \"#f0f921\"]], \"type\": \"heatmap\"}], \"heatmapgl\": [{\"colorbar\": {\"outlinewidth\": 0, \"ticks\": \"\"}, \"colorscale\": [[0.0, \"#0d0887\"], [0.1111111111111111, \"#46039f\"], [0.2222222222222222, \"#7201a8\"], [0.3333333333333333, \"#9c179e\"], [0.4444444444444444, \"#bd3786\"], [0.5555555555555556, \"#d8576b\"], [0.6666666666666666, \"#ed7953\"], [0.7777777777777778, \"#fb9f3a\"], [0.8888888888888888, \"#fdca26\"], [1.0, \"#f0f921\"]], \"type\": \"heatmapgl\"}], \"histogram\": [{\"marker\": {\"colorbar\": {\"outlinewidth\": 0, \"ticks\": \"\"}}, \"type\": \"histogram\"}], \"histogram2d\": [{\"colorbar\": {\"outlinewidth\": 0, \"ticks\": \"\"}, \"colorscale\": [[0.0, \"#0d0887\"], [0.1111111111111111, \"#46039f\"], [0.2222222222222222, \"#7201a8\"], [0.3333333333333333, \"#9c179e\"], [0.4444444444444444, \"#bd3786\"], [0.5555555555555556, \"#d8576b\"], [0.6666666666666666, \"#ed7953\"], [0.7777777777777778, \"#fb9f3a\"], [0.8888888888888888, \"#fdca26\"], [1.0, \"#f0f921\"]], \"type\": \"histogram2d\"}], \"histogram2dcontour\": [{\"colorbar\": {\"outlinewidth\": 0, \"ticks\": \"\"}, \"colorscale\": [[0.0, \"#0d0887\"], [0.1111111111111111, \"#46039f\"], [0.2222222222222222, \"#7201a8\"], [0.3333333333333333, \"#9c179e\"], [0.4444444444444444, \"#bd3786\"], [0.5555555555555556, \"#d8576b\"], [0.6666666666666666, \"#ed7953\"], [0.7777777777777778, \"#fb9f3a\"], [0.8888888888888888, \"#fdca26\"], [1.0, \"#f0f921\"]], \"type\": \"histogram2dcontour\"}], \"mesh3d\": [{\"colorbar\": {\"outlinewidth\": 0, \"ticks\": \"\"}, \"type\": \"mesh3d\"}], \"parcoords\": [{\"line\": {\"colorbar\": {\"outlinewidth\": 0, \"ticks\": \"\"}}, \"type\": \"parcoords\"}], \"scatter\": [{\"marker\": {\"colorbar\": {\"outlinewidth\": 0, \"ticks\": \"\"}}, \"type\": \"scatter\"}], \"scatter3d\": [{\"line\": {\"colorbar\": {\"outlinewidth\": 0, \"ticks\": \"\"}}, \"marker\": {\"colorbar\": {\"outlinewidth\": 0, \"ticks\": \"\"}}, \"type\": \"scatter3d\"}], \"scattercarpet\": [{\"marker\": {\"colorbar\": {\"outlinewidth\": 0, \"ticks\": \"\"}}, \"type\": \"scattercarpet\"}], \"scattergeo\": [{\"marker\": {\"colorbar\": {\"outlinewidth\": 0, \"ticks\": \"\"}}, \"type\": \"scattergeo\"}], \"scattergl\": [{\"marker\": {\"colorbar\": {\"outlinewidth\": 0, \"ticks\": \"\"}}, \"type\": \"scattergl\"}], \"scattermapbox\": [{\"marker\": {\"colorbar\": {\"outlinewidth\": 0, \"ticks\": \"\"}}, \"type\": \"scattermapbox\"}], \"scatterpolar\": [{\"marker\": {\"colorbar\": {\"outlinewidth\": 0, \"ticks\": \"\"}}, \"type\": \"scatterpolar\"}], \"scatterpolargl\": [{\"marker\": {\"colorbar\": {\"outlinewidth\": 0, \"ticks\": \"\"}}, \"type\": \"scatterpolargl\"}], \"scatterternary\": [{\"marker\": {\"colorbar\": {\"outlinewidth\": 0, \"ticks\": \"\"}}, \"type\": \"scatterternary\"}], \"surface\": [{\"colorbar\": {\"outlinewidth\": 0, \"ticks\": \"\"}, \"colorscale\": [[0.0, \"#0d0887\"], [0.1111111111111111, \"#46039f\"], [0.2222222222222222, \"#7201a8\"], [0.3333333333333333, \"#9c179e\"], [0.4444444444444444, \"#bd3786\"], [0.5555555555555556, \"#d8576b\"], [0.6666666666666666, \"#ed7953\"], [0.7777777777777778, \"#fb9f3a\"], [0.8888888888888888, \"#fdca26\"], [1.0, \"#f0f921\"]], \"type\": \"surface\"}], \"table\": [{\"cells\": {\"fill\": {\"color\": \"#EBF0F8\"}, \"line\": {\"color\": \"white\"}}, \"header\": {\"fill\": {\"color\": \"#C8D4E3\"}, \"line\": {\"color\": \"white\"}}, \"type\": \"table\"}]}, \"layout\": {\"annotationdefaults\": {\"arrowcolor\": \"#2a3f5f\", \"arrowhead\": 0, \"arrowwidth\": 1}, \"colorscale\": {\"diverging\": [[0, \"#8e0152\"], [0.1, \"#c51b7d\"], [0.2, \"#de77ae\"], [0.3, \"#f1b6da\"], [0.4, \"#fde0ef\"], [0.5, \"#f7f7f7\"], [0.6, \"#e6f5d0\"], [0.7, \"#b8e186\"], [0.8, \"#7fbc41\"], [0.9, \"#4d9221\"], [1, \"#276419\"]], \"sequential\": [[0.0, \"#0d0887\"], [0.1111111111111111, \"#46039f\"], [0.2222222222222222, \"#7201a8\"], [0.3333333333333333, \"#9c179e\"], [0.4444444444444444, \"#bd3786\"], [0.5555555555555556, \"#d8576b\"], [0.6666666666666666, \"#ed7953\"], [0.7777777777777778, \"#fb9f3a\"], [0.8888888888888888, \"#fdca26\"], [1.0, \"#f0f921\"]], \"sequentialminus\": [[0.0, \"#0d0887\"], [0.1111111111111111, \"#46039f\"], [0.2222222222222222, \"#7201a8\"], [0.3333333333333333, \"#9c179e\"], [0.4444444444444444, \"#bd3786\"], [0.5555555555555556, \"#d8576b\"], [0.6666666666666666, \"#ed7953\"], [0.7777777777777778, \"#fb9f3a\"], [0.8888888888888888, \"#fdca26\"], [1.0, \"#f0f921\"]]}, \"colorway\": [\"#636efa\", \"#EF553B\", \"#00cc96\", \"#ab63fa\", \"#FFA15A\", \"#19d3f3\", \"#FF6692\", \"#B6E880\", \"#FF97FF\", \"#FECB52\"], \"font\": {\"color\": \"#2a3f5f\"}, \"geo\": {\"bgcolor\": \"white\", \"lakecolor\": \"white\", \"landcolor\": \"#E5ECF6\", \"showlakes\": true, \"showland\": true, \"subunitcolor\": \"white\"}, \"hoverlabel\": {\"align\": \"left\"}, \"hovermode\": \"closest\", \"mapbox\": {\"style\": \"light\"}, \"paper_bgcolor\": \"white\", \"plot_bgcolor\": \"#E5ECF6\", \"polar\": {\"angularaxis\": {\"gridcolor\": \"white\", \"linecolor\": \"white\", \"ticks\": \"\"}, \"bgcolor\": \"#E5ECF6\", \"radialaxis\": {\"gridcolor\": \"white\", \"linecolor\": \"white\", \"ticks\": \"\"}}, \"scene\": {\"xaxis\": {\"backgroundcolor\": \"#E5ECF6\", \"gridcolor\": \"white\", \"gridwidth\": 2, \"linecolor\": \"white\", \"showbackground\": true, \"ticks\": \"\", \"zerolinecolor\": \"white\"}, \"yaxis\": {\"backgroundcolor\": \"#E5ECF6\", \"gridcolor\": \"white\", \"gridwidth\": 2, \"linecolor\": \"white\", \"showbackground\": true, \"ticks\": \"\", \"zerolinecolor\": \"white\"}, \"zaxis\": {\"backgroundcolor\": \"#E5ECF6\", \"gridcolor\": \"white\", \"gridwidth\": 2, \"linecolor\": \"white\", \"showbackground\": true, \"ticks\": \"\", \"zerolinecolor\": \"white\"}}, \"shapedefaults\": {\"line\": {\"color\": \"#2a3f5f\"}}, \"ternary\": {\"aaxis\": {\"gridcolor\": \"white\", \"linecolor\": \"white\", \"ticks\": \"\"}, \"baxis\": {\"gridcolor\": \"white\", \"linecolor\": \"white\", \"ticks\": \"\"}, \"bgcolor\": \"#E5ECF6\", \"caxis\": {\"gridcolor\": \"white\", \"linecolor\": \"white\", \"ticks\": \"\"}}, \"title\": {\"x\": 0.05}, \"xaxis\": {\"automargin\": true, \"gridcolor\": \"white\", \"linecolor\": \"white\", \"ticks\": \"\", \"zerolinecolor\": \"white\", \"zerolinewidth\": 2}, \"yaxis\": {\"automargin\": true, \"gridcolor\": \"white\", \"linecolor\": \"white\", \"ticks\": \"\", \"zerolinecolor\": \"white\", \"zerolinewidth\": 2}}}, \"width\": 950, \"xaxis\": {\"anchor\": \"y\", \"domain\": [0.0, 0.98], \"nticks\": 5, \"title\": {\"text\": \"index\"}}, \"yaxis\": {\"anchor\": \"x\", \"automargin\": true, \"domain\": [0.0, 1.0], \"title\": {\"text\": \"Predictions\"}}},\n",
       "                        {\"responsive\": true}\n",
       "                    ).then(function(){\n",
       "                            \n",
       "var gd = document.getElementById('47bed2f3-3ab1-46f5-a567-c1bb302708f0');\n",
       "var x = new MutationObserver(function (mutations, observer) {{\n",
       "        var display = window.getComputedStyle(gd).display;\n",
       "        if (!display || display === 'none') {{\n",
       "            console.log([gd, 'removed!']);\n",
       "            Plotly.purge(gd);\n",
       "            observer.disconnect();\n",
       "        }}\n",
       "}});\n",
       "\n",
       "// Listen for the removal of the full notebook cells\n",
       "var notebookContainer = gd.closest('#notebook-container');\n",
       "if (notebookContainer) {{\n",
       "    x.observe(notebookContainer, {childList: true});\n",
       "}}\n",
       "\n",
       "// Listen for the clearing of the current output cell\n",
       "var outputEl = gd.closest('.output');\n",
       "if (outputEl) {{\n",
       "    x.observe(outputEl, {childList: true});\n",
       "}}\n",
       "\n",
       "                        })\n",
       "                };\n",
       "                });\n",
       "            </script>\n",
       "        </div>"
      ]
     },
     "metadata": {},
     "output_type": "display_data"
    }
   ],
   "source": [
    "fig = px.line(actuals_vs_predictions, x = 'index', y = 'Predictions')\n",
    "fig.update_layout(autosize = True, height = 800, width = 950)\n",
    "fig.update_xaxes(nticks = 5)\n",
    "fig.update_yaxes(automargin=True)"
   ]
  },
  {
   "cell_type": "code",
   "execution_count": null,
   "metadata": {},
   "outputs": [],
   "source": []
  }
 ],
 "metadata": {
  "kernelspec": {
   "display_name": "Python 3",
   "language": "python",
   "name": "python3"
  },
  "language_info": {
   "codemirror_mode": {
    "name": "ipython",
    "version": 3
   },
   "file_extension": ".py",
   "mimetype": "text/x-python",
   "name": "python",
   "nbconvert_exporter": "python",
   "pygments_lexer": "ipython3",
   "version": "3.7.3"
  }
 },
 "nbformat": 4,
 "nbformat_minor": 4
}
