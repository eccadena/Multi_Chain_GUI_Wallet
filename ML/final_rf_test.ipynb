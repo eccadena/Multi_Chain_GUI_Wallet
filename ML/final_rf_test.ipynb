{
 "cells": [
  {
   "cell_type": "code",
   "execution_count": 2,
   "metadata": {},
   "outputs": [],
   "source": [
    "import pandas as pd\n",
    "import requests\n",
    "from datetime import date, timedelta\n",
    "from ml_functions import get_historical_data, get_random_forest_df\n",
    "from skgarden import RandomForestQuantileRegressor\n",
    "from plotly.io import write_html\n",
    "import plotly.express as px\n",
    "import numpy as np\n",
    "\n"
   ]
  },
  {
   "cell_type": "code",
   "execution_count": null,
   "metadata": {},
   "outputs": [],
   "source": [
    "end_date = date.today().isoformat()"
   ]
  },
  {
   "cell_type": "code",
   "execution_count": null,
   "metadata": {},
   "outputs": [],
   "source": [
    "end_date"
   ]
  },
  {
   "cell_type": "code",
   "execution_count": null,
   "metadata": {},
   "outputs": [],
   "source": [
    "delta = timedelta(730)"
   ]
  },
  {
   "cell_type": "code",
   "execution_count": null,
   "metadata": {},
   "outputs": [],
   "source": [
    "start_date = (date.today() - delta).isoformat()"
   ]
  },
  {
   "cell_type": "code",
   "execution_count": null,
   "metadata": {},
   "outputs": [],
   "source": [
    "start_date"
   ]
  },
  {
   "cell_type": "code",
   "execution_count": null,
   "metadata": {},
   "outputs": [],
   "source": [
    "url = 'https://api.exchangeratesapi.io/history'\n"
   ]
  },
  {
   "cell_type": "code",
   "execution_count": null,
   "metadata": {},
   "outputs": [],
   "source": [
    "payload = {\n",
    "    \"start_at\": start_date,\n",
    "    \"end_at\": end_date,\n",
    "    \"symbols\": \"CNY,JPY,EUR\",\n",
    "    \"base\": \"USD\"\n",
    "}"
   ]
  },
  {
   "cell_type": "code",
   "execution_count": null,
   "metadata": {},
   "outputs": [],
   "source": [
    "result = requests.get(url, params = payload).json()"
   ]
  },
  {
   "cell_type": "code",
   "execution_count": null,
   "metadata": {},
   "outputs": [],
   "source": [
    "rate_df = pd.DataFrame(result['rates']).transpose()"
   ]
  },
  {
   "cell_type": "code",
   "execution_count": null,
   "metadata": {},
   "outputs": [],
   "source": [
    "rate_df = rate_df.sort_index()\n"
   ]
  },
  {
   "cell_type": "code",
   "execution_count": null,
   "metadata": {},
   "outputs": [],
   "source": [
    "rate_df.index = pd.to_datetime(rate_df.index, format = '%Y-%m-%d')"
   ]
  },
  {
   "cell_type": "code",
   "execution_count": null,
   "metadata": {},
   "outputs": [],
   "source": [
    "rate_df"
   ]
  },
  {
   "cell_type": "code",
   "execution_count": null,
   "metadata": {},
   "outputs": [],
   "source": [
    "btc_price = get_historical_data('BTC', 730)"
   ]
  },
  {
   "cell_type": "code",
   "execution_count": null,
   "metadata": {},
   "outputs": [],
   "source": [
    "len(btc_price)"
   ]
  },
  {
   "cell_type": "code",
   "execution_count": null,
   "metadata": {},
   "outputs": [],
   "source": [
    "btc_price = btc_price.rename(columns = {'close': 'BTC'})\n",
    "    \n",
    "    "
   ]
  },
  {
   "cell_type": "code",
   "execution_count": null,
   "metadata": {},
   "outputs": [],
   "source": [
    "btc_price.head()"
   ]
  },
  {
   "cell_type": "code",
   "execution_count": null,
   "metadata": {},
   "outputs": [],
   "source": [
    "eth_price = get_historical_data('ETH', 730)"
   ]
  },
  {
   "cell_type": "code",
   "execution_count": null,
   "metadata": {},
   "outputs": [],
   "source": [
    "eth_price = eth_price.rename(columns = {'close': 'ETH'})"
   ]
  },
  {
   "cell_type": "code",
   "execution_count": null,
   "metadata": {},
   "outputs": [],
   "source": [
    "ltc_price = get_historical_data('LTC', 730)"
   ]
  },
  {
   "cell_type": "code",
   "execution_count": null,
   "metadata": {},
   "outputs": [],
   "source": [
    "ltc_price = ltc_price.rename(columns = {'close': 'LTC'})"
   ]
  },
  {
   "cell_type": "code",
   "execution_count": null,
   "metadata": {},
   "outputs": [],
   "source": [
    "coin_df = btc_price"
   ]
  },
  {
   "cell_type": "code",
   "execution_count": null,
   "metadata": {},
   "outputs": [],
   "source": [
    "coin_df['LTC'] = ltc_price"
   ]
  },
  {
   "cell_type": "code",
   "execution_count": null,
   "metadata": {},
   "outputs": [],
   "source": [
    "coin_df['ETH'] = eth_price"
   ]
  },
  {
   "cell_type": "code",
   "execution_count": null,
   "metadata": {},
   "outputs": [],
   "source": [
    "combined_df = pd.concat([coin_df, rate_df], axis = 1 )"
   ]
  },
  {
   "cell_type": "code",
   "execution_count": null,
   "metadata": {},
   "outputs": [],
   "source": [
    "combined_df.head()"
   ]
  },
  {
   "cell_type": "code",
   "execution_count": null,
   "metadata": {},
   "outputs": [],
   "source": [
    "combined_df['EUR'] = combined_df['EUR'].ffill()\n"
   ]
  },
  {
   "cell_type": "code",
   "execution_count": null,
   "metadata": {},
   "outputs": [],
   "source": [
    "combined_df.head()"
   ]
  },
  {
   "cell_type": "code",
   "execution_count": null,
   "metadata": {},
   "outputs": [],
   "source": [
    "combined_df['CNY'] = combined_df['JPY'].ffill()\n"
   ]
  },
  {
   "cell_type": "code",
   "execution_count": null,
   "metadata": {},
   "outputs": [],
   "source": [
    "combined_df['JPY'] = combined_df['CNY'].ffill()"
   ]
  },
  {
   "cell_type": "code",
   "execution_count": null,
   "metadata": {},
   "outputs": [],
   "source": [
    "combined_df.tail()"
   ]
  },
  {
   "cell_type": "code",
   "execution_count": null,
   "metadata": {},
   "outputs": [],
   "source": [
    "combined_df.head()"
   ]
  },
  {
   "cell_type": "code",
   "execution_count": null,
   "metadata": {},
   "outputs": [],
   "source": [
    "combined_df = combined_df.reset_index()"
   ]
  },
  {
   "cell_type": "code",
   "execution_count": null,
   "metadata": {},
   "outputs": [],
   "source": [
    "combined_df.head()"
   ]
  },
  {
   "cell_type": "code",
   "execution_count": null,
   "metadata": {},
   "outputs": [],
   "source": [
    "delta = timedelta(1)\n",
    "add_row_date = (date.today() + delta).isoformat()"
   ]
  },
  {
   "cell_type": "code",
   "execution_count": null,
   "metadata": {},
   "outputs": [],
   "source": []
  },
  {
   "cell_type": "code",
   "execution_count": null,
   "metadata": {},
   "outputs": [],
   "source": [
    "df2 = pd.DataFrame([[add_row_date,0,0,0,0,0,0]], columns= ['index','BTC','LTC','ETH','EUR','CNY','JPY'])"
   ]
  },
  {
   "cell_type": "code",
   "execution_count": null,
   "metadata": {},
   "outputs": [],
   "source": [
    "combined_df = combined_df.append(df2, ignore_index = True)"
   ]
  },
  {
   "cell_type": "code",
   "execution_count": null,
   "metadata": {},
   "outputs": [],
   "source": [
    "combined_df = combined_df.set_index('index')"
   ]
  },
  {
   "cell_type": "code",
   "execution_count": null,
   "metadata": {},
   "outputs": [],
   "source": [
    "combined_df.tail()"
   ]
  },
  {
   "cell_type": "code",
   "execution_count": null,
   "metadata": {},
   "outputs": [],
   "source": [
    "combined_df.tail()"
   ]
  },
  {
   "cell_type": "code",
   "execution_count": null,
   "metadata": {},
   "outputs": [],
   "source": [
    "combined_df.tail()"
   ]
  },
  {
   "cell_type": "code",
   "execution_count": null,
   "metadata": {},
   "outputs": [],
   "source": [
    "combined_df['BTC_Previous_Day'] = combined_df['BTC'].shift(1)"
   ]
  },
  {
   "cell_type": "code",
   "execution_count": null,
   "metadata": {},
   "outputs": [],
   "source": [
    "combined_df.tail()"
   ]
  },
  {
   "cell_type": "code",
   "execution_count": null,
   "metadata": {},
   "outputs": [],
   "source": [
    "combined_df['LTC_Previous_Day'] = combined_df['LTC'].shift(1)"
   ]
  },
  {
   "cell_type": "code",
   "execution_count": null,
   "metadata": {},
   "outputs": [],
   "source": [
    "combined_df['ETH_Previous_Day'] = combined_df['ETH'].shift(1)"
   ]
  },
  {
   "cell_type": "code",
   "execution_count": null,
   "metadata": {},
   "outputs": [],
   "source": [
    "combined_df['EUR_Previous_Day'] = combined_df['EUR'].shift(1)"
   ]
  },
  {
   "cell_type": "code",
   "execution_count": null,
   "metadata": {},
   "outputs": [],
   "source": [
    "combined_df['CNY_Previous_Day'] = combined_df['CNY'].shift(1)"
   ]
  },
  {
   "cell_type": "code",
   "execution_count": null,
   "metadata": {},
   "outputs": [],
   "source": [
    "combined_df['JPY_Previous_Day'] = combined_df['JPY'].shift(1)"
   ]
  },
  {
   "cell_type": "code",
   "execution_count": null,
   "metadata": {},
   "outputs": [],
   "source": [
    "combined_df.tail()"
   ]
  },
  {
   "cell_type": "code",
   "execution_count": null,
   "metadata": {},
   "outputs": [],
   "source": [
    "combined_df = combined_df.drop(columns = ['EUR', 'CNY', 'JPY'])"
   ]
  },
  {
   "cell_type": "code",
   "execution_count": null,
   "metadata": {},
   "outputs": [],
   "source": [
    "combined_df = combined_df.dropna()"
   ]
  },
  {
   "cell_type": "code",
   "execution_count": null,
   "metadata": {},
   "outputs": [],
   "source": [
    "combined_df.tail()"
   ]
  },
  {
   "cell_type": "code",
   "execution_count": null,
   "metadata": {},
   "outputs": [],
   "source": [
    "new_df = combined_df.copy()"
   ]
  },
  {
   "cell_type": "code",
   "execution_count": 3,
   "metadata": {},
   "outputs": [],
   "source": [
    "new_df = get_random_forest_df()"
   ]
  },
  {
   "cell_type": "code",
   "execution_count": 4,
   "metadata": {},
   "outputs": [
    {
     "data": {
      "text/html": [
       "<div>\n",
       "<style scoped>\n",
       "    .dataframe tbody tr th:only-of-type {\n",
       "        vertical-align: middle;\n",
       "    }\n",
       "\n",
       "    .dataframe tbody tr th {\n",
       "        vertical-align: top;\n",
       "    }\n",
       "\n",
       "    .dataframe thead th {\n",
       "        text-align: right;\n",
       "    }\n",
       "</style>\n",
       "<table border=\"1\" class=\"dataframe\">\n",
       "  <thead>\n",
       "    <tr style=\"text-align: right;\">\n",
       "      <th></th>\n",
       "      <th>BTC</th>\n",
       "      <th>LTC</th>\n",
       "      <th>ETH</th>\n",
       "      <th>BTC_Previous_Day</th>\n",
       "      <th>LTC_Previous_Day</th>\n",
       "      <th>ETH_Previous_Day</th>\n",
       "      <th>EUR_Previous_Day</th>\n",
       "      <th>CNY_Previous_Day</th>\n",
       "      <th>JPY_Previous_Day</th>\n",
       "    </tr>\n",
       "    <tr>\n",
       "      <th>index</th>\n",
       "      <th></th>\n",
       "      <th></th>\n",
       "      <th></th>\n",
       "      <th></th>\n",
       "      <th></th>\n",
       "      <th></th>\n",
       "      <th></th>\n",
       "      <th></th>\n",
       "      <th></th>\n",
       "    </tr>\n",
       "  </thead>\n",
       "  <tbody>\n",
       "    <tr>\n",
       "      <th>2018-01-19 00:00:00</th>\n",
       "      <td>11521.76</td>\n",
       "      <td>192.27</td>\n",
       "      <td>1037.36</td>\n",
       "      <td>11175.52</td>\n",
       "      <td>191.03</td>\n",
       "      <td>1012.97</td>\n",
       "      <td>0.817327</td>\n",
       "      <td>111.213731</td>\n",
       "      <td>111.213731</td>\n",
       "    </tr>\n",
       "    <tr>\n",
       "      <th>2018-01-20 00:00:00</th>\n",
       "      <td>12783.94</td>\n",
       "      <td>210.68</td>\n",
       "      <td>1150.50</td>\n",
       "      <td>11521.76</td>\n",
       "      <td>192.27</td>\n",
       "      <td>1037.36</td>\n",
       "      <td>0.815993</td>\n",
       "      <td>110.599755</td>\n",
       "      <td>110.599755</td>\n",
       "    </tr>\n",
       "    <tr>\n",
       "      <th>2018-01-21 00:00:00</th>\n",
       "      <td>11549.93</td>\n",
       "      <td>190.73</td>\n",
       "      <td>1049.09</td>\n",
       "      <td>12783.94</td>\n",
       "      <td>210.68</td>\n",
       "      <td>1150.50</td>\n",
       "      <td>0.815993</td>\n",
       "      <td>110.599755</td>\n",
       "      <td>110.599755</td>\n",
       "    </tr>\n",
       "    <tr>\n",
       "      <th>2018-01-22 00:00:00</th>\n",
       "      <td>10814.52</td>\n",
       "      <td>179.42</td>\n",
       "      <td>999.64</td>\n",
       "      <td>11549.93</td>\n",
       "      <td>190.73</td>\n",
       "      <td>1049.09</td>\n",
       "      <td>0.815993</td>\n",
       "      <td>110.599755</td>\n",
       "      <td>110.599755</td>\n",
       "    </tr>\n",
       "    <tr>\n",
       "      <th>2018-01-23 00:00:00</th>\n",
       "      <td>10858.23</td>\n",
       "      <td>177.92</td>\n",
       "      <td>984.47</td>\n",
       "      <td>10814.52</td>\n",
       "      <td>179.42</td>\n",
       "      <td>999.64</td>\n",
       "      <td>0.817060</td>\n",
       "      <td>110.842389</td>\n",
       "      <td>110.842389</td>\n",
       "    </tr>\n",
       "    <tr>\n",
       "      <th>...</th>\n",
       "      <td>...</td>\n",
       "      <td>...</td>\n",
       "      <td>...</td>\n",
       "      <td>...</td>\n",
       "      <td>...</td>\n",
       "      <td>...</td>\n",
       "      <td>...</td>\n",
       "      <td>...</td>\n",
       "      <td>...</td>\n",
       "    </tr>\n",
       "    <tr>\n",
       "      <th>2020-01-15 00:00:00</th>\n",
       "      <td>8813.21</td>\n",
       "      <td>58.24</td>\n",
       "      <td>166.04</td>\n",
       "      <td>8820.95</td>\n",
       "      <td>58.43</td>\n",
       "      <td>165.66</td>\n",
       "      <td>0.899685</td>\n",
       "      <td>110.049483</td>\n",
       "      <td>110.049483</td>\n",
       "    </tr>\n",
       "    <tr>\n",
       "      <th>2020-01-16 00:00:00</th>\n",
       "      <td>8719.63</td>\n",
       "      <td>57.51</td>\n",
       "      <td>164.10</td>\n",
       "      <td>8813.21</td>\n",
       "      <td>58.24</td>\n",
       "      <td>166.04</td>\n",
       "      <td>0.897505</td>\n",
       "      <td>109.881529</td>\n",
       "      <td>109.881529</td>\n",
       "    </tr>\n",
       "    <tr>\n",
       "      <th>2020-01-17 00:00:00</th>\n",
       "      <td>8894.83</td>\n",
       "      <td>60.97</td>\n",
       "      <td>169.98</td>\n",
       "      <td>8719.63</td>\n",
       "      <td>57.51</td>\n",
       "      <td>164.10</td>\n",
       "      <td>0.895335</td>\n",
       "      <td>109.947175</td>\n",
       "      <td>109.947175</td>\n",
       "    </tr>\n",
       "    <tr>\n",
       "      <th>2020-01-18 00:00:00</th>\n",
       "      <td>8884.67</td>\n",
       "      <td>59.72</td>\n",
       "      <td>173.99</td>\n",
       "      <td>8894.83</td>\n",
       "      <td>60.97</td>\n",
       "      <td>169.98</td>\n",
       "      <td>0.900252</td>\n",
       "      <td>110.109831</td>\n",
       "      <td>110.109831</td>\n",
       "    </tr>\n",
       "    <tr>\n",
       "      <th>2020-01-19</th>\n",
       "      <td>0.00</td>\n",
       "      <td>0.00</td>\n",
       "      <td>0.00</td>\n",
       "      <td>8884.67</td>\n",
       "      <td>59.72</td>\n",
       "      <td>173.99</td>\n",
       "      <td>0.900252</td>\n",
       "      <td>110.109831</td>\n",
       "      <td>110.109831</td>\n",
       "    </tr>\n",
       "  </tbody>\n",
       "</table>\n",
       "<p>731 rows × 9 columns</p>\n",
       "</div>"
      ],
      "text/plain": [
       "                          BTC     LTC      ETH  BTC_Previous_Day  \\\n",
       "index                                                              \n",
       "2018-01-19 00:00:00  11521.76  192.27  1037.36          11175.52   \n",
       "2018-01-20 00:00:00  12783.94  210.68  1150.50          11521.76   \n",
       "2018-01-21 00:00:00  11549.93  190.73  1049.09          12783.94   \n",
       "2018-01-22 00:00:00  10814.52  179.42   999.64          11549.93   \n",
       "2018-01-23 00:00:00  10858.23  177.92   984.47          10814.52   \n",
       "...                       ...     ...      ...               ...   \n",
       "2020-01-15 00:00:00   8813.21   58.24   166.04           8820.95   \n",
       "2020-01-16 00:00:00   8719.63   57.51   164.10           8813.21   \n",
       "2020-01-17 00:00:00   8894.83   60.97   169.98           8719.63   \n",
       "2020-01-18 00:00:00   8884.67   59.72   173.99           8894.83   \n",
       "2020-01-19               0.00    0.00     0.00           8884.67   \n",
       "\n",
       "                     LTC_Previous_Day  ETH_Previous_Day  EUR_Previous_Day  \\\n",
       "index                                                                       \n",
       "2018-01-19 00:00:00            191.03           1012.97          0.817327   \n",
       "2018-01-20 00:00:00            192.27           1037.36          0.815993   \n",
       "2018-01-21 00:00:00            210.68           1150.50          0.815993   \n",
       "2018-01-22 00:00:00            190.73           1049.09          0.815993   \n",
       "2018-01-23 00:00:00            179.42            999.64          0.817060   \n",
       "...                               ...               ...               ...   \n",
       "2020-01-15 00:00:00             58.43            165.66          0.899685   \n",
       "2020-01-16 00:00:00             58.24            166.04          0.897505   \n",
       "2020-01-17 00:00:00             57.51            164.10          0.895335   \n",
       "2020-01-18 00:00:00             60.97            169.98          0.900252   \n",
       "2020-01-19                      59.72            173.99          0.900252   \n",
       "\n",
       "                     CNY_Previous_Day  JPY_Previous_Day  \n",
       "index                                                    \n",
       "2018-01-19 00:00:00        111.213731        111.213731  \n",
       "2018-01-20 00:00:00        110.599755        110.599755  \n",
       "2018-01-21 00:00:00        110.599755        110.599755  \n",
       "2018-01-22 00:00:00        110.599755        110.599755  \n",
       "2018-01-23 00:00:00        110.842389        110.842389  \n",
       "...                               ...               ...  \n",
       "2020-01-15 00:00:00        110.049483        110.049483  \n",
       "2020-01-16 00:00:00        109.881529        109.881529  \n",
       "2020-01-17 00:00:00        109.947175        109.947175  \n",
       "2020-01-18 00:00:00        110.109831        110.109831  \n",
       "2020-01-19                 110.109831        110.109831  \n",
       "\n",
       "[731 rows x 9 columns]"
      ]
     },
     "execution_count": 4,
     "metadata": {},
     "output_type": "execute_result"
    }
   ],
   "source": [
    "new_df"
   ]
  },
  {
   "cell_type": "code",
   "execution_count": null,
   "metadata": {},
   "outputs": [],
   "source": [
    "len(new_df)\n"
   ]
  },
  {
   "cell_type": "code",
   "execution_count": null,
   "metadata": {},
   "outputs": [],
   "source": [
    "X = new_df.drop(columns = ['BTC', 'LTC', 'ETH'])\n"
   ]
  },
  {
   "cell_type": "code",
   "execution_count": null,
   "metadata": {},
   "outputs": [],
   "source": [
    "X.tail()"
   ]
  },
  {
   "cell_type": "code",
   "execution_count": null,
   "metadata": {},
   "outputs": [],
   "source": [
    "y = new_df['BTC']"
   ]
  },
  {
   "cell_type": "code",
   "execution_count": null,
   "metadata": {},
   "outputs": [],
   "source": [
    "X_train = X[:725]\n"
   ]
  },
  {
   "cell_type": "code",
   "execution_count": null,
   "metadata": {},
   "outputs": [],
   "source": [
    "y_train = y[:725]"
   ]
  },
  {
   "cell_type": "code",
   "execution_count": null,
   "metadata": {},
   "outputs": [],
   "source": [
    "X_test = X[725:]"
   ]
  },
  {
   "cell_type": "code",
   "execution_count": null,
   "metadata": {},
   "outputs": [],
   "source": [
    "y_test = y[725:]"
   ]
  },
  {
   "cell_type": "code",
   "execution_count": null,
   "metadata": {},
   "outputs": [],
   "source": [
    "regressor = RandomForestQuantileRegressor(random_state = 0, n_estimators = 500)"
   ]
  },
  {
   "cell_type": "code",
   "execution_count": null,
   "metadata": {},
   "outputs": [],
   "source": [
    "model = regressor.fit(X_train, y_train)"
   ]
  },
  {
   "cell_type": "code",
   "execution_count": null,
   "metadata": {},
   "outputs": [],
   "source": [
    "model.score(X_train, y_train)"
   ]
  },
  {
   "cell_type": "code",
   "execution_count": null,
   "metadata": {},
   "outputs": [],
   "source": [
    "model.score(X_test,y_test)"
   ]
  },
  {
   "cell_type": "code",
   "execution_count": null,
   "metadata": {},
   "outputs": [],
   "source": [
    "print(model.feature_importances_)"
   ]
  },
  {
   "cell_type": "code",
   "execution_count": null,
   "metadata": {},
   "outputs": [],
   "source": [
    "predictions = model.predict(X_test)"
   ]
  },
  {
   "cell_type": "code",
   "execution_count": null,
   "metadata": {},
   "outputs": [],
   "source": [
    "predictions"
   ]
  },
  {
   "cell_type": "code",
   "execution_count": null,
   "metadata": {},
   "outputs": [],
   "source": [
    "actuals = pd.DataFrame(y_test)"
   ]
  },
  {
   "cell_type": "code",
   "execution_count": null,
   "metadata": {},
   "outputs": [],
   "source": [
    "actuals_vs_predictions = actuals.copy()"
   ]
  },
  {
   "cell_type": "code",
   "execution_count": null,
   "metadata": {},
   "outputs": [],
   "source": [
    "actuals_vs_predictions['Predictions'] = predictions"
   ]
  },
  {
   "cell_type": "code",
   "execution_count": null,
   "metadata": {},
   "outputs": [],
   "source": [
    "actuals_vs_predictions = actuals_vs_predictions.reset_index()"
   ]
  },
  {
   "cell_type": "code",
   "execution_count": null,
   "metadata": {},
   "outputs": [],
   "source": [
    "actuals_vs_predictions"
   ]
  },
  {
   "cell_type": "code",
   "execution_count": null,
   "metadata": {},
   "outputs": [],
   "source": [
    "fig = px.line(actuals_vs_predictions, x = 'index', y = 'Predictions')\n",
    "fig.update_layout(autosize = True, height = 800, width = 950)\n",
    "fig.update_xaxes(nticks = 5)\n",
    "fig.update_yaxes(automargin=True)"
   ]
  },
  {
   "cell_type": "code",
   "execution_count": null,
   "metadata": {},
   "outputs": [],
   "source": []
  }
 ],
 "metadata": {
  "kernelspec": {
   "display_name": "Python 3",
   "language": "python",
   "name": "python3"
  },
  "language_info": {
   "codemirror_mode": {
    "name": "ipython",
    "version": 3
   },
   "file_extension": ".py",
   "mimetype": "text/x-python",
   "name": "python",
   "nbconvert_exporter": "python",
   "pygments_lexer": "ipython3",
   "version": "3.7.3"
  }
 },
 "nbformat": 4,
 "nbformat_minor": 4
}
