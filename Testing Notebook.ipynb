{
 "cells": [
  {
   "cell_type": "code",
   "execution_count": 9,
   "metadata": {},
   "outputs": [],
   "source": [
    "from py_hd_wallet import wallet"
   ]
  },
  {
   "cell_type": "code",
   "execution_count": 10,
   "metadata": {},
   "outputs": [],
   "source": [
    "seed = wallet.generate_mnemonic()"
   ]
  },
  {
   "cell_type": "code",
   "execution_count": 11,
   "metadata": {},
   "outputs": [
    {
     "data": {
      "text/plain": [
       "'van method control comfort cabbage industry dumb brick loop today mistake tool'"
      ]
     },
     "execution_count": 11,
     "metadata": {},
     "output_type": "execute_result"
    }
   ],
   "source": [
    "seed"
   ]
  },
  {
   "cell_type": "markdown",
   "metadata": {},
   "source": [
    "Valid options for network are: BTC, BTG, BCH, LTC, DASH, DOGE, XRP, ZCASH and XLM"
   ]
  },
  {
   "cell_type": "code",
   "execution_count": 16,
   "metadata": {},
   "outputs": [
    {
     "name": "stdout",
     "output_type": "stream",
     "text": [
      "{'coin': 'BTC', 'seed': 'van method control comfort cabbage industry dumb brick loop today mistake tool', 'private_key': 'SAZCIZCWE2E3I4JC227XL3RBLEUZER2IKWKL6DOIA7YKCR67KIKFLV6E', 'public_key': 'GDD322OGK4JKSC3YJCRCEY4A7AXVYYQWUOM6KVBO75ATQCIBK72XMSNF', 'xprivate_key': '', 'xpublic_key': '', 'address': 'GDD322OGK4JKSC3YJCRCEY4A7AXVYYQWUOM6KVBO75ATQCIBK72XMSNF', 'wif': '', 'children': [{'address': 'GDD322OGK4JKSC3YJCRCEY4A7AXVYYQWUOM6KVBO75ATQCIBK72XMSNF', 'private_key': 'SAZCIZCWE2E3I4JC227XL3RBLEUZER2IKWKL6DOIA7YKCR67KIKFLV6E', 'path': 'm/0', 'bip39_path': \"m/44'/148'/0'\"}]}\n"
     ]
    }
   ],
   "source": [
    "w = wallet.create_wallet(network=\"XLM\", seed=seed, children=1)\n",
    "print(w)\n"
   ]
  },
  {
   "cell_type": "code",
   "execution_count": null,
   "metadata": {},
   "outputs": [],
   "source": []
  }
 ],
 "metadata": {
  "kernelspec": {
   "display_name": "Python 3",
   "language": "python",
   "name": "python3"
  },
  "language_info": {
   "codemirror_mode": {
    "name": "ipython",
    "version": 3
   },
   "file_extension": ".py",
   "mimetype": "text/x-python",
   "name": "python",
   "nbconvert_exporter": "python",
   "pygments_lexer": "ipython3",
   "version": "3.7.3"
  }
 },
 "nbformat": 4,
 "nbformat_minor": 4
}
