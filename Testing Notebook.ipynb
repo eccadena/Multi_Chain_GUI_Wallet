{
 "cells": [
  {
   "cell_type": "code",
   "execution_count": 1,
   "metadata": {},
   "outputs": [],
   "source": [
    "from py_hd_wallet import wallet"
   ]
  },
  {
   "cell_type": "code",
   "execution_count": 77,
   "metadata": {},
   "outputs": [],
   "source": [
    "seed = wallet.generate_mnemonic()"
   ]
  },
  {
   "cell_type": "code",
   "execution_count": 78,
   "metadata": {},
   "outputs": [
    {
     "data": {
      "text/plain": [
       "'uncover army farm carbon nothing limit hunt range evolve cherry swift fox'"
      ]
     },
     "execution_count": 78,
     "metadata": {},
     "output_type": "execute_result"
    }
   ],
   "source": [
    "seed"
   ]
  },
  {
   "cell_type": "markdown",
   "metadata": {},
   "source": [
    "Valid options for network are: BTC, BTG, BCH, LTC, DASH, DOGE, XRP, ZCASH and XLM"
   ]
  },
  {
   "cell_type": "code",
   "execution_count": 79,
   "metadata": {},
   "outputs": [
    {
     "name": "stdout",
     "output_type": "stream",
     "text": [
      "{'coin': 'BTC', 'seed': 'uncover army farm carbon nothing limit hunt range evolve cherry swift fox', 'private_key': 'SBZFFBCIMAP7SY7FAFDJC26F2LN35WHMNBUGU6QIYJCDBCI5CMACD3IO', 'public_key': 'GBRVKFVA5XACNZRZGXRZRNOXSHBQD5U4KHVX5W2QQWK7IAUEIXWBLINJ', 'xprivate_key': '', 'xpublic_key': '', 'address': 'GBRVKFVA5XACNZRZGXRZRNOXSHBQD5U4KHVX5W2QQWK7IAUEIXWBLINJ', 'wif': '', 'children': [{'address': 'GBRVKFVA5XACNZRZGXRZRNOXSHBQD5U4KHVX5W2QQWK7IAUEIXWBLINJ', 'private_key': 'SBZFFBCIMAP7SY7FAFDJC26F2LN35WHMNBUGU6QIYJCDBCI5CMACD3IO', 'path': 'm/0', 'bip39_path': \"m/44'/148'/0'\"}]}\n"
     ]
    }
   ],
   "source": [
    "w = wallet.create_wallet(network=\"XLM\", seed=seed, children=1)\n",
    "print(w)\n"
   ]
  },
  {
   "cell_type": "code",
   "execution_count": 80,
   "metadata": {},
   "outputs": [],
   "source": [
    "def create_seed():\n",
    "    seed = wallet.generate_mnemonic()\n",
    "    seed_phrase = {}\n",
    "    count = 0\n",
    "    seed = list(seed)\n",
    "    for word in seed:\n",
    "        count += 1\n",
    "        word_num = \"Word #\" + str(count)\n",
    "        seed_phrase = {\n",
    "            word_num:word\n",
    "        }\n",
    "    return seed_phrase"
   ]
  },
  {
   "cell_type": "code",
   "execution_count": null,
   "metadata": {},
   "outputs": [],
   "source": []
  },
  {
   "cell_type": "code",
   "execution_count": 81,
   "metadata": {},
   "outputs": [
    {
     "data": {
      "text/plain": [
       "{'Word #73': 't'}"
      ]
     },
     "execution_count": 81,
     "metadata": {},
     "output_type": "execute_result"
    }
   ],
   "source": []
  },
  {
   "cell_type": "code",
   "execution_count": 14,
   "metadata": {},
   "outputs": [],
   "source": [
    "seed = wallet.generate_mnemonic()"
   ]
  },
  {
   "cell_type": "code",
   "execution_count": 41,
   "metadata": {},
   "outputs": [
    {
     "name": "stdout",
     "output_type": "stream",
     "text": [
      "shoe knife genius music loud smoke thunder oxygen judge royal thing horror\n"
     ]
    }
   ],
   "source": [
    "words=\"\"\n",
    "for item in seed:\n",
    "    words += item \n",
    "print(words)"
   ]
  },
  {
   "cell_type": "code",
   "execution_count": 42,
   "metadata": {},
   "outputs": [],
   "source": [
    "import re\n",
    "\n",
    "wordList = re.sub(\"[^\\w]\", \" \",  seed).split()"
   ]
  },
  {
   "cell_type": "code",
   "execution_count": 44,
   "metadata": {},
   "outputs": [
    {
     "data": {
      "text/plain": [
       "'music'"
      ]
     },
     "execution_count": 44,
     "metadata": {},
     "output_type": "execute_result"
    }
   ],
   "source": [
    "wordList[3]"
   ]
  },
  {
   "cell_type": "code",
   "execution_count": 82,
   "metadata": {},
   "outputs": [],
   "source": [
    "def create_seed():\n",
    "    seed = re.sub(\"[^\\w]\", \" \",  wallet.generate_mnemonic()).split()\n",
    "    count = 0\n",
    "    seed_dict = {}\n",
    "    for word in seed:\n",
    "        count += 1\n",
    "        word_count = \"word\" + str(count)\n",
    "        seed_dict.update( {word_count : word} )\n",
    "    return seed_dict"
   ]
  },
  {
   "cell_type": "code",
   "execution_count": 84,
   "metadata": {},
   "outputs": [
    {
     "ename": "AttributeError",
     "evalue": "'dict' object has no attribute 'word1'",
     "output_type": "error",
     "traceback": [
      "\u001b[1;31m---------------------------------------------------------------------------\u001b[0m",
      "\u001b[1;31mAttributeError\u001b[0m                            Traceback (most recent call last)",
      "\u001b[1;32m<ipython-input-84-774234647929>\u001b[0m in \u001b[0;36m<module>\u001b[1;34m\u001b[0m\n\u001b[0;32m      1\u001b[0m \u001b[0mx\u001b[0m \u001b[1;33m=\u001b[0m \u001b[0mcreate_seed\u001b[0m\u001b[1;33m(\u001b[0m\u001b[1;33m)\u001b[0m\u001b[1;33m\u001b[0m\u001b[1;33m\u001b[0m\u001b[0m\n\u001b[1;32m----> 2\u001b[1;33m \u001b[0mx\u001b[0m\u001b[1;33m.\u001b[0m\u001b[0mword1\u001b[0m\u001b[1;33m\u001b[0m\u001b[1;33m\u001b[0m\u001b[0m\n\u001b[0m",
      "\u001b[1;31mAttributeError\u001b[0m: 'dict' object has no attribute 'word1'"
     ]
    }
   ],
   "source": [
    "x = create_seed()\n",
    "x.word1"
   ]
  },
  {
   "cell_type": "code",
   "execution_count": 85,
   "metadata": {},
   "outputs": [
    {
     "data": {
      "text/plain": [
       "'multiply'"
      ]
     },
     "execution_count": 85,
     "metadata": {},
     "output_type": "execute_result"
    }
   ],
   "source": [
    "x['word1']"
   ]
  },
  {
   "cell_type": "code",
   "execution_count": 137,
   "metadata": {},
   "outputs": [],
   "source": [
    "import os\n",
    "import pandas as pd\n",
    "from urllib.request import Request, urlopen\n",
    "import json\n",
    "\n",
    "\n",
    "def read_json(url):\n",
    "    request = Request(url)\n",
    "    response = urlopen(request)\n",
    "    data = response.read()\n",
    "    url2 = json.loads(data)\n",
    "    return url2\n",
    "\n",
    "def get_crypto_daily_price(ticker_list = ['BTC', 'LTC', 'ETH']):\n",
    "    ticker_string=\"\"\n",
    "    for ticker in ticker_list:\n",
    "        ticker_string += ticker+\",\"\n",
    "    url = f\"https://min-api.cryptocompare.com/data/pricemulti?fsyms={ticker_string}&tsyms=USD\"\n",
    "    price_data = read_json(url)\n",
    " \n",
    "    return price_data"
   ]
  },
  {
   "cell_type": "code",
   "execution_count": 138,
   "metadata": {},
   "outputs": [
    {
     "data": {
      "text/plain": [
       "{'BTC': {'USD': 7341.2}, 'LTC': {'USD': 42.28}, 'ETH': {'USD': 128.08}}"
      ]
     },
     "execution_count": 138,
     "metadata": {},
     "output_type": "execute_result"
    }
   ],
   "source": [
    "\n",
    "get_crypto_daily_price()"
   ]
  },
  {
   "cell_type": "code",
   "execution_count": 111,
   "metadata": {},
   "outputs": [],
   "source": [
    "ticker_list=[\"BTC\", \"LTC\"]"
   ]
  },
  {
   "cell_type": "code",
   "execution_count": 119,
   "metadata": {},
   "outputs": [
    {
     "name": "stdout",
     "output_type": "stream",
     "text": [
      "BTC,LTC,\n"
     ]
    }
   ],
   "source": [
    "string=\"\"\n",
    "for ticker in ticker_list:\n",
    "    string += ticker+\",\"\n",
    "print(string)"
   ]
  },
  {
   "cell_type": "code",
   "execution_count": 162,
   "metadata": {},
   "outputs": [],
   "source": [
    "def get_wallets(seed):\n",
    "    coins = ['BTC','BTG','BCH','LTC','DASH','DOGE','XRP','ZCASH','XLM']\n",
    "    coin_purse = {}\n",
    "    for coin in coins:\n",
    "        w = wallet.create_wallet(network=coin, seed=seed, children=1)\n",
    "        coin_purse.update({\n",
    "            coin : w['address']\n",
    "        })\n",
    "    return coin_purse"
   ]
  },
  {
   "cell_type": "code",
   "execution_count": 163,
   "metadata": {},
   "outputs": [],
   "source": [
    "seed = 'shoe knife genius music loud smoke thunder oxygen judge royal thing horror'"
   ]
  },
  {
   "cell_type": "code",
   "execution_count": 164,
   "metadata": {},
   "outputs": [],
   "source": [
    "\n",
    "w = wallet.create_wallet(network=\"BTC\", seed=seed, children=1)"
   ]
  },
  {
   "cell_type": "code",
   "execution_count": 165,
   "metadata": {},
   "outputs": [
    {
     "data": {
      "text/plain": [
       "{'BTC': '1PsvAWqjFYbBkraZCveEobRf39qjUMRHby',\n",
       " 'BTG': 'GgiqaeAgEQCUqKsr8sJMEMmYxKdaUgwEWu',\n",
       " 'BCH': 'CfLojZBo8bZiezUytfyAP73gfH49T3w9kk',\n",
       " 'LTC': 'Li6sRj9ZLCqF1fGiP4dY5cVRFND1dKCYCd',\n",
       " 'DASH': 'XyZkzmVdDFomuoB94oxTf87SsVRRVvqzyJ',\n",
       " 'DOGE': 'DU21hmnNYxVUHrm9wWdoMMbFvHa2o1txTA',\n",
       " 'XRP': 'rpGk18Y8FB1hYV8a86aQJMqtMA1Ai39kyX',\n",
       " 'ZCASH': 't1W9bhos8LEYr4FJY7pchxqNwkR5ZbZobhB',\n",
       " 'XLM': 'GC7Y3UK3HDW7IQM3MK6BSNSZ2QZU7WANRBHKYA5TKISZACOISJ6ZQJCI'}"
      ]
     },
     "execution_count": 165,
     "metadata": {},
     "output_type": "execute_result"
    }
   ],
   "source": [
    "get_wallets(seed)"
   ]
  },
  {
   "cell_type": "code",
   "execution_count": null,
   "metadata": {},
   "outputs": [],
   "source": []
  }
 ],
 "metadata": {
  "kernelspec": {
   "display_name": "Python 3",
   "language": "python",
   "name": "python3"
  },
  "language_info": {
   "codemirror_mode": {
    "name": "ipython",
    "version": 3
   },
   "file_extension": ".py",
   "mimetype": "text/x-python",
   "name": "python",
   "nbconvert_exporter": "python",
   "pygments_lexer": "ipython3",
   "version": "3.7.3"
  }
 },
 "nbformat": 4,
 "nbformat_minor": 4
}
