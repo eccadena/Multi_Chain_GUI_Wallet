{
 "cells": [
  {
   "cell_type": "code",
   "execution_count": 13,
   "metadata": {},
   "outputs": [],
   "source": [
    "from py_hd_wallet import wallet\n",
    "import hashlib"
   ]
  },
  {
   "cell_type": "code",
   "execution_count": 14,
   "metadata": {},
   "outputs": [],
   "source": [
    "seed = wallet.generate_mnemonic()"
   ]
  },
  {
   "cell_type": "code",
   "execution_count": 15,
   "metadata": {},
   "outputs": [
    {
     "data": {
      "text/plain": [
       "'patch riot business cereal much mosquito until noise else abstract pelican cattle'"
      ]
     },
     "execution_count": 15,
     "metadata": {},
     "output_type": "execute_result"
    }
   ],
   "source": [
    "seed"
   ]
  },
  {
   "cell_type": "markdown",
   "metadata": {},
   "source": [
    "Valid options for network are: BTC, BTG, BCH, LTC, DASH, DOGE, XRP, ZCASH and XLM"
   ]
  },
  {
   "cell_type": "code",
   "execution_count": 16,
   "metadata": {},
   "outputs": [
    {
     "name": "stdout",
     "output_type": "stream",
     "text": [
      "{'coin': 'BTC', 'seed': 'patch riot business cereal much mosquito until noise else abstract pelican cattle', 'private_key': 'SADZ3N5DI4URHLWMYNKVDPZ7FT7BWQSUC7GDDXL2QDRWV64GTSSJZXY6', 'public_key': 'GAOUOQVKVYOMCRCRQUZCCJLDU7GBKIU4EHBB2HIBAQWCUZJNNZG6UHQ3', 'xprivate_key': '', 'xpublic_key': '', 'address': 'GAOUOQVKVYOMCRCRQUZCCJLDU7GBKIU4EHBB2HIBAQWCUZJNNZG6UHQ3', 'wif': '', 'children': [{'address': 'GAOUOQVKVYOMCRCRQUZCCJLDU7GBKIU4EHBB2HIBAQWCUZJNNZG6UHQ3', 'private_key': 'SADZ3N5DI4URHLWMYNKVDPZ7FT7BWQSUC7GDDXL2QDRWV64GTSSJZXY6', 'path': 'm/0', 'bip39_path': \"m/44'/148'/0'\"}]}\n"
     ]
    }
   ],
   "source": [
    "w = wallet.create_wallet(network=\"XLM\", seed=seed, children=1)\n",
    "print(w)\n"
   ]
  },
  {
   "cell_type": "code",
   "execution_count": 17,
   "metadata": {},
   "outputs": [],
   "source": [
    "def create_seed():\n",
    "    seed = wallet.generate_mnemonic()\n",
    "    seed_phrase = {}\n",
    "    count = 0\n",
    "    seed = list(seed)\n",
    "    for word in seed:\n",
    "        count += 1\n",
    "        word_num = \"Word #\" + str(count)\n",
    "        seed_phrase = {\n",
    "            word_num:word\n",
    "        }\n",
    "    return seed_phrase"
   ]
  },
  {
   "cell_type": "code",
   "execution_count": null,
   "metadata": {},
   "outputs": [],
   "source": []
  },
  {
   "cell_type": "code",
   "execution_count": null,
   "metadata": {},
   "outputs": [],
   "source": []
  },
  {
   "cell_type": "code",
   "execution_count": 18,
   "metadata": {},
   "outputs": [],
   "source": [
    "seed = wallet.generate_mnemonic()"
   ]
  },
  {
   "cell_type": "code",
   "execution_count": 19,
   "metadata": {},
   "outputs": [
    {
     "name": "stdout",
     "output_type": "stream",
     "text": [
      "faint special mass helmet very today prize multiply brain work general biology\n"
     ]
    }
   ],
   "source": [
    "words=\"\"\n",
    "for item in seed:\n",
    "    words += item \n",
    "print(words)"
   ]
  },
  {
   "cell_type": "code",
   "execution_count": 20,
   "metadata": {},
   "outputs": [],
   "source": [
    "import re\n",
    "\n",
    "wordList = re.sub(\"[^\\w]\", \" \",  seed).split()"
   ]
  },
  {
   "cell_type": "code",
   "execution_count": 21,
   "metadata": {},
   "outputs": [
    {
     "data": {
      "text/plain": [
       "'helmet'"
      ]
     },
     "execution_count": 21,
     "metadata": {},
     "output_type": "execute_result"
    }
   ],
   "source": [
    "wordList[3]"
   ]
  },
  {
   "cell_type": "code",
   "execution_count": 22,
   "metadata": {},
   "outputs": [],
   "source": [
    "def create_seed():\n",
    "    seed = re.sub(\"[^\\w]\", \" \",  wallet.generate_mnemonic()).split()\n",
    "    count = 0\n",
    "    seed_dict = {}\n",
    "    for word in seed:\n",
    "        count += 1\n",
    "        word_count = \"word\" + str(count)\n",
    "        seed_dict.update( {word_count : word} )\n",
    "    return seed_dict"
   ]
  },
  {
   "cell_type": "code",
   "execution_count": 23,
   "metadata": {},
   "outputs": [
    {
     "ename": "AttributeError",
     "evalue": "'dict' object has no attribute 'word1'",
     "output_type": "error",
     "traceback": [
      "\u001b[0;31m---------------------------------------------------------------------------\u001b[0m",
      "\u001b[0;31mAttributeError\u001b[0m                            Traceback (most recent call last)",
      "\u001b[0;32m<ipython-input-23-774234647929>\u001b[0m in \u001b[0;36m<module>\u001b[0;34m\u001b[0m\n\u001b[1;32m      1\u001b[0m \u001b[0mx\u001b[0m \u001b[0;34m=\u001b[0m \u001b[0mcreate_seed\u001b[0m\u001b[0;34m(\u001b[0m\u001b[0;34m)\u001b[0m\u001b[0;34m\u001b[0m\u001b[0;34m\u001b[0m\u001b[0m\n\u001b[0;32m----> 2\u001b[0;31m \u001b[0mx\u001b[0m\u001b[0;34m.\u001b[0m\u001b[0mword1\u001b[0m\u001b[0;34m\u001b[0m\u001b[0;34m\u001b[0m\u001b[0m\n\u001b[0m",
      "\u001b[0;31mAttributeError\u001b[0m: 'dict' object has no attribute 'word1'"
     ]
    }
   ],
   "source": [
    "x = create_seed()\n",
    "x.word1"
   ]
  },
  {
   "cell_type": "code",
   "execution_count": null,
   "metadata": {},
   "outputs": [],
   "source": [
    "x['word1']"
   ]
  },
  {
   "cell_type": "code",
   "execution_count": 24,
   "metadata": {},
   "outputs": [],
   "source": [
    "import os\n",
    "import pandas as pd\n",
    "from urllib.request import Request, urlopen\n",
    "import json\n",
    "\n",
    "\n",
    "def read_json(url):\n",
    "    request = Request(url)\n",
    "    response = urlopen(request)\n",
    "    data = response.read()\n",
    "    url2 = json.loads(data)\n",
    "    return url2\n",
    "\n",
    "def get_crypto_daily_price(ticker_list = ['BTC', 'LTC', 'ETH']):\n",
    "    ticker_string=\"\"\n",
    "    for ticker in ticker_list:\n",
    "        ticker_string += ticker+\",\"\n",
    "    url = f\"https://min-api.cryptocompare.com/data/pricemulti?fsyms={ticker_string}&tsyms=USD\"\n",
    "    price_data = read_json(url)\n",
    " \n",
    "    return price_data"
   ]
  },
  {
   "cell_type": "code",
   "execution_count": 25,
   "metadata": {},
   "outputs": [
    {
     "data": {
      "text/plain": [
       "{'BTC': {'USD': 8169.98}, 'LTC': {'USD': 51.52}, 'ETH': {'USD': 146.45}}"
      ]
     },
     "execution_count": 25,
     "metadata": {},
     "output_type": "execute_result"
    }
   ],
   "source": [
    "\n",
    "get_crypto_daily_price()"
   ]
  },
  {
   "cell_type": "code",
   "execution_count": 26,
   "metadata": {},
   "outputs": [],
   "source": [
    "ticker_list=[\"BTC\", \"LTC\"]"
   ]
  },
  {
   "cell_type": "code",
   "execution_count": 27,
   "metadata": {},
   "outputs": [
    {
     "name": "stdout",
     "output_type": "stream",
     "text": [
      "BTC,LTC,\n"
     ]
    }
   ],
   "source": [
    "string=\"\"\n",
    "for ticker in ticker_list:\n",
    "    string += ticker+\",\"\n",
    "print(string)"
   ]
  },
  {
   "cell_type": "code",
   "execution_count": 28,
   "metadata": {},
   "outputs": [],
   "source": [
    "def get_wallets(seed):\n",
    "    coins = ['BTC','BTG','BCH','LTC','DASH','DOGE','XRP','ZCASH','XLM']\n",
    "    coin_purse = {}\n",
    "    for coin in coins:\n",
    "        w = wallet.create_wallet(network=coin, seed=seed, children=1)\n",
    "        coin_purse.update({\n",
    "            coin : w['address']\n",
    "        })\n",
    "    return coin_purse"
   ]
  },
  {
   "cell_type": "code",
   "execution_count": 29,
   "metadata": {},
   "outputs": [],
   "source": [
    "seed = 'shoe knife genius music loud smoke thunder oxygen judge royal thing horror'"
   ]
  },
  {
   "cell_type": "code",
   "execution_count": 30,
   "metadata": {},
   "outputs": [],
   "source": [
    "\n",
    "w = wallet.create_wallet(network=\"BTC\", seed=seed, children=1)"
   ]
  },
  {
   "cell_type": "code",
   "execution_count": 31,
   "metadata": {},
   "outputs": [
    {
     "data": {
      "text/plain": [
       "{'coin': 'BTC',\n",
       " 'seed': 'shoe knife genius music loud smoke thunder oxygen judge royal thing horror',\n",
       " 'private_key': '5d7b7ebdc733bb1def4099f4378424c9a833a4010be2e2bf8ad5138fe743dde4',\n",
       " 'public_key': '0436388f5f2d54a81cd8fab7f1ff070a06c7b8bc9f65d73a71d990b75ebb7484a056c79f5615eb5b86c6d09516b01a37c12d6d984329ddc843a42b70e5c3095b97',\n",
       " 'xprivate_key': 'xprv9s21ZrQH143K3D9QGcgzzUxS5oPqYpsXvUGuJ8Gagdnu5wGA7dM3BVf9E5ZYSRGWyo3dfH4GWJ1kMgyvWUvZCPuf6Dc4WBztTzV3eErWq25',\n",
       " 'xpublic_key': 'xpub661MyMwAqRbcFhDsNeE1McuAdqEKxHbPHhCW6WgCEyKsxjbJfAfHjHyd5NEmBAdtgreKy9eQrcVWCRDLZAVppUVCEi1zEgB16cEZ9zmZ4Pq',\n",
       " 'address': '1PsvAWqjFYbBkraZCveEobRf39qjUMRHby',\n",
       " 'wif': b'KzMRoadEL4c1j3vdeVqSuLUNiR6mPcCTRRhN5HRnkyw6xRWMheeE',\n",
       " 'children': [{'xpublic_key': 'xpub69jUtrTQYwkKvJDLr9bFd5NuiBJsugFQanFs9SiRywcdUyrWwbHq7PknjGK8cnq4EPH6D7p7baX6ua192tPxddsZXXWqWJXMg1p7mB7Pxts',\n",
       "   'xprivate_key': 'xprv9vk8VLvWiaC2hp8sk84FFwSBA9UPWDXZDZLGM4JpRc5ecBXNQ3yaZbSJsyypf25vvQc7LH6dMBRxf3xj3uGcnzzxWNWgfijxuoH9HnKLTSG',\n",
       "   'address': '1Dz3bxPQwtWTFkYy3CVEVuqSHcid84nLLo',\n",
       "   'private_key': b'bcb56931666d25b0460ef17e00ee64a02770f7cdf0c06b54138f40593c61730d',\n",
       "   'path': 'm/0',\n",
       "   'bip32_path': \"m/44'/0'/0'/0\"}],\n",
       " 'xpublic_key_prime': 'xpub69jUtrTYtcHJ7eMv9dJoWhdKxQLxjek23kEDY4Gw6KuEgYTcMkAQwKcXyi9xPYgBYt3KJmuwbjDZPdVSFKBRhRKY9FSmb8GQM5cpupRf82o'}"
      ]
     },
     "execution_count": 31,
     "metadata": {},
     "output_type": "execute_result"
    }
   ],
   "source": [
    "w"
   ]
  },
  {
   "cell_type": "code",
   "execution_count": 32,
   "metadata": {},
   "outputs": [
    {
     "data": {
      "text/plain": [
       "{'BTC': '1PsvAWqjFYbBkraZCveEobRf39qjUMRHby',\n",
       " 'BTG': 'GgiqaeAgEQCUqKsr8sJMEMmYxKdaUgwEWu',\n",
       " 'BCH': 'CfLojZBo8bZiezUytfyAP73gfH49T3w9kk',\n",
       " 'LTC': 'Li6sRj9ZLCqF1fGiP4dY5cVRFND1dKCYCd',\n",
       " 'DASH': 'XyZkzmVdDFomuoB94oxTf87SsVRRVvqzyJ',\n",
       " 'DOGE': 'DU21hmnNYxVUHrm9wWdoMMbFvHa2o1txTA',\n",
       " 'XRP': 'rpGk18Y8FB1hYV8a86aQJMqtMA1Ai39kyX',\n",
       " 'ZCASH': 't1W9bhos8LEYr4FJY7pchxqNwkR5ZbZobhB',\n",
       " 'XLM': 'GC7Y3UK3HDW7IQM3MK6BSNSZ2QZU7WANRBHKYA5TKISZACOISJ6ZQJCI'}"
      ]
     },
     "execution_count": 32,
     "metadata": {},
     "output_type": "execute_result"
    }
   ],
   "source": [
    "get_wallets(seed)"
   ]
  },
  {
   "cell_type": "code",
   "execution_count": 33,
   "metadata": {},
   "outputs": [],
   "source": [
    "import hashlib"
   ]
  },
  {
   "cell_type": "code",
   "execution_count": 34,
   "metadata": {},
   "outputs": [
    {
     "ename": "NameError",
     "evalue": "name 'hashdigest' is not defined",
     "output_type": "error",
     "traceback": [
      "\u001b[0;31m---------------------------------------------------------------------------\u001b[0m",
      "\u001b[0;31mNameError\u001b[0m                                 Traceback (most recent call last)",
      "\u001b[0;32m<ipython-input-34-174681c60a83>\u001b[0m in \u001b[0;36m<module>\u001b[0;34m\u001b[0m\n\u001b[0;32m----> 1\u001b[0;31m \u001b[0mhashdigest\u001b[0m\u001b[0;34m(\u001b[0m\u001b[0;34m\"test\"\u001b[0m\u001b[0;34m)\u001b[0m\u001b[0;34m\u001b[0m\u001b[0;34m\u001b[0m\u001b[0m\n\u001b[0m",
      "\u001b[0;31mNameError\u001b[0m: name 'hashdigest' is not defined"
     ]
    }
   ],
   "source": [
    "hashdigest(\"test\")"
   ]
  },
  {
   "cell_type": "code",
   "execution_count": null,
   "metadata": {},
   "outputs": [],
   "source": [
    "hashlib.sha256(b\"Nobody inspects the spammish repetition\").hexdigest()"
   ]
  },
  {
   "cell_type": "code",
   "execution_count": null,
   "metadata": {},
   "outputs": [],
   "source": [
    "hashlib.sha256(b\"Nobody inspects the spammish repetition\").digest()"
   ]
  },
  {
   "cell_type": "code",
   "execution_count": null,
   "metadata": {},
   "outputs": [],
   "source": [
    "hasher().hexdigest()"
   ]
  },
  {
   "cell_type": "code",
   "execution_count": null,
   "metadata": {},
   "outputs": [],
   "source": [
    "hashlib.sha256(b\"test\").hexdigest()"
   ]
  },
  {
   "cell_type": "code",
   "execution_count": null,
   "metadata": {},
   "outputs": [],
   "source": [
    "inp = input()\n",
    "hashlib.sha256(bytes(inp, 'utf-8')).hexdigest()"
   ]
  },
  {
   "cell_type": "code",
   "execution_count": null,
   "metadata": {},
   "outputs": [],
   "source": [
    "def set_password(pass_w):\n",
    "    file = open(\".pwd\", \"w\")\n",
    "    file.write(hash_pass(pass_w))\n",
    "    file.close()\n",
    "    return \"Password Saved\""
   ]
  },
  {
   "cell_type": "code",
   "execution_count": null,
   "metadata": {},
   "outputs": [],
   "source": [
    "def hash_pass(pass_w):\n",
    "    return hashlib.sha256(bytes(pass_w, 'utf-8')).hexdigest()"
   ]
  },
  {
   "cell_type": "code",
   "execution_count": null,
   "metadata": {},
   "outputs": [],
   "source": [
    "set_password(\"test\")"
   ]
  },
  {
   "cell_type": "code",
   "execution_count": null,
   "metadata": {},
   "outputs": [],
   "source": [
    "def check_password(pass_w):\n",
    "    file = open(\"wallet.dat\", \"r\")\n",
    "    if file.read() == hash_pass(pass_w):\n",
    "        return \"Success!\"\n",
    "    else:\n",
    "        return \"Incorrect Password!\" "
   ]
  },
  {
   "cell_type": "code",
   "execution_count": null,
   "metadata": {},
   "outputs": [],
   "source": [
    "check_password(\"tes3t\")"
   ]
  },
  {
   "cell_type": "code",
   "execution_count": null,
   "metadata": {},
   "outputs": [],
   "source": [
    "file = open(\"wallet.dat\", \"r\")"
   ]
  },
  {
   "cell_type": "code",
   "execution_count": null,
   "metadata": {},
   "outputs": [],
   "source": [
    "x = file.read()"
   ]
  },
  {
   "cell_type": "code",
   "execution_count": null,
   "metadata": {},
   "outputs": [],
   "source": [
    "x"
   ]
  },
  {
   "cell_type": "code",
   "execution_count": null,
   "metadata": {},
   "outputs": [],
   "source": [
    "def check_password(pass_w):\n",
    "    file = open(\"wallet.dat\", \"r\")\n",
    "    if file.read() == hash_pass(pass_w):\n",
    "        return 'True'\n",
    "    else:\n",
    "        return 'False'"
   ]
  },
  {
   "cell_type": "code",
   "execution_count": null,
   "metadata": {},
   "outputs": [],
   "source": [
    "def hash_pass(pass_w):\n",
    "    return hashlib.sha256(bytes(pass_w, 'utf-8')).hexdigest()\n"
   ]
  },
  {
   "cell_type": "code",
   "execution_count": null,
   "metadata": {},
   "outputs": [],
   "source": [
    "check_password(\"tedst\")"
   ]
  },
  {
   "cell_type": "code",
   "execution_count": null,
   "metadata": {},
   "outputs": [],
   "source": [
    "hash_pass(\"test\")"
   ]
  },
  {
   "cell_type": "code",
   "execution_count": null,
   "metadata": {},
   "outputs": [],
   "source": [
    "set_password(\"test\")"
   ]
  },
  {
   "cell_type": "code",
   "execution_count": 43,
   "metadata": {},
   "outputs": [],
   "source": [
    "import scrypt\n"
   ]
  },
  {
   "cell_type": "code",
   "execution_count": 56,
   "metadata": {},
   "outputs": [],
   "source": [
    "data = scrypt.encrypt('a secret message','Josh Eric Christian Oscar', maxtime=0.5)"
   ]
  },
  {
   "cell_type": "code",
   "execution_count": 57,
   "metadata": {},
   "outputs": [
    {
     "data": {
      "text/plain": [
       "b'scrypt\\x00\\x11\\x00\\x00\\x00\\x08\\x00\\x00\\x00\\x01,K\\x92\\x92\\xb6\\xff\\x1c\\x9b\\x14\\ra\\x88\\xb4\\xb5\\x1d\\xce\\xda\\x1b\\x1d}\\x8d\\xbe\\x84\\xfdSenD\\xcfm\\xc3\\xf4t%\\xe0\\x97\\xec2\\xe2o\\xd3c\\xfe\\x9c\\xae\\xcc\\x96\\xfb\\xeb\\xe2S\\xc8\\xdb -\\x00F^s[\\xf2\\xae\\xc6\\x9e\\x1a\\xb4\\x01\\x89\\xa7u\\xcf8\\xfc[\\xa4B\\xfa\\x18\\xf5\\xb64?\\xc2\\x03P:\\xcc<\\x9c\\x1b\\x14\\xf9\\xe3\\xb6(\\xf0M\\xc3\\xbe\\n\\x08\\xe5L\\x1e7\\xb4\\xb2\\x1b\\xd0A\\xe9\\xab\\x84<CM\\xb4\\xe0G/\\xce\\x1at\\xa6\\xb7i@F'"
      ]
     },
     "execution_count": 57,
     "metadata": {},
     "output_type": "execute_result"
    }
   ],
   "source": [
    "data"
   ]
  },
  {
   "cell_type": "code",
   "execution_count": 58,
   "metadata": {},
   "outputs": [
    {
     "name": "stdout",
     "output_type": "stream",
     "text": [
      "True\n"
     ]
    }
   ],
   "source": [
    "if 'a secret message' == scrypt.decrypt(data,'Josh Eric Christian Oscar', maxtime=0.5): print(\"True\")"
   ]
  },
  {
   "cell_type": "code",
   "execution_count": 65,
   "metadata": {},
   "outputs": [
    {
     "ename": "AssertionError",
     "evalue": "Already exposed function with name \"create_seed\"",
     "output_type": "error",
     "traceback": [
      "\u001b[0;31m---------------------------------------------------------------------------\u001b[0m",
      "\u001b[0;31mAssertionError\u001b[0m                            Traceback (most recent call last)",
      "\u001b[0;32m<ipython-input-65-41e5f11d842a>\u001b[0m in \u001b[0;36m<module>\u001b[0;34m\u001b[0m\n\u001b[0;32m----> 1\u001b[0;31m \u001b[0;32mfrom\u001b[0m \u001b[0mwallet\u001b[0m\u001b[0;34m.\u001b[0m\u001b[0mpy\u001b[0m \u001b[0;32mimport\u001b[0m \u001b[0;34m*\u001b[0m\u001b[0;34m\u001b[0m\u001b[0;34m\u001b[0m\u001b[0m\n\u001b[0m",
      "\u001b[0;32m~/Documents/US/Rice U/Multi_Chain_GUI_Wallet/wallet.py\u001b[0m in \u001b[0;36m<module>\u001b[0;34m\u001b[0m\n\u001b[1;32m     32\u001b[0m \u001b[0;31m#Wallet Functions\u001b[0m\u001b[0;34m\u001b[0m\u001b[0;34m\u001b[0m\u001b[0;34m\u001b[0m\u001b[0m\n\u001b[1;32m     33\u001b[0m \u001b[0;34m\u001b[0m\u001b[0m\n\u001b[0;32m---> 34\u001b[0;31m \u001b[0;34m@\u001b[0m\u001b[0meel\u001b[0m\u001b[0;34m.\u001b[0m\u001b[0mexpose\u001b[0m\u001b[0;34m\u001b[0m\u001b[0;34m\u001b[0m\u001b[0m\n\u001b[0m\u001b[1;32m     35\u001b[0m \u001b[0;32mdef\u001b[0m \u001b[0mcreate_seed\u001b[0m\u001b[0;34m(\u001b[0m\u001b[0;34m)\u001b[0m\u001b[0;34m:\u001b[0m\u001b[0;34m\u001b[0m\u001b[0;34m\u001b[0m\u001b[0m\n\u001b[1;32m     36\u001b[0m     \u001b[0mseed\u001b[0m \u001b[0;34m=\u001b[0m \u001b[0mre\u001b[0m\u001b[0;34m.\u001b[0m\u001b[0msub\u001b[0m\u001b[0;34m(\u001b[0m\u001b[0;34m\"[^\\w]\"\u001b[0m\u001b[0;34m,\u001b[0m \u001b[0;34m\" \"\u001b[0m\u001b[0;34m,\u001b[0m  \u001b[0mwallet\u001b[0m\u001b[0;34m.\u001b[0m\u001b[0mgenerate_mnemonic\u001b[0m\u001b[0;34m(\u001b[0m\u001b[0;34m)\u001b[0m\u001b[0;34m)\u001b[0m\u001b[0;34m.\u001b[0m\u001b[0msplit\u001b[0m\u001b[0;34m(\u001b[0m\u001b[0;34m)\u001b[0m\u001b[0;34m\u001b[0m\u001b[0;34m\u001b[0m\u001b[0m\n",
      "\u001b[0;32m/anaconda3/lib/python3.7/site-packages/eel/__init__.py\u001b[0m in \u001b[0;36mexpose\u001b[0;34m(name_or_function)\u001b[0m\n\u001b[1;32m     75\u001b[0m     \u001b[0;32melse\u001b[0m\u001b[0;34m:\u001b[0m\u001b[0;34m\u001b[0m\u001b[0;34m\u001b[0m\u001b[0m\n\u001b[1;32m     76\u001b[0m         \u001b[0mfunction\u001b[0m \u001b[0;34m=\u001b[0m \u001b[0mname_or_function\u001b[0m\u001b[0;34m\u001b[0m\u001b[0;34m\u001b[0m\u001b[0m\n\u001b[0;32m---> 77\u001b[0;31m         \u001b[0m_expose\u001b[0m\u001b[0;34m(\u001b[0m\u001b[0mfunction\u001b[0m\u001b[0;34m.\u001b[0m\u001b[0m__name__\u001b[0m\u001b[0;34m,\u001b[0m \u001b[0mfunction\u001b[0m\u001b[0;34m)\u001b[0m\u001b[0;34m\u001b[0m\u001b[0;34m\u001b[0m\u001b[0m\n\u001b[0m\u001b[1;32m     78\u001b[0m         \u001b[0;32mreturn\u001b[0m \u001b[0mfunction\u001b[0m\u001b[0;34m\u001b[0m\u001b[0;34m\u001b[0m\u001b[0m\n\u001b[1;32m     79\u001b[0m \u001b[0;34m\u001b[0m\u001b[0m\n",
      "\u001b[0;32m/anaconda3/lib/python3.7/site-packages/eel/__init__.py\u001b[0m in \u001b[0;36m_expose\u001b[0;34m(name, function)\u001b[0m\n\u001b[1;32m    322\u001b[0m \u001b[0;32mdef\u001b[0m \u001b[0m_expose\u001b[0m\u001b[0;34m(\u001b[0m\u001b[0mname\u001b[0m\u001b[0;34m,\u001b[0m \u001b[0mfunction\u001b[0m\u001b[0;34m)\u001b[0m\u001b[0;34m:\u001b[0m\u001b[0;34m\u001b[0m\u001b[0;34m\u001b[0m\u001b[0m\n\u001b[1;32m    323\u001b[0m     \u001b[0mmsg\u001b[0m \u001b[0;34m=\u001b[0m \u001b[0;34m'Already exposed function with name \"%s\"'\u001b[0m \u001b[0;34m%\u001b[0m \u001b[0mname\u001b[0m\u001b[0;34m\u001b[0m\u001b[0;34m\u001b[0m\u001b[0m\n\u001b[0;32m--> 324\u001b[0;31m     \u001b[0;32massert\u001b[0m \u001b[0mname\u001b[0m \u001b[0;32mnot\u001b[0m \u001b[0;32min\u001b[0m \u001b[0m_exposed_functions\u001b[0m\u001b[0;34m,\u001b[0m \u001b[0mmsg\u001b[0m\u001b[0;34m\u001b[0m\u001b[0;34m\u001b[0m\u001b[0m\n\u001b[0m\u001b[1;32m    325\u001b[0m     \u001b[0m_exposed_functions\u001b[0m\u001b[0;34m[\u001b[0m\u001b[0mname\u001b[0m\u001b[0;34m]\u001b[0m \u001b[0;34m=\u001b[0m \u001b[0mfunction\u001b[0m\u001b[0;34m\u001b[0m\u001b[0;34m\u001b[0m\u001b[0m\n\u001b[1;32m    326\u001b[0m \u001b[0;34m\u001b[0m\u001b[0m\n",
      "\u001b[0;31mAssertionError\u001b[0m: Already exposed function with name \"create_seed\""
     ]
    }
   ],
   "source": [
    "from wallet.py import *"
   ]
  },
  {
   "cell_type": "code",
   "execution_count": null,
   "metadata": {},
   "outputs": [],
   "source": []
  }
 ],
 "metadata": {
  "kernelspec": {
   "display_name": "Python 3",
   "language": "python",
   "name": "python3"
  },
  "language_info": {
   "codemirror_mode": {
    "name": "ipython",
    "version": 3
   },
   "file_extension": ".py",
   "mimetype": "text/x-python",
   "name": "python",
   "nbconvert_exporter": "python",
   "pygments_lexer": "ipython3",
   "version": "3.7.3"
  }
 },
 "nbformat": 4,
 "nbformat_minor": 4
}
