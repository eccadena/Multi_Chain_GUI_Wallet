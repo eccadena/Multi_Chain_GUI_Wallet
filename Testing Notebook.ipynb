{
 "cells": [
  {
   "cell_type": "code",
   "execution_count": 1,
   "metadata": {},
   "outputs": [],
   "source": [
    "from py_hd_wallet import wallet"
   ]
  },
  {
   "cell_type": "code",
   "execution_count": 77,
   "metadata": {},
   "outputs": [],
   "source": [
    "seed = wallet.generate_mnemonic()"
   ]
  },
  {
   "cell_type": "code",
   "execution_count": 78,
   "metadata": {},
   "outputs": [
    {
     "data": {
      "text/plain": [
       "'uncover army farm carbon nothing limit hunt range evolve cherry swift fox'"
      ]
     },
     "execution_count": 78,
     "metadata": {},
     "output_type": "execute_result"
    }
   ],
   "source": [
    "seed"
   ]
  },
  {
   "cell_type": "markdown",
   "metadata": {},
   "source": [
    "Valid options for network are: BTC, BTG, BCH, LTC, DASH, DOGE, XRP, ZCASH and XLM"
   ]
  },
  {
   "cell_type": "code",
   "execution_count": 79,
   "metadata": {},
   "outputs": [
    {
     "name": "stdout",
     "output_type": "stream",
     "text": [
      "{'coin': 'BTC', 'seed': 'uncover army farm carbon nothing limit hunt range evolve cherry swift fox', 'private_key': 'SBZFFBCIMAP7SY7FAFDJC26F2LN35WHMNBUGU6QIYJCDBCI5CMACD3IO', 'public_key': 'GBRVKFVA5XACNZRZGXRZRNOXSHBQD5U4KHVX5W2QQWK7IAUEIXWBLINJ', 'xprivate_key': '', 'xpublic_key': '', 'address': 'GBRVKFVA5XACNZRZGXRZRNOXSHBQD5U4KHVX5W2QQWK7IAUEIXWBLINJ', 'wif': '', 'children': [{'address': 'GBRVKFVA5XACNZRZGXRZRNOXSHBQD5U4KHVX5W2QQWK7IAUEIXWBLINJ', 'private_key': 'SBZFFBCIMAP7SY7FAFDJC26F2LN35WHMNBUGU6QIYJCDBCI5CMACD3IO', 'path': 'm/0', 'bip39_path': \"m/44'/148'/0'\"}]}\n"
     ]
    }
   ],
   "source": [
    "w = wallet.create_wallet(network=\"XLM\", seed=seed, children=1)\n",
    "print(w)\n"
   ]
  },
  {
   "cell_type": "code",
   "execution_count": 80,
   "metadata": {},
   "outputs": [],
   "source": [
    "def create_seed():\n",
    "    seed = wallet.generate_mnemonic()\n",
    "    seed_phrase = {}\n",
    "    count = 0\n",
    "    seed = list(seed)\n",
    "    for word in seed:\n",
    "        count += 1\n",
    "        word_num = \"Word #\" + str(count)\n",
    "        seed_phrase = {\n",
    "            word_num:word\n",
    "        }\n",
    "    return seed_phrase"
   ]
  },
  {
   "cell_type": "code",
   "execution_count": null,
   "metadata": {},
   "outputs": [],
   "source": []
  },
  {
   "cell_type": "code",
   "execution_count": 81,
   "metadata": {},
   "outputs": [
    {
     "data": {
      "text/plain": [
       "{'Word #73': 't'}"
      ]
     },
     "execution_count": 81,
     "metadata": {},
     "output_type": "execute_result"
    }
   ],
   "source": []
  },
  {
   "cell_type": "code",
   "execution_count": 14,
   "metadata": {},
   "outputs": [],
   "source": [
    "seed = wallet.generate_mnemonic()"
   ]
  },
  {
   "cell_type": "code",
   "execution_count": 41,
   "metadata": {},
   "outputs": [
    {
     "name": "stdout",
     "output_type": "stream",
     "text": [
      "shoe knife genius music loud smoke thunder oxygen judge royal thing horror\n"
     ]
    }
   ],
   "source": [
    "words=\"\"\n",
    "for item in seed:\n",
    "    words += item \n",
    "print(words)"
   ]
  },
  {
   "cell_type": "code",
   "execution_count": 42,
   "metadata": {},
   "outputs": [],
   "source": [
    "import re\n",
    "\n",
    "wordList = re.sub(\"[^\\w]\", \" \",  seed).split()"
   ]
  },
  {
   "cell_type": "code",
   "execution_count": 44,
   "metadata": {},
   "outputs": [
    {
     "data": {
      "text/plain": [
       "'music'"
      ]
     },
     "execution_count": 44,
     "metadata": {},
     "output_type": "execute_result"
    }
   ],
   "source": [
    "wordList[3]"
   ]
  },
  {
   "cell_type": "code",
   "execution_count": 82,
   "metadata": {},
   "outputs": [],
   "source": [
    "def create_seed():\n",
    "    seed = re.sub(\"[^\\w]\", \" \",  wallet.generate_mnemonic()).split()\n",
    "    count = 0\n",
    "    seed_dict = {}\n",
    "    for word in seed:\n",
    "        count += 1\n",
    "        word_count = \"word\" + str(count)\n",
    "        seed_dict.update( {word_count : word} )\n",
    "    return seed_dict"
   ]
  },
  {
   "cell_type": "code",
   "execution_count": 84,
   "metadata": {},
   "outputs": [
    {
     "ename": "AttributeError",
     "evalue": "'dict' object has no attribute 'word1'",
     "output_type": "error",
     "traceback": [
      "\u001b[1;31m---------------------------------------------------------------------------\u001b[0m",
      "\u001b[1;31mAttributeError\u001b[0m                            Traceback (most recent call last)",
      "\u001b[1;32m<ipython-input-84-774234647929>\u001b[0m in \u001b[0;36m<module>\u001b[1;34m\u001b[0m\n\u001b[0;32m      1\u001b[0m \u001b[0mx\u001b[0m \u001b[1;33m=\u001b[0m \u001b[0mcreate_seed\u001b[0m\u001b[1;33m(\u001b[0m\u001b[1;33m)\u001b[0m\u001b[1;33m\u001b[0m\u001b[1;33m\u001b[0m\u001b[0m\n\u001b[1;32m----> 2\u001b[1;33m \u001b[0mx\u001b[0m\u001b[1;33m.\u001b[0m\u001b[0mword1\u001b[0m\u001b[1;33m\u001b[0m\u001b[1;33m\u001b[0m\u001b[0m\n\u001b[0m",
      "\u001b[1;31mAttributeError\u001b[0m: 'dict' object has no attribute 'word1'"
     ]
    }
   ],
   "source": [
    "x = create_seed()\n",
    "x.word1"
   ]
  },
  {
   "cell_type": "code",
   "execution_count": 85,
   "metadata": {},
   "outputs": [
    {
     "data": {
      "text/plain": [
       "'multiply'"
      ]
     },
     "execution_count": 85,
     "metadata": {},
     "output_type": "execute_result"
    }
   ],
   "source": [
    "x['word1']"
   ]
  },
  {
   "cell_type": "code",
   "execution_count": null,
   "metadata": {},
   "outputs": [],
   "source": []
  }
 ],
 "metadata": {
  "kernelspec": {
   "display_name": "Python 3",
   "language": "python",
   "name": "python3"
  },
  "language_info": {
   "codemirror_mode": {
    "name": "ipython",
    "version": 3
   },
   "file_extension": ".py",
   "mimetype": "text/x-python",
   "name": "python",
   "nbconvert_exporter": "python",
   "pygments_lexer": "ipython3",
   "version": "3.7.3"
  }
 },
 "nbformat": 4,
 "nbformat_minor": 4
}
