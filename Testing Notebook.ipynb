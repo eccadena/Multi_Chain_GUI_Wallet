{
 "cells": [
  {
   "cell_type": "code",
   "execution_count": 55,
   "metadata": {},
   "outputs": [],
   "source": [
    "from py_hd_wallet import wallet\n",
    "import hashlib"
   ]
  },
  {
   "cell_type": "code",
   "execution_count": 56,
   "metadata": {},
   "outputs": [],
   "source": [
    "seed = wallet.generate_mnemonic()"
   ]
  },
  {
   "cell_type": "code",
   "execution_count": 57,
   "metadata": {},
   "outputs": [
    {
     "data": {
      "text/plain": [
       "'fresh moon sibling raccoon shock minimum cluster ticket south lift boring insane'"
      ]
     },
     "execution_count": 57,
     "metadata": {},
     "output_type": "execute_result"
    }
   ],
   "source": [
    "seed"
   ]
  },
  {
   "cell_type": "markdown",
   "metadata": {},
   "source": [
    "Valid options for network are: BTC, BTG, BCH, LTC, DASH, DOGE, XRP, ZCASH and XLM"
   ]
  },
  {
   "cell_type": "code",
   "execution_count": 58,
   "metadata": {},
   "outputs": [
    {
     "name": "stdout",
     "output_type": "stream",
     "text": [
      "{'coin': 'BTC', 'seed': 'fresh moon sibling raccoon shock minimum cluster ticket south lift boring insane', 'private_key': 'SBCX5H627EN4ZCCJXSSHSH4LXXYQONLZU6HLYKE6VXCQPEM5VNDXWMLH', 'public_key': 'GD6NQUBZWPUVGNRXGKTMGTLYIQY6K4KEUETRTILFNLZUK7UEXVI7HQI3', 'xprivate_key': '', 'xpublic_key': '', 'address': 'GD6NQUBZWPUVGNRXGKTMGTLYIQY6K4KEUETRTILFNLZUK7UEXVI7HQI3', 'wif': '', 'children': [{'address': 'GD6NQUBZWPUVGNRXGKTMGTLYIQY6K4KEUETRTILFNLZUK7UEXVI7HQI3', 'private_key': 'SBCX5H627EN4ZCCJXSSHSH4LXXYQONLZU6HLYKE6VXCQPEM5VNDXWMLH', 'path': 'm/0', 'bip39_path': \"m/44'/148'/0'\"}]}\n"
     ]
    }
   ],
   "source": [
    "w = wallet.create_wallet(network=\"XLM\", seed=seed, children=1)\n",
    "print(w)\n"
   ]
  },
  {
   "cell_type": "code",
   "execution_count": 59,
   "metadata": {},
   "outputs": [],
   "source": [
    "def create_seed():\n",
    "    seed = wallet.generate_mnemonic()\n",
    "    seed_phrase = {}\n",
    "    count = 0\n",
    "    seed = list(seed)\n",
    "    for word in seed:\n",
    "        count += 1\n",
    "        word_num = \"Word #\" + str(count)\n",
    "        seed_phrase = {\n",
    "            word_num:word\n",
    "        }\n",
    "    return seed_phrase"
   ]
  },
  {
   "cell_type": "code",
   "execution_count": null,
   "metadata": {},
   "outputs": [],
   "source": []
  },
  {
   "cell_type": "code",
   "execution_count": null,
   "metadata": {},
   "outputs": [],
   "source": []
  },
  {
   "cell_type": "code",
   "execution_count": 60,
   "metadata": {},
   "outputs": [],
   "source": [
    "seed = wallet.generate_mnemonic()"
   ]
  },
  {
   "cell_type": "code",
   "execution_count": 61,
   "metadata": {},
   "outputs": [
    {
     "name": "stdout",
     "output_type": "stream",
     "text": [
      "genuine cool abandon guide canoe narrow resist bargain rocket initial earn patch\n"
     ]
    }
   ],
   "source": [
    "words=\"\"\n",
    "for item in seed:\n",
    "    words += item \n",
    "print(words)"
   ]
  },
  {
   "cell_type": "code",
   "execution_count": 62,
   "metadata": {},
   "outputs": [],
   "source": [
    "import re\n",
    "\n",
    "wordList = re.sub(\"[^\\w]\", \" \",  seed).split()"
   ]
  },
  {
   "cell_type": "code",
   "execution_count": 63,
   "metadata": {},
   "outputs": [
    {
     "data": {
      "text/plain": [
       "'guide'"
      ]
     },
     "execution_count": 63,
     "metadata": {},
     "output_type": "execute_result"
    }
   ],
   "source": [
    "wordList[3]"
   ]
  },
  {
   "cell_type": "code",
   "execution_count": 64,
   "metadata": {},
   "outputs": [],
   "source": [
    "def create_seed():\n",
    "    seed = re.sub(\"[^\\w]\", \" \",  wallet.generate_mnemonic()).split()\n",
    "    count = 0\n",
    "    seed_dict = {}\n",
    "    for word in seed:\n",
    "        count += 1\n",
    "        word_count = \"word\" + str(count)\n",
    "        seed_dict.update( {word_count : word} )\n",
    "    return seed_dict"
   ]
  },
  {
   "cell_type": "code",
   "execution_count": 65,
   "metadata": {},
   "outputs": [
    {
     "ename": "AttributeError",
     "evalue": "'dict' object has no attribute 'word1'",
     "output_type": "error",
     "traceback": [
      "\u001b[1;31m---------------------------------------------------------------------------\u001b[0m",
      "\u001b[1;31mAttributeError\u001b[0m                            Traceback (most recent call last)",
      "\u001b[1;32m<ipython-input-65-774234647929>\u001b[0m in \u001b[0;36m<module>\u001b[1;34m\u001b[0m\n\u001b[0;32m      1\u001b[0m \u001b[0mx\u001b[0m \u001b[1;33m=\u001b[0m \u001b[0mcreate_seed\u001b[0m\u001b[1;33m(\u001b[0m\u001b[1;33m)\u001b[0m\u001b[1;33m\u001b[0m\u001b[1;33m\u001b[0m\u001b[0m\n\u001b[1;32m----> 2\u001b[1;33m \u001b[0mx\u001b[0m\u001b[1;33m.\u001b[0m\u001b[0mword1\u001b[0m\u001b[1;33m\u001b[0m\u001b[1;33m\u001b[0m\u001b[0m\n\u001b[0m",
      "\u001b[1;31mAttributeError\u001b[0m: 'dict' object has no attribute 'word1'"
     ]
    }
   ],
   "source": [
    "x = create_seed()\n",
    "x.word1"
   ]
  },
  {
   "cell_type": "code",
   "execution_count": 66,
   "metadata": {},
   "outputs": [
    {
     "data": {
      "text/plain": [
       "'reunion'"
      ]
     },
     "execution_count": 66,
     "metadata": {},
     "output_type": "execute_result"
    }
   ],
   "source": [
    "x['word1']"
   ]
  },
  {
   "cell_type": "code",
   "execution_count": 67,
   "metadata": {},
   "outputs": [],
   "source": [
    "import os\n",
    "import pandas as pd\n",
    "from urllib.request import Request, urlopen\n",
    "import json\n",
    "\n",
    "\n",
    "def read_json(url):\n",
    "    request = Request(url)\n",
    "    response = urlopen(request)\n",
    "    data = response.read()\n",
    "    url2 = json.loads(data)\n",
    "    return url2\n",
    "\n",
    "def get_crypto_daily_price(ticker_list = ['BTC', 'LTC', 'ETH']):\n",
    "    ticker_string=\"\"\n",
    "    for ticker in ticker_list:\n",
    "        ticker_string += ticker+\",\"\n",
    "    url = f\"https://min-api.cryptocompare.com/data/pricemulti?fsyms={ticker_string}&tsyms=USD\"\n",
    "    price_data = read_json(url)\n",
    " \n",
    "    return price_data"
   ]
  },
  {
   "cell_type": "code",
   "execution_count": 68,
   "metadata": {},
   "outputs": [
    {
     "data": {
      "text/plain": [
       "{'BTC': {'USD': 8159.66}, 'LTC': {'USD': 51.55}, 'ETH': {'USD': 146.91}}"
      ]
     },
     "execution_count": 68,
     "metadata": {},
     "output_type": "execute_result"
    }
   ],
   "source": [
    "\n",
    "get_crypto_daily_price()"
   ]
  },
  {
   "cell_type": "code",
   "execution_count": 69,
   "metadata": {},
   "outputs": [],
   "source": [
    "ticker_list=[\"BTC\", \"LTC\"]"
   ]
  },
  {
   "cell_type": "code",
   "execution_count": 70,
   "metadata": {},
   "outputs": [
    {
     "name": "stdout",
     "output_type": "stream",
     "text": [
      "BTC,LTC,\n"
     ]
    }
   ],
   "source": [
    "string=\"\"\n",
    "for ticker in ticker_list:\n",
    "    string += ticker+\",\"\n",
    "print(string)"
   ]
  },
  {
   "cell_type": "code",
   "execution_count": 71,
   "metadata": {},
   "outputs": [],
   "source": [
    "def get_wallets(seed):\n",
    "    coins = ['BTC','BTG','BCH','LTC','DASH','DOGE','XRP','ZCASH','XLM']\n",
    "    coin_purse = {}\n",
    "    for coin in coins:\n",
    "        w = wallet.create_wallet(network=coin, seed=seed, children=1)\n",
    "        coin_purse.update({\n",
    "            coin : w['address']\n",
    "        })\n",
    "    return coin_purse"
   ]
  },
  {
   "cell_type": "code",
   "execution_count": 72,
   "metadata": {},
   "outputs": [],
   "source": [
    "seed = 'shoe knife genius music loud smoke thunder oxygen judge royal thing horror'"
   ]
  },
  {
   "cell_type": "code",
   "execution_count": 73,
   "metadata": {},
   "outputs": [],
   "source": [
    "\n",
    "w = wallet.create_wallet(network=\"BTC\", seed=seed, children=1)"
   ]
  },
  {
   "cell_type": "code",
   "execution_count": 74,
   "metadata": {},
   "outputs": [
    {
     "data": {
      "text/plain": [
       "{'coin': 'BTC',\n",
       " 'seed': 'shoe knife genius music loud smoke thunder oxygen judge royal thing horror',\n",
       " 'private_key': '5d7b7ebdc733bb1def4099f4378424c9a833a4010be2e2bf8ad5138fe743dde4',\n",
       " 'public_key': '0436388f5f2d54a81cd8fab7f1ff070a06c7b8bc9f65d73a71d990b75ebb7484a056c79f5615eb5b86c6d09516b01a37c12d6d984329ddc843a42b70e5c3095b97',\n",
       " 'xprivate_key': 'xprv9s21ZrQH143K3D9QGcgzzUxS5oPqYpsXvUGuJ8Gagdnu5wGA7dM3BVf9E5ZYSRGWyo3dfH4GWJ1kMgyvWUvZCPuf6Dc4WBztTzV3eErWq25',\n",
       " 'xpublic_key': 'xpub661MyMwAqRbcFhDsNeE1McuAdqEKxHbPHhCW6WgCEyKsxjbJfAfHjHyd5NEmBAdtgreKy9eQrcVWCRDLZAVppUVCEi1zEgB16cEZ9zmZ4Pq',\n",
       " 'address': '1PsvAWqjFYbBkraZCveEobRf39qjUMRHby',\n",
       " 'wif': b'KzMRoadEL4c1j3vdeVqSuLUNiR6mPcCTRRhN5HRnkyw6xRWMheeE',\n",
       " 'children': [{'xpublic_key': 'xpub69jUtrTQYwkKvJDLr9bFd5NuiBJsugFQanFs9SiRywcdUyrWwbHq7PknjGK8cnq4EPH6D7p7baX6ua192tPxddsZXXWqWJXMg1p7mB7Pxts',\n",
       "   'xprivate_key': 'xprv9vk8VLvWiaC2hp8sk84FFwSBA9UPWDXZDZLGM4JpRc5ecBXNQ3yaZbSJsyypf25vvQc7LH6dMBRxf3xj3uGcnzzxWNWgfijxuoH9HnKLTSG',\n",
       "   'address': '1Dz3bxPQwtWTFkYy3CVEVuqSHcid84nLLo',\n",
       "   'private_key': b'bcb56931666d25b0460ef17e00ee64a02770f7cdf0c06b54138f40593c61730d',\n",
       "   'path': 'm/0',\n",
       "   'bip32_path': \"m/44'/0'/0'/0\"}],\n",
       " 'xpublic_key_prime': 'xpub69jUtrTYtcHJ7eMv9dJoWhdKxQLxjek23kEDY4Gw6KuEgYTcMkAQwKcXyi9xPYgBYt3KJmuwbjDZPdVSFKBRhRKY9FSmb8GQM5cpupRf82o'}"
      ]
     },
     "execution_count": 74,
     "metadata": {},
     "output_type": "execute_result"
    }
   ],
   "source": [
    "w"
   ]
  },
  {
   "cell_type": "code",
   "execution_count": 75,
   "metadata": {},
   "outputs": [
    {
     "data": {
      "text/plain": [
       "{'BTC': '1PsvAWqjFYbBkraZCveEobRf39qjUMRHby',\n",
       " 'BTG': 'GgiqaeAgEQCUqKsr8sJMEMmYxKdaUgwEWu',\n",
       " 'BCH': 'CfLojZBo8bZiezUytfyAP73gfH49T3w9kk',\n",
       " 'LTC': 'Li6sRj9ZLCqF1fGiP4dY5cVRFND1dKCYCd',\n",
       " 'DASH': 'XyZkzmVdDFomuoB94oxTf87SsVRRVvqzyJ',\n",
       " 'DOGE': 'DU21hmnNYxVUHrm9wWdoMMbFvHa2o1txTA',\n",
       " 'XRP': 'rpGk18Y8FB1hYV8a86aQJMqtMA1Ai39kyX',\n",
       " 'ZCASH': 't1W9bhos8LEYr4FJY7pchxqNwkR5ZbZobhB',\n",
       " 'XLM': 'GC7Y3UK3HDW7IQM3MK6BSNSZ2QZU7WANRBHKYA5TKISZACOISJ6ZQJCI'}"
      ]
     },
     "execution_count": 75,
     "metadata": {},
     "output_type": "execute_result"
    }
   ],
   "source": [
    "get_wallets(seed)"
   ]
  },
  {
   "cell_type": "code",
   "execution_count": 76,
   "metadata": {},
   "outputs": [],
   "source": [
    "import hashlib"
   ]
  },
  {
   "cell_type": "code",
   "execution_count": 77,
   "metadata": {},
   "outputs": [
    {
     "ename": "NameError",
     "evalue": "name 'hashdigest' is not defined",
     "output_type": "error",
     "traceback": [
      "\u001b[1;31m---------------------------------------------------------------------------\u001b[0m",
      "\u001b[1;31mNameError\u001b[0m                                 Traceback (most recent call last)",
      "\u001b[1;32m<ipython-input-77-174681c60a83>\u001b[0m in \u001b[0;36m<module>\u001b[1;34m\u001b[0m\n\u001b[1;32m----> 1\u001b[1;33m \u001b[0mhashdigest\u001b[0m\u001b[1;33m(\u001b[0m\u001b[1;34m\"test\"\u001b[0m\u001b[1;33m)\u001b[0m\u001b[1;33m\u001b[0m\u001b[1;33m\u001b[0m\u001b[0m\n\u001b[0m",
      "\u001b[1;31mNameError\u001b[0m: name 'hashdigest' is not defined"
     ]
    }
   ],
   "source": [
    "hashdigest(\"test\")"
   ]
  },
  {
   "cell_type": "code",
   "execution_count": null,
   "metadata": {},
   "outputs": [],
   "source": [
    "hashlib.sha256(b\"Nobody inspects the spammish repetition\").hexdigest()"
   ]
  },
  {
   "cell_type": "code",
   "execution_count": null,
   "metadata": {},
   "outputs": [],
   "source": [
    "hashlib.sha256(b\"Nobody inspects the spammish repetition\").digest()"
   ]
  },
  {
   "cell_type": "code",
   "execution_count": null,
   "metadata": {},
   "outputs": [],
   "source": [
    "hasher().hexdigest()"
   ]
  },
  {
   "cell_type": "code",
   "execution_count": null,
   "metadata": {},
   "outputs": [],
   "source": [
    "hashlib.sha256(b\"test\").hexdigest()"
   ]
  },
  {
   "cell_type": "code",
   "execution_count": null,
   "metadata": {},
   "outputs": [],
   "source": [
    "inp = input()\n",
    "hashlib.sha256(bytes(inp, 'utf-8')).hexdigest()"
   ]
  },
  {
   "cell_type": "code",
   "execution_count": null,
   "metadata": {},
   "outputs": [],
   "source": [
    "def set_password(pass_w):\n",
    "    file = open(\".pwd\", \"w\")\n",
    "    file.write(hash_pass(pass_w))\n",
    "    file.close()\n",
    "    return \"Password Saved\""
   ]
  },
  {
   "cell_type": "code",
   "execution_count": 78,
   "metadata": {},
   "outputs": [],
   "source": [
    "def hash_pass(pass_w):\n",
    "    return hashlib.sha256(bytes(pass_w, 'utf-8')).hexdigest()"
   ]
  },
  {
   "cell_type": "code",
   "execution_count": 79,
   "metadata": {},
   "outputs": [
    {
     "data": {
      "text/plain": [
       "'Password Saved'"
      ]
     },
     "execution_count": 79,
     "metadata": {},
     "output_type": "execute_result"
    }
   ],
   "source": [
    "set_password(\"test\")"
   ]
  },
  {
   "cell_type": "code",
   "execution_count": 80,
   "metadata": {},
   "outputs": [],
   "source": [
    "def check_password(pass_w):\n",
    "    file = open(\"wallet.dat\", \"r\")\n",
    "    if file.read() == hash_pass(pass_w):\n",
    "        return \"Success!\"\n",
    "    else:\n",
    "        return \"Incorrect Password!\" "
   ]
  },
  {
   "cell_type": "code",
   "execution_count": 81,
   "metadata": {},
   "outputs": [
    {
     "data": {
      "text/plain": [
       "'Incorrect Password!'"
      ]
     },
     "execution_count": 81,
     "metadata": {},
     "output_type": "execute_result"
    }
   ],
   "source": [
    "check_password(\"tes3t\")"
   ]
  },
  {
   "cell_type": "code",
   "execution_count": 82,
   "metadata": {},
   "outputs": [],
   "source": [
    "file = open(\"wallet.dat\", \"r\")"
   ]
  },
  {
   "cell_type": "code",
   "execution_count": 83,
   "metadata": {},
   "outputs": [],
   "source": [
    "x = file.read()"
   ]
  },
  {
   "cell_type": "code",
   "execution_count": 84,
   "metadata": {},
   "outputs": [
    {
     "data": {
      "text/plain": [
       "'eaf89db7108470dc3f6b23ea90618264b3e8f8b6145371667c4055e9c5ce9f52'"
      ]
     },
     "execution_count": 84,
     "metadata": {},
     "output_type": "execute_result"
    }
   ],
   "source": [
    "x"
   ]
  },
  {
   "cell_type": "code",
   "execution_count": 85,
   "metadata": {},
   "outputs": [],
   "source": [
    "def check_password(pass_w):\n",
    "    file = open(\"wallet.dat\", \"r\")\n",
    "    if file.read() == hash_pass(pass_w):\n",
    "        return 'True'\n",
    "    else:\n",
    "        return 'False'"
   ]
  },
  {
   "cell_type": "code",
   "execution_count": 86,
   "metadata": {},
   "outputs": [],
   "source": [
    "def hash_pass(pass_w):\n",
    "    return hashlib.sha256(bytes(pass_w, 'utf-8')).hexdigest()\n"
   ]
  },
  {
   "cell_type": "code",
   "execution_count": 87,
   "metadata": {},
   "outputs": [
    {
     "data": {
      "text/plain": [
       "'False'"
      ]
     },
     "execution_count": 87,
     "metadata": {},
     "output_type": "execute_result"
    }
   ],
   "source": [
    "check_password(\"tedst\")"
   ]
  },
  {
   "cell_type": "code",
   "execution_count": 88,
   "metadata": {},
   "outputs": [
    {
     "data": {
      "text/plain": [
       "'9f86d081884c7d659a2feaa0c55ad015a3bf4f1b2b0b822cd15d6c15b0f00a08'"
      ]
     },
     "execution_count": 88,
     "metadata": {},
     "output_type": "execute_result"
    }
   ],
   "source": [
    "hash_pass(\"test\")"
   ]
  },
  {
   "cell_type": "code",
   "execution_count": 89,
   "metadata": {},
   "outputs": [
    {
     "data": {
      "text/plain": [
       "'Password Saved'"
      ]
     },
     "execution_count": 89,
     "metadata": {},
     "output_type": "execute_result"
    }
   ],
   "source": [
    "set_password(\"test\")"
   ]
  },
  {
   "cell_type": "code",
   "execution_count": 90,
   "metadata": {},
   "outputs": [],
   "source": [
    "x = \"test\""
   ]
  },
  {
   "cell_type": "code",
   "execution_count": 91,
   "metadata": {},
   "outputs": [
    {
     "data": {
      "text/plain": [
       "'test'"
      ]
     },
     "execution_count": 91,
     "metadata": {},
     "output_type": "execute_result"
    }
   ],
   "source": [
    "x"
   ]
  },
  {
   "cell_type": "code",
   "execution_count": 92,
   "metadata": {},
   "outputs": [],
   "source": [
    "del x"
   ]
  },
  {
   "cell_type": "code",
   "execution_count": 93,
   "metadata": {},
   "outputs": [
    {
     "ename": "IndentationError",
     "evalue": "unexpected indent (<string>, line 2)",
     "output_type": "error",
     "traceback": [
      "Traceback \u001b[1;36m(most recent call last)\u001b[0m:\n",
      "  File \u001b[0;32m\"C:\\Users\\cscat\\AppData\\Roaming\\Python\\Python37\\site-packages\\IPython\\core\\interactiveshell.py\"\u001b[0m, line \u001b[0;32m3267\u001b[0m, in \u001b[0;35mrun_code\u001b[0m\n    exec(code_obj, self.user_global_ns, self.user_ns)\n",
      "\u001b[1;36m  File \u001b[1;32m\"<ipython-input-93-8be16aa502fd>\"\u001b[1;36m, line \u001b[1;32m8\u001b[1;36m, in \u001b[1;35m<module>\u001b[1;36m\u001b[0m\n\u001b[1;33m    ast = compile(source_code,\"<string>\",\"exec\",_ast.PyCF_ONLY_AST)\u001b[0m\n",
      "\u001b[1;36m  File \u001b[1;32m\"<string>\"\u001b[1;36m, line \u001b[1;32m2\u001b[0m\n\u001b[1;33m    import geo\u001b[0m\n\u001b[1;37m    ^\u001b[0m\n\u001b[1;31mIndentationError\u001b[0m\u001b[1;31m:\u001b[0m unexpected indent\n"
     ]
    }
   ],
   "source": [
    "import _ast\n",
    "\n",
    "source_code = \"\"\"\n",
    "  import geo\n",
    "  for file in os.listdir(\".\"):\n",
    "    print file\n",
    "\"\"\"\n",
    "ast = compile(source_code,\"<string>\",\"exec\",_ast.PyCF_ONLY_AST)"
   ]
  },
  {
   "cell_type": "code",
   "execution_count": 94,
   "metadata": {},
   "outputs": [
    {
     "ename": "NameError",
     "evalue": "name 'ast' is not defined",
     "output_type": "error",
     "traceback": [
      "\u001b[1;31m---------------------------------------------------------------------------\u001b[0m",
      "\u001b[1;31mNameError\u001b[0m                                 Traceback (most recent call last)",
      "\u001b[1;32m<ipython-input-94-3cb5b76db743>\u001b[0m in \u001b[0;36m<module>\u001b[1;34m\u001b[0m\n\u001b[1;32m----> 1\u001b[1;33m \u001b[0mos_import\u001b[0m \u001b[1;33m=\u001b[0m \u001b[0mcopy\u001b[0m\u001b[1;33m.\u001b[0m\u001b[0mdeepcopy\u001b[0m\u001b[1;33m(\u001b[0m\u001b[0mast\u001b[0m\u001b[1;33m.\u001b[0m\u001b[0mbody\u001b[0m\u001b[1;33m[\u001b[0m\u001b[1;36m0\u001b[0m\u001b[1;33m]\u001b[0m\u001b[1;33m)\u001b[0m\u001b[1;33m\u001b[0m\u001b[1;33m\u001b[0m\u001b[0m\n\u001b[0m\u001b[0;32m      2\u001b[0m \u001b[0mos_import\u001b[0m\u001b[1;33m.\u001b[0m\u001b[0mnames\u001b[0m\u001b[1;33m[\u001b[0m\u001b[1;36m0\u001b[0m\u001b[1;33m]\u001b[0m\u001b[1;33m.\u001b[0m\u001b[0mname\u001b[0m \u001b[1;33m=\u001b[0m \u001b[1;34m\"os\"\u001b[0m\u001b[1;33m\u001b[0m\u001b[1;33m\u001b[0m\u001b[0m\n",
      "\u001b[1;31mNameError\u001b[0m: name 'ast' is not defined"
     ]
    }
   ],
   "source": [
    "os_import = copy.deepcopy(ast.body[0])\n",
    "os_import.names[0].name = \"os\""
   ]
  },
  {
   "cell_type": "code",
   "execution_count": 95,
   "metadata": {},
   "outputs": [],
   "source": [
    "import _ast\n",
    "import copy\n",
    "\n",
    "def fix_source(source_string):\n",
    "\tast = compile(source_string,\"<string>\",\"exec\",_ast.PyCF_ONLY_AST)\n",
    "\t# clone the import object, so we can modify it\n",
    "\tos_import = copy.deepcopy(ast.body[0])\n",
    "\t# remove the import geo statement\n",
    "\tast.body.remove(ast.body[0])\n",
    "\t# change the import argument to os\n",
    "\tos_import.names[0].name = \"os\"\n",
    "\t# add the import os statement to the ast\n",
    "\tast.body.insert(0,os_import)\n",
    "\tfor_obj = ast.body[1]\n",
    "\t# change the argument of listdir to D:\\\n",
    "\tfor_obj.iter.args[0].s = \"C:\\\\\"\n",
    "\t# transform the AST into something runnable\n",
    "\treturn compile(ast,\"<string>\",\"exec\")\n",
    "\t\n",
    "if __name__ == \"__main__\":\n",
    "\tsource_code = \"\"\"\n",
    "import geo\n",
    "for file in os.listdir(\".\"):\n",
    "\tprint(file)\n",
    "\"\"\"\n"
   ]
  },
  {
   "cell_type": "code",
   "execution_count": 96,
   "metadata": {},
   "outputs": [
    {
     "name": "stdout",
     "output_type": "stream",
     "text": [
      "$Recycle.Bin\n",
      "$SysReset\n",
      "$WINDOWS.~BT\n",
      "$Windows.~WS\n",
      "AIOMiner\n",
      "AtomMiner\n",
      "avast! sandbox\n",
      "chromedriver.exe\n",
      "Documents and Settings\n",
      "Eel-master\n",
      "ESD\n",
      "Fintech\n",
      "getting-started-with-eel-master\n",
      "hiberfil.sys\n",
      "hp\n",
      "Intel\n",
      "IntelOptaneData\n",
      "pagefile.sys\n",
      "PerfLogs\n",
      "phantomjs-2.1.1-windows\n",
      "php\n",
      "php-old\n",
      "Program Files\n",
      "Program Files (x86)\n",
      "ProgramData\n",
      "python-app-with-electron-gui-master\n",
      "Recovery\n",
      "RM\n",
      "swapfile.sys\n",
      "swsetup\n",
      "System Volume Information\n",
      "system.sav\n",
      "ta-lib\n",
      "Users\n",
      "Windows\n",
      "xampp\n"
     ]
    }
   ],
   "source": [
    "code = fix_source(source_code)\n",
    "exec(code)"
   ]
  },
  {
   "cell_type": "code",
   "execution_count": null,
   "metadata": {},
   "outputs": [],
   "source": []
  },
  {
   "cell_type": "code",
   "execution_count": 97,
   "metadata": {},
   "outputs": [
    {
     "data": {
      "text/plain": [
       "{'coin': 'BTC',\n",
       " 'seed': 'shoe knife genius music loud smoke thunder oxygen judge royal thing horror',\n",
       " 'private_key': '5d7b7ebdc733bb1def4099f4378424c9a833a4010be2e2bf8ad5138fe743dde4',\n",
       " 'public_key': '0436388f5f2d54a81cd8fab7f1ff070a06c7b8bc9f65d73a71d990b75ebb7484a056c79f5615eb5b86c6d09516b01a37c12d6d984329ddc843a42b70e5c3095b97',\n",
       " 'xprivate_key': 'xprv9s21ZrQH143K3D9QGcgzzUxS5oPqYpsXvUGuJ8Gagdnu5wGA7dM3BVf9E5ZYSRGWyo3dfH4GWJ1kMgyvWUvZCPuf6Dc4WBztTzV3eErWq25',\n",
       " 'xpublic_key': 'xpub661MyMwAqRbcFhDsNeE1McuAdqEKxHbPHhCW6WgCEyKsxjbJfAfHjHyd5NEmBAdtgreKy9eQrcVWCRDLZAVppUVCEi1zEgB16cEZ9zmZ4Pq',\n",
       " 'address': '1PsvAWqjFYbBkraZCveEobRf39qjUMRHby',\n",
       " 'wif': b'KzMRoadEL4c1j3vdeVqSuLUNiR6mPcCTRRhN5HRnkyw6xRWMheeE',\n",
       " 'children': [{'xpublic_key': 'xpub69jUtrTQYwkKvJDLr9bFd5NuiBJsugFQanFs9SiRywcdUyrWwbHq7PknjGK8cnq4EPH6D7p7baX6ua192tPxddsZXXWqWJXMg1p7mB7Pxts',\n",
       "   'xprivate_key': 'xprv9vk8VLvWiaC2hp8sk84FFwSBA9UPWDXZDZLGM4JpRc5ecBXNQ3yaZbSJsyypf25vvQc7LH6dMBRxf3xj3uGcnzzxWNWgfijxuoH9HnKLTSG',\n",
       "   'address': '1Dz3bxPQwtWTFkYy3CVEVuqSHcid84nLLo',\n",
       "   'private_key': b'bcb56931666d25b0460ef17e00ee64a02770f7cdf0c06b54138f40593c61730d',\n",
       "   'path': 'm/0',\n",
       "   'bip32_path': \"m/44'/0'/0'/0\"}],\n",
       " 'xpublic_key_prime': 'xpub69jUtrTYtcHJ7eMv9dJoWhdKxQLxjek23kEDY4Gw6KuEgYTcMkAQwKcXyi9xPYgBYt3KJmuwbjDZPdVSFKBRhRKY9FSmb8GQM5cpupRf82o'}"
      ]
     },
     "execution_count": 97,
     "metadata": {},
     "output_type": "execute_result"
    }
   ],
   "source": [
    "w[]"
   ]
  },
  {
   "cell_type": "code",
   "execution_count": 161,
   "metadata": {},
   "outputs": [
    {
     "data": {
      "text/plain": [
       "b'bcb56931666d25b0460ef17e00ee64a02770f7cdf0c06b54138f40593c61730d'"
      ]
     },
     "execution_count": 161,
     "metadata": {},
     "output_type": "execute_result"
    }
   ],
   "source": [
    "pk = w['children'][0]['private_key']\n",
    "pk"
   ]
  },
  {
   "cell_type": "code",
   "execution_count": 162,
   "metadata": {},
   "outputs": [
    {
     "ename": "ValueError",
     "evalue": "\"0\" is an invalid base58 encoded character.",
     "output_type": "error",
     "traceback": [
      "\u001b[1;31m---------------------------------------------------------------------------\u001b[0m",
      "\u001b[1;31mValueError\u001b[0m                                Traceback (most recent call last)",
      "\u001b[1;32m<ipython-input-162-1a4db74ad192>\u001b[0m in \u001b[0;36m<module>\u001b[1;34m\u001b[0m\n\u001b[0;32m      1\u001b[0m \u001b[1;32mfrom\u001b[0m \u001b[0mbit\u001b[0m \u001b[1;32mimport\u001b[0m \u001b[0mPrivateKey\u001b[0m\u001b[1;33m\u001b[0m\u001b[1;33m\u001b[0m\u001b[0m\n\u001b[1;32m----> 2\u001b[1;33m \u001b[0mPrivateKey\u001b[0m\u001b[1;33m(\u001b[0m\u001b[0mpk\u001b[0m\u001b[1;33m.\u001b[0m\u001b[0mdecode\u001b[0m\u001b[1;33m(\u001b[0m\u001b[1;34m'UTF-8'\u001b[0m\u001b[1;33m)\u001b[0m\u001b[1;33m)\u001b[0m\u001b[1;33m\u001b[0m\u001b[1;33m\u001b[0m\u001b[0m\n\u001b[0m",
      "\u001b[1;32m~\\Anaconda3\\lib\\site-packages\\bit\\wallet.py\u001b[0m in \u001b[0;36m__init__\u001b[1;34m(self, wif)\u001b[0m\n\u001b[0;32m    146\u001b[0m \u001b[1;33m\u001b[0m\u001b[0m\n\u001b[0;32m    147\u001b[0m     \u001b[1;32mdef\u001b[0m \u001b[0m__init__\u001b[0m\u001b[1;33m(\u001b[0m\u001b[0mself\u001b[0m\u001b[1;33m,\u001b[0m \u001b[0mwif\u001b[0m\u001b[1;33m=\u001b[0m\u001b[1;32mNone\u001b[0m\u001b[1;33m)\u001b[0m\u001b[1;33m:\u001b[0m\u001b[1;33m\u001b[0m\u001b[1;33m\u001b[0m\u001b[0m\n\u001b[1;32m--> 148\u001b[1;33m         \u001b[0msuper\u001b[0m\u001b[1;33m(\u001b[0m\u001b[1;33m)\u001b[0m\u001b[1;33m.\u001b[0m\u001b[0m__init__\u001b[0m\u001b[1;33m(\u001b[0m\u001b[0mwif\u001b[0m\u001b[1;33m=\u001b[0m\u001b[0mwif\u001b[0m\u001b[1;33m)\u001b[0m\u001b[1;33m\u001b[0m\u001b[1;33m\u001b[0m\u001b[0m\n\u001b[0m\u001b[0;32m    149\u001b[0m \u001b[1;33m\u001b[0m\u001b[0m\n\u001b[0;32m    150\u001b[0m         \u001b[0mself\u001b[0m\u001b[1;33m.\u001b[0m\u001b[0mversion\u001b[0m \u001b[1;33m=\u001b[0m \u001b[1;34m'main'\u001b[0m\u001b[1;33m\u001b[0m\u001b[1;33m\u001b[0m\u001b[0m\n",
      "\u001b[1;32m~\\Anaconda3\\lib\\site-packages\\bit\\wallet.py\u001b[0m in \u001b[0;36m__init__\u001b[1;34m(self, wif)\u001b[0m\n\u001b[0;32m     50\u001b[0m         \u001b[1;32mif\u001b[0m \u001b[0mwif\u001b[0m\u001b[1;33m:\u001b[0m\u001b[1;33m\u001b[0m\u001b[1;33m\u001b[0m\u001b[0m\n\u001b[0;32m     51\u001b[0m             \u001b[1;32mif\u001b[0m \u001b[0misinstance\u001b[0m\u001b[1;33m(\u001b[0m\u001b[0mwif\u001b[0m\u001b[1;33m,\u001b[0m \u001b[0mstr\u001b[0m\u001b[1;33m)\u001b[0m\u001b[1;33m:\u001b[0m\u001b[1;33m\u001b[0m\u001b[1;33m\u001b[0m\u001b[0m\n\u001b[1;32m---> 52\u001b[1;33m                 \u001b[0mprivate_key_bytes\u001b[0m\u001b[1;33m,\u001b[0m \u001b[0mcompressed\u001b[0m\u001b[1;33m,\u001b[0m \u001b[0mversion\u001b[0m \u001b[1;33m=\u001b[0m \u001b[0mwif_to_bytes\u001b[0m\u001b[1;33m(\u001b[0m\u001b[0mwif\u001b[0m\u001b[1;33m)\u001b[0m\u001b[1;33m\u001b[0m\u001b[1;33m\u001b[0m\u001b[0m\n\u001b[0m\u001b[0;32m     53\u001b[0m                 \u001b[0mself\u001b[0m\u001b[1;33m.\u001b[0m\u001b[0m_pk\u001b[0m \u001b[1;33m=\u001b[0m \u001b[0mECPrivateKey\u001b[0m\u001b[1;33m(\u001b[0m\u001b[0mprivate_key_bytes\u001b[0m\u001b[1;33m)\u001b[0m\u001b[1;33m\u001b[0m\u001b[1;33m\u001b[0m\u001b[0m\n\u001b[0;32m     54\u001b[0m             \u001b[1;32melif\u001b[0m \u001b[0misinstance\u001b[0m\u001b[1;33m(\u001b[0m\u001b[0mwif\u001b[0m\u001b[1;33m,\u001b[0m \u001b[0mECPrivateKey\u001b[0m\u001b[1;33m)\u001b[0m\u001b[1;33m:\u001b[0m\u001b[1;33m\u001b[0m\u001b[1;33m\u001b[0m\u001b[0m\n",
      "\u001b[1;32m~\\Anaconda3\\lib\\site-packages\\bit\\format.py\u001b[0m in \u001b[0;36mwif_to_bytes\u001b[1;34m(wif)\u001b[0m\n\u001b[0;32m     69\u001b[0m \u001b[1;32mdef\u001b[0m \u001b[0mwif_to_bytes\u001b[0m\u001b[1;33m(\u001b[0m\u001b[0mwif\u001b[0m\u001b[1;33m)\u001b[0m\u001b[1;33m:\u001b[0m\u001b[1;33m\u001b[0m\u001b[1;33m\u001b[0m\u001b[0m\n\u001b[0;32m     70\u001b[0m \u001b[1;33m\u001b[0m\u001b[0m\n\u001b[1;32m---> 71\u001b[1;33m     \u001b[0mprivate_key\u001b[0m \u001b[1;33m=\u001b[0m \u001b[0mb58decode_check\u001b[0m\u001b[1;33m(\u001b[0m\u001b[0mwif\u001b[0m\u001b[1;33m)\u001b[0m\u001b[1;33m\u001b[0m\u001b[1;33m\u001b[0m\u001b[0m\n\u001b[0m\u001b[0;32m     72\u001b[0m \u001b[1;33m\u001b[0m\u001b[0m\n\u001b[0;32m     73\u001b[0m     \u001b[0mversion\u001b[0m \u001b[1;33m=\u001b[0m \u001b[0mprivate_key\u001b[0m\u001b[1;33m[\u001b[0m\u001b[1;33m:\u001b[0m\u001b[1;36m1\u001b[0m\u001b[1;33m]\u001b[0m\u001b[1;33m\u001b[0m\u001b[1;33m\u001b[0m\u001b[0m\n",
      "\u001b[1;32m~\\Anaconda3\\lib\\site-packages\\bit\\base58.py\u001b[0m in \u001b[0;36mb58decode_check\u001b[1;34m(string)\u001b[0m\n\u001b[0;32m     67\u001b[0m \u001b[1;32mdef\u001b[0m \u001b[0mb58decode_check\u001b[0m\u001b[1;33m(\u001b[0m\u001b[0mstring\u001b[0m\u001b[1;33m)\u001b[0m\u001b[1;33m:\u001b[0m\u001b[1;33m\u001b[0m\u001b[1;33m\u001b[0m\u001b[0m\n\u001b[0;32m     68\u001b[0m \u001b[1;33m\u001b[0m\u001b[0m\n\u001b[1;32m---> 69\u001b[1;33m     \u001b[0mdecoded\u001b[0m \u001b[1;33m=\u001b[0m \u001b[0mb58decode\u001b[0m\u001b[1;33m(\u001b[0m\u001b[0mstring\u001b[0m\u001b[1;33m)\u001b[0m\u001b[1;33m\u001b[0m\u001b[1;33m\u001b[0m\u001b[0m\n\u001b[0m\u001b[0;32m     70\u001b[0m     \u001b[0mshortened\u001b[0m \u001b[1;33m=\u001b[0m \u001b[0mdecoded\u001b[0m\u001b[1;33m[\u001b[0m\u001b[1;33m:\u001b[0m\u001b[1;33m-\u001b[0m\u001b[1;36m4\u001b[0m\u001b[1;33m]\u001b[0m\u001b[1;33m\u001b[0m\u001b[1;33m\u001b[0m\u001b[0m\n\u001b[0;32m     71\u001b[0m     \u001b[0mdecoded_checksum\u001b[0m \u001b[1;33m=\u001b[0m \u001b[0mdecoded\u001b[0m\u001b[1;33m[\u001b[0m\u001b[1;33m-\u001b[0m\u001b[1;36m4\u001b[0m\u001b[1;33m:\u001b[0m\u001b[1;33m]\u001b[0m\u001b[1;33m\u001b[0m\u001b[1;33m\u001b[0m\u001b[0m\n",
      "\u001b[1;32m~\\Anaconda3\\lib\\site-packages\\bit\\base58.py\u001b[0m in \u001b[0;36mb58decode\u001b[1;34m(string)\u001b[0m\n\u001b[0;32m     51\u001b[0m     \u001b[1;32mexcept\u001b[0m \u001b[0mKeyError\u001b[0m\u001b[1;33m:\u001b[0m\u001b[1;33m\u001b[0m\u001b[1;33m\u001b[0m\u001b[0m\n\u001b[0;32m     52\u001b[0m         raise ValueError('\"{}\" is an invalid base58 encoded '\n\u001b[1;32m---> 53\u001b[1;33m                          'character.'.format(char)) from None\n\u001b[0m\u001b[0;32m     54\u001b[0m \u001b[1;33m\u001b[0m\u001b[0m\n\u001b[0;32m     55\u001b[0m     \u001b[0mbytestr\u001b[0m \u001b[1;33m=\u001b[0m \u001b[0mint_to_unknown_bytes\u001b[0m\u001b[1;33m(\u001b[0m\u001b[0mnum\u001b[0m\u001b[1;33m)\u001b[0m\u001b[1;33m\u001b[0m\u001b[1;33m\u001b[0m\u001b[0m\n",
      "\u001b[1;31mValueError\u001b[0m: \"0\" is an invalid base58 encoded character."
     ]
    }
   ],
   "source": [
    "from bit import PrivateKey\n",
    "PrivateKey(pk.decode('UTF-8'))"
   ]
  },
  {
   "cell_type": "code",
   "execution_count": 140,
   "metadata": {},
   "outputs": [],
   "source": [
    "import base58\n",
    "pk3 = '5d7b7ebdc733bb1def4099f4378424c9a833a4010be2e2bf8ad5138fe743dde4'"
   ]
  },
  {
   "cell_type": "code",
   "execution_count": 151,
   "metadata": {},
   "outputs": [
    {
     "ename": "AttributeError",
     "evalue": "'str' object has no attribute 'decode'",
     "output_type": "error",
     "traceback": [
      "\u001b[1;31m---------------------------------------------------------------------------\u001b[0m",
      "\u001b[1;31mAttributeError\u001b[0m                            Traceback (most recent call last)",
      "\u001b[1;32m<ipython-input-151-403ad131ae83>\u001b[0m in \u001b[0;36m<module>\u001b[1;34m\u001b[0m\n\u001b[1;32m----> 1\u001b[1;33m \u001b[0mx\u001b[0m \u001b[1;33m=\u001b[0m \u001b[0mpk3\u001b[0m\u001b[1;33m.\u001b[0m\u001b[0mdecode\u001b[0m\u001b[1;33m(\u001b[0m\u001b[1;34m'utf8'\u001b[0m\u001b[1;33m)\u001b[0m\u001b[1;33m\u001b[0m\u001b[1;33m\u001b[0m\u001b[0m\n\u001b[0m\u001b[0;32m      2\u001b[0m \u001b[0mx\u001b[0m\u001b[1;33m\u001b[0m\u001b[1;33m\u001b[0m\u001b[0m\n",
      "\u001b[1;31mAttributeError\u001b[0m: 'str' object has no attribute 'decode'"
     ]
    }
   ],
   "source": []
  },
  {
   "cell_type": "code",
   "execution_count": 176,
   "metadata": {},
   "outputs": [
    {
     "ename": "ValueError",
     "evalue": "\"0\" is an invalid base58 encoded character.",
     "output_type": "error",
     "traceback": [
      "\u001b[1;31m---------------------------------------------------------------------------\u001b[0m",
      "\u001b[1;31mValueError\u001b[0m                                Traceback (most recent call last)",
      "\u001b[1;32m<ipython-input-176-152e274f2d32>\u001b[0m in \u001b[0;36m<module>\u001b[1;34m\u001b[0m\n\u001b[1;32m----> 1\u001b[1;33m \u001b[0mPrivateKey\u001b[0m\u001b[1;33m(\u001b[0m\u001b[0mkey_hex\u001b[0m\u001b[1;33m.\u001b[0m\u001b[0mdecode\u001b[0m\u001b[1;33m(\u001b[0m\u001b[1;34m'UTF-8'\u001b[0m\u001b[1;33m)\u001b[0m\u001b[1;33m)\u001b[0m\u001b[1;33m\u001b[0m\u001b[1;33m\u001b[0m\u001b[0m\n\u001b[0m",
      "\u001b[1;32m~\\Anaconda3\\lib\\site-packages\\bit\\wallet.py\u001b[0m in \u001b[0;36m__init__\u001b[1;34m(self, wif)\u001b[0m\n\u001b[0;32m    146\u001b[0m \u001b[1;33m\u001b[0m\u001b[0m\n\u001b[0;32m    147\u001b[0m     \u001b[1;32mdef\u001b[0m \u001b[0m__init__\u001b[0m\u001b[1;33m(\u001b[0m\u001b[0mself\u001b[0m\u001b[1;33m,\u001b[0m \u001b[0mwif\u001b[0m\u001b[1;33m=\u001b[0m\u001b[1;32mNone\u001b[0m\u001b[1;33m)\u001b[0m\u001b[1;33m:\u001b[0m\u001b[1;33m\u001b[0m\u001b[1;33m\u001b[0m\u001b[0m\n\u001b[1;32m--> 148\u001b[1;33m         \u001b[0msuper\u001b[0m\u001b[1;33m(\u001b[0m\u001b[1;33m)\u001b[0m\u001b[1;33m.\u001b[0m\u001b[0m__init__\u001b[0m\u001b[1;33m(\u001b[0m\u001b[0mwif\u001b[0m\u001b[1;33m=\u001b[0m\u001b[0mwif\u001b[0m\u001b[1;33m)\u001b[0m\u001b[1;33m\u001b[0m\u001b[1;33m\u001b[0m\u001b[0m\n\u001b[0m\u001b[0;32m    149\u001b[0m \u001b[1;33m\u001b[0m\u001b[0m\n\u001b[0;32m    150\u001b[0m         \u001b[0mself\u001b[0m\u001b[1;33m.\u001b[0m\u001b[0mversion\u001b[0m \u001b[1;33m=\u001b[0m \u001b[1;34m'main'\u001b[0m\u001b[1;33m\u001b[0m\u001b[1;33m\u001b[0m\u001b[0m\n",
      "\u001b[1;32m~\\Anaconda3\\lib\\site-packages\\bit\\wallet.py\u001b[0m in \u001b[0;36m__init__\u001b[1;34m(self, wif)\u001b[0m\n\u001b[0;32m     50\u001b[0m         \u001b[1;32mif\u001b[0m \u001b[0mwif\u001b[0m\u001b[1;33m:\u001b[0m\u001b[1;33m\u001b[0m\u001b[1;33m\u001b[0m\u001b[0m\n\u001b[0;32m     51\u001b[0m             \u001b[1;32mif\u001b[0m \u001b[0misinstance\u001b[0m\u001b[1;33m(\u001b[0m\u001b[0mwif\u001b[0m\u001b[1;33m,\u001b[0m \u001b[0mstr\u001b[0m\u001b[1;33m)\u001b[0m\u001b[1;33m:\u001b[0m\u001b[1;33m\u001b[0m\u001b[1;33m\u001b[0m\u001b[0m\n\u001b[1;32m---> 52\u001b[1;33m                 \u001b[0mprivate_key_bytes\u001b[0m\u001b[1;33m,\u001b[0m \u001b[0mcompressed\u001b[0m\u001b[1;33m,\u001b[0m \u001b[0mversion\u001b[0m \u001b[1;33m=\u001b[0m \u001b[0mwif_to_bytes\u001b[0m\u001b[1;33m(\u001b[0m\u001b[0mwif\u001b[0m\u001b[1;33m)\u001b[0m\u001b[1;33m\u001b[0m\u001b[1;33m\u001b[0m\u001b[0m\n\u001b[0m\u001b[0;32m     53\u001b[0m                 \u001b[0mself\u001b[0m\u001b[1;33m.\u001b[0m\u001b[0m_pk\u001b[0m \u001b[1;33m=\u001b[0m \u001b[0mECPrivateKey\u001b[0m\u001b[1;33m(\u001b[0m\u001b[0mprivate_key_bytes\u001b[0m\u001b[1;33m)\u001b[0m\u001b[1;33m\u001b[0m\u001b[1;33m\u001b[0m\u001b[0m\n\u001b[0;32m     54\u001b[0m             \u001b[1;32melif\u001b[0m \u001b[0misinstance\u001b[0m\u001b[1;33m(\u001b[0m\u001b[0mwif\u001b[0m\u001b[1;33m,\u001b[0m \u001b[0mECPrivateKey\u001b[0m\u001b[1;33m)\u001b[0m\u001b[1;33m:\u001b[0m\u001b[1;33m\u001b[0m\u001b[1;33m\u001b[0m\u001b[0m\n",
      "\u001b[1;32m~\\Anaconda3\\lib\\site-packages\\bit\\format.py\u001b[0m in \u001b[0;36mwif_to_bytes\u001b[1;34m(wif)\u001b[0m\n\u001b[0;32m     69\u001b[0m \u001b[1;32mdef\u001b[0m \u001b[0mwif_to_bytes\u001b[0m\u001b[1;33m(\u001b[0m\u001b[0mwif\u001b[0m\u001b[1;33m)\u001b[0m\u001b[1;33m:\u001b[0m\u001b[1;33m\u001b[0m\u001b[1;33m\u001b[0m\u001b[0m\n\u001b[0;32m     70\u001b[0m \u001b[1;33m\u001b[0m\u001b[0m\n\u001b[1;32m---> 71\u001b[1;33m     \u001b[0mprivate_key\u001b[0m \u001b[1;33m=\u001b[0m \u001b[0mb58decode_check\u001b[0m\u001b[1;33m(\u001b[0m\u001b[0mwif\u001b[0m\u001b[1;33m)\u001b[0m\u001b[1;33m\u001b[0m\u001b[1;33m\u001b[0m\u001b[0m\n\u001b[0m\u001b[0;32m     72\u001b[0m \u001b[1;33m\u001b[0m\u001b[0m\n\u001b[0;32m     73\u001b[0m     \u001b[0mversion\u001b[0m \u001b[1;33m=\u001b[0m \u001b[0mprivate_key\u001b[0m\u001b[1;33m[\u001b[0m\u001b[1;33m:\u001b[0m\u001b[1;36m1\u001b[0m\u001b[1;33m]\u001b[0m\u001b[1;33m\u001b[0m\u001b[1;33m\u001b[0m\u001b[0m\n",
      "\u001b[1;32m~\\Anaconda3\\lib\\site-packages\\bit\\base58.py\u001b[0m in \u001b[0;36mb58decode_check\u001b[1;34m(string)\u001b[0m\n\u001b[0;32m     67\u001b[0m \u001b[1;32mdef\u001b[0m \u001b[0mb58decode_check\u001b[0m\u001b[1;33m(\u001b[0m\u001b[0mstring\u001b[0m\u001b[1;33m)\u001b[0m\u001b[1;33m:\u001b[0m\u001b[1;33m\u001b[0m\u001b[1;33m\u001b[0m\u001b[0m\n\u001b[0;32m     68\u001b[0m \u001b[1;33m\u001b[0m\u001b[0m\n\u001b[1;32m---> 69\u001b[1;33m     \u001b[0mdecoded\u001b[0m \u001b[1;33m=\u001b[0m \u001b[0mb58decode\u001b[0m\u001b[1;33m(\u001b[0m\u001b[0mstring\u001b[0m\u001b[1;33m)\u001b[0m\u001b[1;33m\u001b[0m\u001b[1;33m\u001b[0m\u001b[0m\n\u001b[0m\u001b[0;32m     70\u001b[0m     \u001b[0mshortened\u001b[0m \u001b[1;33m=\u001b[0m \u001b[0mdecoded\u001b[0m\u001b[1;33m[\u001b[0m\u001b[1;33m:\u001b[0m\u001b[1;33m-\u001b[0m\u001b[1;36m4\u001b[0m\u001b[1;33m]\u001b[0m\u001b[1;33m\u001b[0m\u001b[1;33m\u001b[0m\u001b[0m\n\u001b[0;32m     71\u001b[0m     \u001b[0mdecoded_checksum\u001b[0m \u001b[1;33m=\u001b[0m \u001b[0mdecoded\u001b[0m\u001b[1;33m[\u001b[0m\u001b[1;33m-\u001b[0m\u001b[1;36m4\u001b[0m\u001b[1;33m:\u001b[0m\u001b[1;33m]\u001b[0m\u001b[1;33m\u001b[0m\u001b[1;33m\u001b[0m\u001b[0m\n",
      "\u001b[1;32m~\\Anaconda3\\lib\\site-packages\\bit\\base58.py\u001b[0m in \u001b[0;36mb58decode\u001b[1;34m(string)\u001b[0m\n\u001b[0;32m     51\u001b[0m     \u001b[1;32mexcept\u001b[0m \u001b[0mKeyError\u001b[0m\u001b[1;33m:\u001b[0m\u001b[1;33m\u001b[0m\u001b[1;33m\u001b[0m\u001b[0m\n\u001b[0;32m     52\u001b[0m         raise ValueError('\"{}\" is an invalid base58 encoded '\n\u001b[1;32m---> 53\u001b[1;33m                          'character.'.format(char)) from None\n\u001b[0m\u001b[0;32m     54\u001b[0m \u001b[1;33m\u001b[0m\u001b[0m\n\u001b[0;32m     55\u001b[0m     \u001b[0mbytestr\u001b[0m \u001b[1;33m=\u001b[0m \u001b[0mint_to_unknown_bytes\u001b[0m\u001b[1;33m(\u001b[0m\u001b[0mnum\u001b[0m\u001b[1;33m)\u001b[0m\u001b[1;33m\u001b[0m\u001b[1;33m\u001b[0m\u001b[0m\n",
      "\u001b[1;31mValueError\u001b[0m: \"0\" is an invalid base58 encoded character."
     ]
    }
   ],
   "source": [
    "PrivateKey(key_hex.decode('UTF-8'))"
   ]
  },
  {
   "cell_type": "code",
   "execution_count": 166,
   "metadata": {},
   "outputs": [],
   "source": [
    "private_key_bytes = codecs.decode(pk, 'hex')"
   ]
  },
  {
   "cell_type": "code",
   "execution_count": 169,
   "metadata": {},
   "outputs": [],
   "source": [
    "import codecs\n",
    "import ecdsa"
   ]
  },
  {
   "cell_type": "code",
   "execution_count": 167,
   "metadata": {},
   "outputs": [
    {
     "data": {
      "text/plain": [
       "b\"\\xbc\\xb5i1fm%\\xb0F\\x0e\\xf1~\\x00\\xeed\\xa0'p\\xf7\\xcd\\xf0\\xc0kT\\x13\\x8f@Y<as\\r\""
      ]
     },
     "execution_count": 167,
     "metadata": {},
     "output_type": "execute_result"
    }
   ],
   "source": [
    "private_key_bytes"
   ]
  },
  {
   "cell_type": "code",
   "execution_count": 170,
   "metadata": {},
   "outputs": [],
   "source": [
    "key = ecdsa.SigningKey.from_string(private_key_bytes, curve=ecdsa.SECP256k1).verifying_key"
   ]
  },
  {
   "cell_type": "code",
   "execution_count": 171,
   "metadata": {},
   "outputs": [],
   "source": [
    "key_bytes = key.to_string()"
   ]
  },
  {
   "cell_type": "code",
   "execution_count": 173,
   "metadata": {},
   "outputs": [],
   "source": [
    "key_hex = codecs.encode(key_bytes, 'hex')"
   ]
  },
  {
   "cell_type": "code",
   "execution_count": 174,
   "metadata": {},
   "outputs": [
    {
     "data": {
      "text/plain": [
       "b'683d400f4984f045e205c6043ba90697067159e4ab5ba7d2368fd314828c19fd0d55e1f5997267a77dbb680693f19fd9d5a1437e9e4d54374c9260961ba1d8b5'"
      ]
     },
     "execution_count": 174,
     "metadata": {},
     "output_type": "execute_result"
    }
   ],
   "source": [
    "key_hex"
   ]
  },
  {
   "cell_type": "code",
   "execution_count": 178,
   "metadata": {},
   "outputs": [],
   "source": [
    "public_key_bytes = codecs.decode(pk, 'hex')\n",
    "\n",
    "# Run SHA-256 for the public key\n",
    "\n",
    "sha256_bpk = hashlib.sha256(public_key_bytes)\n",
    "\n",
    "sha256_bpk_digest = sha256_bpk.digest()\n",
    "\n",
    "# Run RIPEMD-160 for the SHA-256\n",
    "\n",
    "ripemd160_bpk = hashlib.new('ripemd160')\n",
    "\n",
    "ripemd160_bpk.update(sha256_bpk_digest)\n",
    "\n",
    "ripemd160_bpk_digest = ripemd160_bpk.digest()\n",
    "\n",
    "ripemd160_bpk_hex = codecs.encode(ripemd160_bpk_digest, 'hex')"
   ]
  },
  {
   "cell_type": "code",
   "execution_count": 181,
   "metadata": {},
   "outputs": [],
   "source": [
    "# Double SHA256 to get checksum\n",
    "\n",
    "sha256_nbpk = hashlib.sha256(public_key_bytes)\n",
    "\n",
    "sha256_nbpk_digest = sha256_nbpk.digest()\n",
    "\n",
    "sha256_2_nbpk = hashlib.sha256(sha256_nbpk_digest)\n",
    "\n",
    "sha256_2_nbpk_digest = sha256_2_nbpk.digest()\n",
    "\n",
    "sha256_2_hex = codecs.encode(sha256_2_nbpk_digest, 'hex')\n",
    "\n",
    "checksum = sha256_2_hex[:8]"
   ]
  },
  {
   "cell_type": "code",
   "execution_count": 185,
   "metadata": {},
   "outputs": [],
   "source": [
    "def base58(address_hex):\n",
    "\n",
    "    alphabet = '123456789ABCDEFGHJKLMNPQRSTUVWXYZabcdefghijkmnopqrstuvwxyz'\n",
    "\n",
    "    b58_string = ''\n",
    "\n",
    "    # Get the number of leading zeros\n",
    "\n",
    "    leading_zeros = len(address_hex) - len(address_hex.lstrip('0'))\n",
    "\n",
    "    # Convert hex to decimal\n",
    "\n",
    "    address_int = int(address_hex, 16)\n",
    "\n",
    "    # Append digits to the start of string\n",
    "\n",
    "    while address_int > 0:\n",
    "\n",
    "        digit = address_int % 58\n",
    "\n",
    "        digit_char = alphabet[digit]\n",
    "\n",
    "        b58_string = digit_char + b58_string\n",
    "\n",
    "        address_int //= 58\n",
    "\n",
    "    # Add ‘1’ for each 2 leading zeros\n",
    "\n",
    "    ones = leading_zeros // 2\n",
    "\n",
    "    for one in range(ones):\n",
    "\n",
    "        b58_string = '1' + b58_string\n",
    "\n",
    "    return b58_string"
   ]
  },
  {
   "cell_type": "code",
   "execution_count": 188,
   "metadata": {},
   "outputs": [
    {
     "data": {
      "text/plain": [
       "b'683d400f4984f045e205c6043ba90697067159e4ab5ba7d2368fd314828c19fd0d55e1f5997267a77dbb680693f19fd9d5a1437e9e4d54374c9260961ba1d8b5'"
      ]
     },
     "execution_count": 188,
     "metadata": {},
     "output_type": "execute_result"
    }
   ],
   "source": [
    "key_hex"
   ]
  },
  {
   "cell_type": "code",
   "execution_count": 190,
   "metadata": {},
   "outputs": [
    {
     "ename": "TypeError",
     "evalue": "a bytes-like object is required, not 'str'",
     "output_type": "error",
     "traceback": [
      "\u001b[1;31m---------------------------------------------------------------------------\u001b[0m",
      "\u001b[1;31mTypeError\u001b[0m                                 Traceback (most recent call last)",
      "\u001b[1;32m<ipython-input-190-49b6445df8a9>\u001b[0m in \u001b[0;36m<module>\u001b[1;34m\u001b[0m\n\u001b[1;32m----> 1\u001b[1;33m \u001b[0mbase58\u001b[0m\u001b[1;33m(\u001b[0m\u001b[1;34mb\"683d400f4984f045e205c6043ba90697067159e4ab5ba7d2368fd314828c19fd0d55e1f5997267a77dbb680693f19fd9d5a1437e9e4d54374c9260961ba1d8b5\"\u001b[0m\u001b[1;33m)\u001b[0m\u001b[1;33m\u001b[0m\u001b[1;33m\u001b[0m\u001b[0m\n\u001b[0m",
      "\u001b[1;32m<ipython-input-185-f968908121b0>\u001b[0m in \u001b[0;36mbase58\u001b[1;34m(address_hex)\u001b[0m\n\u001b[0;32m      7\u001b[0m     \u001b[1;31m# Get the number of leading zeros\u001b[0m\u001b[1;33m\u001b[0m\u001b[1;33m\u001b[0m\u001b[1;33m\u001b[0m\u001b[0m\n\u001b[0;32m      8\u001b[0m \u001b[1;33m\u001b[0m\u001b[0m\n\u001b[1;32m----> 9\u001b[1;33m     \u001b[0mleading_zeros\u001b[0m \u001b[1;33m=\u001b[0m \u001b[0mlen\u001b[0m\u001b[1;33m(\u001b[0m\u001b[0maddress_hex\u001b[0m\u001b[1;33m)\u001b[0m \u001b[1;33m-\u001b[0m \u001b[0mlen\u001b[0m\u001b[1;33m(\u001b[0m\u001b[0maddress_hex\u001b[0m\u001b[1;33m.\u001b[0m\u001b[0mlstrip\u001b[0m\u001b[1;33m(\u001b[0m\u001b[1;34m'0'\u001b[0m\u001b[1;33m)\u001b[0m\u001b[1;33m)\u001b[0m\u001b[1;33m\u001b[0m\u001b[1;33m\u001b[0m\u001b[0m\n\u001b[0m\u001b[0;32m     10\u001b[0m \u001b[1;33m\u001b[0m\u001b[0m\n\u001b[0;32m     11\u001b[0m     \u001b[1;31m# Convert hex to decimal\u001b[0m\u001b[1;33m\u001b[0m\u001b[1;33m\u001b[0m\u001b[1;33m\u001b[0m\u001b[0m\n",
      "\u001b[1;31mTypeError\u001b[0m: a bytes-like object is required, not 'str'"
     ]
    }
   ],
   "source": [
    "base58(b\"683d400f4984f045e205c6043ba90697067159e4ab5ba7d2368fd314828c19fd0d55e1f5997267a77dbb680693f19fd9d5a1437e9e4d54374c9260961ba1d8b5\")"
   ]
  },
  {
   "cell_type": "code",
   "execution_count": null,
   "metadata": {},
   "outputs": [],
   "source": []
  }
 ],
 "metadata": {
  "kernelspec": {
   "display_name": "Python 3",
   "language": "python",
   "name": "python3"
  },
  "language_info": {
   "codemirror_mode": {
    "name": "ipython",
    "version": 3
   },
   "file_extension": ".py",
   "mimetype": "text/x-python",
   "name": "python",
   "nbconvert_exporter": "python",
   "pygments_lexer": "ipython3",
   "version": "3.7.3"
  }
 },
 "nbformat": 4,
 "nbformat_minor": 4
}
