{
 "cells": [
  {
   "cell_type": "code",
   "execution_count": 121,
   "metadata": {},
   "outputs": [],
   "source": [
    "from py_hd_wallet import wallet\n",
    "import eel\n",
    "import re\n",
    "from urllib.request import Request, urlopen\n",
    "import json\n",
    "import hashlib\n",
    "\n",
    "import scrypt\n",
    "\n",
    "from constants import *\n",
    "from web3 import Web3\n",
    "import os \n",
    "from dotenv import load_dotenv\n",
    "from eth_account import Account \n",
    "import subprocess\n",
    "import json\n",
    "from bit import Key, PrivateKey, PrivateKeyTestnet\n",
    "from bit.crypto import ECPrivateKey\n",
    "from bit.curve import Point\n",
    "from bit.format import (\n",
    "    bytes_to_wif, public_key_to_address, public_key_to_coords, wif_to_bytes\n",
    ")\n",
    "from bit.network import NetworkAPI, get_fee_cached, satoshi_to_currency_cached\n",
    "from bit.network.meta import Unspent\n",
    "#from bit.transaction import calc_txid, create_p2pkh_transaction, sanitize_tx_data\n",
    "from web3.middleware import geth_poa_middleware\n",
    "\n",
    "\n",
    "#eel.init('web') #This is the one launching the app\n",
    "\n",
    "\n",
    "#Wallet Functions\n",
    "\n",
    "#@eel.expose\n",
    "def create_seed():\n",
    "    seed = re.sub(\"[^\\w]\", \" \",  wallet.generate_mnemonic()).split()\n",
    "    count = 0\n",
    "    seed_dict = {}\n",
    "    for word in seed:\n",
    "        count += 1\n",
    "        word_count = \"word\" + str(count)\n",
    "        seed_dict.update( {word_count : word} )\n",
    "    return seed_dict\n",
    "\n",
    "#@eel.expose\n",
    "def get_wallets(seed):\n",
    "    coins = ['BTC','BTG','BCH','LTC','DASH','DOGE','XRP','ZCASH','XLM']\n",
    "    coin_purse = {}\n",
    "    for coin in coins:\n",
    "        w = wallet.create_wallet(network=coin, seed=seed, children=1)\n",
    "        coin_purse.update({\n",
    "            coin : {\"address\": w['address'],\n",
    "                   \"privatek\": w[\"xprivate_key\"],\n",
    "                   \"publick\" : w[\"xpublic_key\"],\n",
    "                   \"children\": w[\"children\"]\n",
    "                   }\n",
    "        })\n",
    "    return coin_purse\n",
    "\n",
    "#@eel.expose\n",
    "def priv_key_to_account(coin, priv_key):\n",
    "    \n",
    "    if coin == \"ETH\":        return Account.privateKeyToAccount(priv_key)       \n",
    "    elif coin == \"btc-test\": return PrivateKeyTestnet(priv_key)  \n",
    "    elif coin == \"BTC\":      return PrivateKey(priv_key) \n",
    "    else:                    return \"Not a supported coin\"\n",
    "\n",
    "    \n",
    "def create_tx(coin, account, to, amount):\n",
    "    \"\"\"\n",
    "    coin options: eth, btc-test.\n",
    "    account: account containing all the info like private and public \n",
    "    key as well as address of a certain account. This must be obtained\n",
    "    trough the method priv_key_to_account().\n",
    "    to: address to transfer funds.\n",
    "    amount: amount of the currency. Take into account that Ether must \n",
    "    be expressed in weis.\n",
    "    \"\"\"\n",
    "    if coin == \"ETH\":\n",
    "        gas_estimate = w3.eth.estimateGas(\n",
    "            {\n",
    "                \"from\": account.address,\n",
    "                \"to\": to,\n",
    "                \"value\": amount\n",
    "            }\n",
    "        )\n",
    "\n",
    "        return {\n",
    "            \"from\": account.address,\n",
    "            \"to\": to,\n",
    "            \"value\": amount,\n",
    "            \"gasPrice\": w3.eth.gasPrice,\n",
    "            \"gas\": gas_estimate,\n",
    "            \"nonce\":w3.eth.getTransactionCount(account.address)\n",
    "        }\n",
    "\n",
    "    elif coin == \"btc-test\":\n",
    "        return PrivateKeyTestnet.prepare_transaction(account.address, [(to, amount, BTC)])\n",
    "    \n",
    "    elif coin == \"BTC\":\n",
    "        return PrivateKey.prepare_transaction(account.address, [(to, amount, BTC)])\n",
    "    \n",
    "    else:\n",
    "        return \"Not a supported coin\"\n",
    "\n",
    "#@eel.expose\n",
    "def send_tx(coin, account, to, amount):\n",
    "    \"\"\"\n",
    "    coin options: eth, btc-test.\n",
    "    account: account containing all the info like private and public \n",
    "    key as well as address of a certain account. This must be obtained\n",
    "    trough the method priv_key_to_account().\n",
    "    to: address to transfer funds.\n",
    "    amount: amount of the currency. Take into account that Ether must \n",
    "    be expressed in weis.\n",
    "    \"\"\"  \n",
    "    tx = create_tx(coin, account, to, amount)\n",
    "    signed_tx = account.sign_transaction(tx) #how to do this tho\n",
    "    \n",
    "    if coin == \"ETH\": \n",
    "        result = w3.eth.sendRawTransaction(signed_tx.rawTransaction)\n",
    "        return result.hex()\n",
    "    \n",
    "    elif coin == \"btc-test\":\n",
    "        result = NetworkAPI.broadcast_tx_testnet(signed_tx)\n",
    "        return result\n",
    "    \n",
    "    elif coin == \"BTC\":\n",
    "        result = NetworkAPI.broadcast_tx(signed_tx)\n",
    "        return result\n",
    "    \n",
    "    else:\n",
    "        return \"Not a supported coin\"\n",
    "    \n",
    "\n",
    "#@eel.expose\n",
    "def get_balance(coin, account):\n",
    "    \n",
    "    if coin == \"ETH\": \n",
    "        return w3.eth.getBalance(account.address)\n",
    "         \n",
    "    \n",
    "    elif coin == \"btc-test\" or coin == \"btc\":\n",
    "        return account.get_balance(\"btc\")\n",
    "    \n",
    "    else:\n",
    "        return \"Not a supported coin\"\n",
    "\n",
    "    \n",
    "    \n",
    "    \n",
    "#Dashboard Functions\n",
    "\n",
    "def read_json(url):\n",
    "    request = Request(url)\n",
    "    response = urlopen(request)\n",
    "    data = response.read()\n",
    "    url2 = json.loads(data)\n",
    "    return url2\n",
    "\n",
    "#@eel.expose\n",
    "def get_prices(ticker_list = ['BTC','BTG','BCH','LTC','DASH','DOGE','XRP','ZEC','XLM']): \n",
    "    # Leaving this an argument instead of fixed string for flexibility, can be simpler/faster with fixed url input\n",
    "    ticker_string=\"\"\n",
    "    for ticker in ticker_list:\n",
    "        ticker_string += ticker+\",\"\n",
    "    url = f\"https://min-api.cryptocompare.com/data/pricemulti?fsyms={ticker_string}&tsyms=USD\"\n",
    "    price_data = read_json(url)\n",
    "    return price_data\n",
    "\n",
    "\n",
    "# Password Functions\n",
    "\n",
    "def hash_pass(pass_w):\n",
    "    #return hashlib.sha256(bytes(pass_w, 'utf-8')).hexdigest() #Original\n",
    "    return scrypt.encrypt(pass_w , 'Josh Eric Christian Oscar', maxtime=0.2)\n",
    "\n",
    "#@eel.expose\n",
    "def set_password(pass_w):\n",
    "    file = open(\".pwd\", \"w\")\n",
    "    file.write(hash_pass(pass_w))\n",
    "    file.close()\n",
    "    return True\n",
    "\n",
    "#@eel.expose\n",
    "def check_password(pass_w):\n",
    "    file = open(\".pwd\", \"r\")\n",
    "    \"\"\"\n",
    "    ######Original ######\n",
    "    if file.read() == hash_pass(pass_w): \n",
    "    \n",
    "        return 'True'\n",
    "    else:\n",
    "        return 'False' \n",
    "        \"\"\"\n",
    "    return scrypt.decrypt(file.read(),'Josh Eric Christian Oscar',maxtime=0.4) == pass_w\n",
    "\n",
    "\n",
    "#eel.start('loginWindow.html', size=(1350, 750))"
   ]
  },
  {
   "cell_type": "code",
   "execution_count": 18,
   "metadata": {},
   "outputs": [],
   "source": [
    "seed = create_seed()"
   ]
  },
  {
   "cell_type": "code",
   "execution_count": 19,
   "metadata": {},
   "outputs": [
    {
     "data": {
      "text/plain": [
       "{'word1': 'ready',\n",
       " 'word2': 'plastic',\n",
       " 'word3': 'ethics',\n",
       " 'word4': 'debate',\n",
       " 'word5': 'absorb',\n",
       " 'word6': 'gaze',\n",
       " 'word7': 'join',\n",
       " 'word8': 'series',\n",
       " 'word9': 'latin',\n",
       " 'word10': 'certain',\n",
       " 'word11': 'worth',\n",
       " 'word12': 'offer'}"
      ]
     },
     "execution_count": 19,
     "metadata": {},
     "output_type": "execute_result"
    }
   ],
   "source": [
    "seed"
   ]
  },
  {
   "cell_type": "code",
   "execution_count": 21,
   "metadata": {},
   "outputs": [
    {
     "data": {
      "text/plain": [
       "'ready plastic ethics debate absorb gaze join series latin certain worth offer'"
      ]
     },
     "execution_count": 21,
     "metadata": {},
     "output_type": "execute_result"
    }
   ],
   "source": [
    "real_seed = \"\"\n",
    "real_seed = [real_seed + seed[x] for x in seed]\n",
    "real_seed = \" \".join(real_seed)\n",
    "real_seed"
   ]
  },
  {
   "cell_type": "code",
   "execution_count": 97,
   "metadata": {},
   "outputs": [],
   "source": [
    "def derive_wallets(mnemonic, coin, nkeys):\n",
    "\n",
    "    command = f'./hd-wallet-derive/hd-wallet-derive.php --mnemonic=\"{mnemonic}\" --coin={coin} --numderive={nkeys}  --format=json -g'\n",
    "    new_process = subprocess.Popen(command, stdout=subprocess.PIPE, shell=True)\n",
    "\n",
    "    (output, err) = new_process.communicate()\n",
    "\n",
    "    p_status = new_process.wait()\n",
    "\n",
    "    if err:\n",
    "        print(\"\\nError:###\\n\\n\")\n",
    "        return err\n",
    "\n",
    "    return json.loads(output)\n",
    "    #return output\n",
    "\n",
    "\n",
    "coins = {\n",
    "    \"eth\"     : derive_wallets(real_seed, \"ETH\", 10), \n",
    "    \"btc-test\": derive_wallets(real_seed, \"BTC-test\", 10),\n",
    "    \"btc\"     : derive_wallets(real_seed, \"BTC\", 10)\n",
    "}"
   ]
  },
  {
   "cell_type": "code",
   "execution_count": 108,
   "metadata": {},
   "outputs": [
    {
     "data": {
      "text/plain": [
       "[{'path': \"m/44'/1'/0'/0/0\",\n",
       "  'address': 'mpChnAKRoQjSLFnQ68gCAnUoanYq4Kb4Hb',\n",
       "  'xprv': 'tprv8kG39HxK9185SojyCMVhPXAS9SdBdn9Ho9rVZiR4kN7YNCVMHVfhQVZtpteJR3ntvDnp9Hq1qPDbJa2wpCwNveDoyseNb5N9rUgddXNpeH3',\n",
       "  'xpub': 'tpubDGx5HhzZHNokLGmm61AHnvpYiU97o7LCNTTGrETNAduwCgk7utVHazBm13xE43wtWRCZwu8ztNmZNsdYecY7H3KPVK4Mq2BPraLVse9Dauq',\n",
       "  'privkey': 'cRkadzWgsEm6fWtSSwk8bqVKpoL7UCnkTVd4gAagUtFJGF6sgeBS',\n",
       "  'pubkey': '03b3929b199a9e20e87b1a67182cb3c0edad99ce2d6d49f37968994f8339d0305e',\n",
       "  'pubkeyhash': '5f458724ce63c7d1dc92d1c69d9e84c4b5729255',\n",
       "  'index': 0},\n",
       " {'path': \"m/44'/1'/0'/0/1\",\n",
       "  'address': 'mnjmEBahguS742TYvRgBdQX3NJfhb5iHLQ',\n",
       "  'xprv': 'tprv8kG39HxK9185WSWsfd3zxHWTo4k33zXujmtRACwupSj2CGw7QmmMfu6fVVEyLcUCF2LMREqPUzDhDVtrhxAPAaS7xbkgNahv7RPXdfHwFL4',\n",
       "  'xpub': 'tpubDGx5HhzZHNokPuYfZGibMhAaN6FyDKipK5VCSizDEiXR2mBt3AawrPiXfb2b98tXTYWr9w5HDPGimLsDcp1tQnEzyvzuegsQFRGhYXQFfPy',\n",
       "  'privkey': 'cTK8JkY64F3p6jHoWKFkpSPmQKXqhhQtbNcC4aSa3dUrhriprFJ1',\n",
       "  'pubkey': '02123f6dbc5c51bb115dd2881a3ca6766d749848a54a86251545fcb4918f0f3bfa',\n",
       "  'pubkeyhash': '4f350cc90827926e103aa08268650c81170f8d71',\n",
       "  'index': 1},\n",
       " {'path': \"m/44'/1'/0'/0/2\",\n",
       "  'address': 'myNVW5X3bHk4G3ywEvLFFz1rtATwq2zjxb',\n",
       "  'xprv': 'tprv8kG39HxK9185ZLqLeJehpwz3UiaUPXgET6UpCSfdyBm1jgGLs91ziHDzY4tMYGgbTXNp86VdsV6aJNgqxk38EtHbFKYrHYnWQarGRi6f6ek',\n",
       "  'xpub': 'tpubDGx5HhzZHNokSos8XxKJEMeA3k6QYrs92Q5bUxhwPTZQaAX7VXqatmqriBPiLTBzimo1wG3qVCij9T4jg2y9Y6rHTaXn9eWpQ3Yob1zr5ZS',\n",
       "  'privkey': 'cTjNR9eW7vfoQs9yzbQrGVmNCGVirAThTd6vuwhjeCQQxQ9kXu7B',\n",
       "  'pubkey': '027d7f83ea0a38d817d4a9b6d1119856bf1cec4d6083a831731d5e092929a547c6',\n",
       "  'pubkeyhash': 'c3d8922de25e3ae0fff844b8c6c3abba44d2ad4c',\n",
       "  'index': 2},\n",
       " {'path': \"m/44'/1'/0'/0/3\",\n",
       "  'address': 'mhFTfa8Hq1haGfjf2e1KdhiPievfwprKva',\n",
       "  'xprv': 'tprv8kG39HxK9185ZmubvzfDBdf6VegJVqoZTWovHwz1you2t2f7NbLaVrHzZkYEhGV9qz2YS3ugPxQc9chT1dMYov4uYTqTpehZXka7rTdBpfE',\n",
       "  'xpub': 'tpubDGx5HhzZHNokTEwPpeKob3KD4gCEfAzU2pQhaU2KQ5hRiWuszzAAgLurjst9Sqj5st8f6aFgG6Qbt2wd7XDStJiDMu2cTKzqCjA5ooaMHCJ',\n",
       "  'privkey': 'cVvrDq8KMDXhNVEZRBFL49f6k5vLmgtFHRovAnAS2DbdmH8KXMnN',\n",
       "  'pubkey': '032d51b7518781f3cd765ae96bfe14040471959e32b10007ceb17e6c17a093931c',\n",
       "  'pubkeyhash': '13021d2589078ff6444fbdf796e3efc9c8396484',\n",
       "  'index': 3},\n",
       " {'path': \"m/44'/1'/0'/0/4\",\n",
       "  'address': 'mkz8uobCkxQkrTn5US4UDK8RttFKwR6cxV',\n",
       "  'xprv': 'tprv8kG39HxK9185eErPgbYfug2nWaD5YPYZCMDmnXniWXAtPr9SY147hEnEGygYfSNzoeKQxeHU3ug6fKoxwkAKcDQA7eDktYM8PFFEadi2RZL',\n",
       "  'xpub': 'tpubDGx5HhzZHNokXhtBaFDGK5gu5bj1hijTmepZ53q1vnyHELQDAPshsjQ6T7pdS7iE4m8K5qQB38LFjr2os7sEFEZYWCN5nbRmjYS8jocwNDA',\n",
       "  'privkey': 'cU9keVCCJqnmcsVNHCB9tsTzXQhto9Yzb92Jaw32ooEakoJUwRC7',\n",
       "  'pubkey': '03611f9eb221b2b0112dcb72bd4cffd5f3e02c1cac96f14b9970893307f47de9fe',\n",
       "  'pubkeyhash': '3bfcb8d4af406bf575fb02eb605565a53084d308',\n",
       "  'index': 4},\n",
       " {'path': \"m/44'/1'/0'/0/5\",\n",
       "  'address': 'n42jJSu8fMdHqFpqbqBogt6sBxjamey2z3',\n",
       "  'xprv': 'tprv8kG39HxK9185gMuXEEemUGiFbCJZakQa73xg4w6XCgNtdDNoz4AyKHUQgBDqiJegWHcLhiyePcPzXwJMBYHQ5JSD8oZi9mAe28cvoV2nocR',\n",
       "  'xpub': 'tpubDGx5HhzZHNokZpwK7tKMsgNNADpVk5bUgMZTMT8pcxBHThdacSzZVn6GrLPWqNAUoiAjWLCeQ6GdVq1ZVuyNNtQshijWQ8p1dfkczQuG46f',\n",
       "  'privkey': 'cR7biJm6K52LzNSmi2t1vt313UDXdpM3zJtP78cXEevQuYNtfb2Z',\n",
       "  'pubkey': '038dd0929d3cf0f756db02af0a1622a41f4fbb2cc1336097dd237dff68c92d63ae',\n",
       "  'pubkeyhash': 'f6f466601f0dfc021cf91c97c47b7604e27d63fb',\n",
       "  'index': 5},\n",
       " {'path': \"m/44'/1'/0'/0/6\",\n",
       "  'address': 'mji1vGVZ4eguj54A6V51CNqpHx1JZRPjkB',\n",
       "  'xprv': 'tprv8kG39HxK9185hMVUWfY51Y889PfbvytSdMAsmat4RaSM7HrR6yyNwkBmZXsGSqR3NM3W4LNLPJAWs1eSKFgHMvoZF4gf6KawmDQVnyNzynB',\n",
       "  'xpub': 'tpubDGx5HhzZHNokapXGQKCfQwnEiRBY6K5MCemf46vMqrEjwn7BjNny8Eodjdv4Ho8ZAeN14fGyB1J1tkd7bS5QZWoom1SHoJNrbJtv5fVp9kY',\n",
       "  'privkey': 'cTPngu1zgbZBuTEsJkinLqapJLTM9kPQpDo6V4AQrkUH6dfYUUfM',\n",
       "  'pubkey': '02371931e90bad096995a27a1b4764d15cdd43a6f2f9ad083bb3f3317663e9a9c7',\n",
       "  'pubkeyhash': '2df81aac62c1ac783e0ecfe21d65e6a260e9136f',\n",
       "  'index': 6},\n",
       " {'path': \"m/44'/1'/0'/0/7\",\n",
       "  'address': 'n1ddJEFkaPuTNQf1nqTyCggtw5e3BVERLz',\n",
       "  'xprv': 'tprv8kG39HxK9185k5A2CKewE1NEmLLKxaQYES9Xxj7AdFLhVgfxK7HqCdvgo8ULeaPDYSvVFB71ZX7XBrqcesf8MKrLrbJpqTDeYdnVbFVa6s5',\n",
       "  'xpub': 'tpubDGx5HhzZHNokdYBp5yKXdR2MLMrG7ubSojkKFF9U3X96LAviwW7RP8YYyJFftov3x1akEuiuhKc7N7i11qmpLKe2cC7z1wFcwaeaa2VZzuk',\n",
       "  'privkey': 'cPo9QbL21xMc121YK9twEkW211HLod6Ffr9zJQKWQp5D1e37B7hh',\n",
       "  'pubkey': '03b772cb2132f1ff9c6a6e3ebdbef759e5c13e9b571cff066716a0c777ad469cfe',\n",
       "  'pubkeyhash': 'dca591ccb8b914c114231d7f434e803dc0504f13',\n",
       "  'index': 7},\n",
       " {'path': \"m/44'/1'/0'/0/8\",\n",
       "  'address': 'muC1cBA3KZ8PHwMjqPCopsYXF1Gj2sHgQ5',\n",
       "  'xprv': 'tprv8kG39HxK9185p7MyMt7SC3aVTM5bmsd4nDywk5jnER5AZLVZBNVAS5atS73WkVqNupU9HZ6NAFz1K5cKx4aykaRLPn4bgcRetCXBPZX3mR4',\n",
       "  'xpub': 'tpubDGx5HhzZHNokhaPmFXn2bTEc2NbXwCoyMXaj2bn5egsZPpkKomJkcaCkcFqGS7hxAeWBvXizTEMdU22Dk3HK7QyHHksq38t5S6jp6ShMs4D',\n",
       "  'privkey': 'cP7hFLXZWLRaaCUqRHoU9fZxQCsXkXHh5gs9eUwnf1RDhj3jBQET',\n",
       "  'pubkey': '032069f66ee29e43877d4afae15bccc3dde3279623ccee79f088322be7fd45be7d',\n",
       "  'pubkeyhash': '95fc9f6f29f0c4d930174b05eebec04871b10307',\n",
       "  'index': 8},\n",
       " {'path': \"m/44'/1'/0'/0/9\",\n",
       "  'address': 'miCsXHyAAwGFGQzPNTbbuvGtWZ6K62MZdF',\n",
       "  'xprv': 'tprv8kG39HxK9185s4gS3pChqY64gQQ5zUiH6qVtTizB3T6HpxG34jDTT7CsEuiGoVK2F24XajQFDCPEvMmSJjXNyLUf9LGhVXDRtbSPb8hzabU',\n",
       "  'xpub': 'tpubDGx5HhzZHNokkXiDwTsJEwkBFRv29ouBg96fkF2UTitgfSWoh833dbpjR5XveggRyvgZQrBpW19ZHjMip1dwEHGWVEyV7M2LFRrahCqeK7g',\n",
       "  'privkey': 'cPmDZLiofHbGjqxP42aaZujSpYS2cUHuJiLLxUnhrkuiYzUhy3ba',\n",
       "  'pubkey': '03bbb9d2c1a1e63ef4b596e8b8aa3a28a95b2aa62aee0b1c16984ea4d0bdded899',\n",
       "  'pubkeyhash': '1d7ce823b8e11ee0f7d9ad9f84077a75fe9dde20',\n",
       "  'index': 9}]"
      ]
     },
     "execution_count": 108,
     "metadata": {},
     "output_type": "execute_result"
    }
   ],
   "source": [
    "coins[\"btc-test\"]"
   ]
  },
  {
   "cell_type": "code",
   "execution_count": 91,
   "metadata": {},
   "outputs": [],
   "source": [
    "import qrcode"
   ]
  },
  {
   "cell_type": "code",
   "execution_count": 115,
   "metadata": {},
   "outputs": [],
   "source": [
    "img = qrcode.make(coins[\"btc-test\"][0][\"address\"])"
   ]
  },
  {
   "cell_type": "code",
   "execution_count": 116,
   "metadata": {},
   "outputs": [
    {
     "data": {
      "image/png": "[encoded data removed]",
      "text/plain": [
       "<qrcode.image.pil.PilImage at 0x10b473438>"
      ]
     },
     "execution_count": 116,
     "metadata": {},
     "output_type": "execute_result"
    }
   ],
   "source": [
    "img"
   ]
  },
  {
   "cell_type": "code",
   "execution_count": 112,
   "metadata": {},
   "outputs": [],
   "source": [
    "my_btctest_account = priv_key_to_account(\"btc-test\",coins[\"btc-test\"][0][\"privkey\"])\n",
    "#my_btc_account = priv_key_to_account(\"BTC\",privkey)"
   ]
  },
  {
   "cell_type": "code",
   "execution_count": 113,
   "metadata": {},
   "outputs": [
    {
     "data": {
      "text/plain": [
       "<PrivateKeyTestnet: mpChnAKRoQjSLFnQ68gCAnUoanYq4Kb4Hb>"
      ]
     },
     "execution_count": 113,
     "metadata": {},
     "output_type": "execute_result"
    }
   ],
   "source": [
    "my_btctest_account"
   ]
  },
  {
   "cell_type": "code",
   "execution_count": 114,
   "metadata": {},
   "outputs": [
    {
     "data": {
      "text/plain": [
       "'mpChnAKRoQjSLFnQ68gCAnUoanYq4Kb4Hb'"
      ]
     },
     "execution_count": 114,
     "metadata": {},
     "output_type": "execute_result"
    }
   ],
   "source": [
    "my_btctest_account.address"
   ]
  },
  {
   "cell_type": "code",
   "execution_count": 117,
   "metadata": {},
   "outputs": [
    {
     "data": {
      "text/plain": [
       "'0.02'"
      ]
     },
     "execution_count": 117,
     "metadata": {},
     "output_type": "execute_result"
    }
   ],
   "source": [
    "get_balance(\"btc-test\", my_btctest_account)"
   ]
  },
  {
   "cell_type": "code",
   "execution_count": 122,
   "metadata": {},
   "outputs": [],
   "source": [
    "send_tx(coin = \"btc-test\",account = my_btctest_account, to = coins[\"btc-test\"][1][\"address\"],amount= 0.01)"
   ]
  },
  {
   "cell_type": "code",
   "execution_count": 119,
   "metadata": {},
   "outputs": [
    {
     "data": {
      "text/plain": [
       "'mnjmEBahguS742TYvRgBdQX3NJfhb5iHLQ'"
      ]
     },
     "execution_count": 119,
     "metadata": {},
     "output_type": "execute_result"
    }
   ],
   "source": [
    " coins[\"btc-test\"][1][\"address\"]"
   ]
  },
  {
   "cell_type": "code",
   "execution_count": 123,
   "metadata": {},
   "outputs": [],
   "source": [
    "my_other_btctest_account = priv_key_to_account(\"btc-test\",coins[\"btc-test\"][1][\"privkey\"])"
   ]
  },
  {
   "cell_type": "code",
   "execution_count": 124,
   "metadata": {},
   "outputs": [
    {
     "data": {
      "text/plain": [
       "'0.01'"
      ]
     },
     "execution_count": 124,
     "metadata": {},
     "output_type": "execute_result"
    }
   ],
   "source": [
    "get_balance(\"btc-test\", my_other_btctest_account)"
   ]
  },
  {
   "cell_type": "code",
   "execution_count": 125,
   "metadata": {},
   "outputs": [
    {
     "data": {
      "text/plain": [
       "'0.00997008'"
      ]
     },
     "execution_count": 125,
     "metadata": {},
     "output_type": "execute_result"
    }
   ],
   "source": [
    "get_balance(\"btc-test\", my_btctest_account)"
   ]
  },
  {
   "cell_type": "code",
   "execution_count": null,
   "metadata": {},
   "outputs": [],
   "source": []
  }
 ],
 "metadata": {
  "kernelspec": {
   "display_name": "Python 3",
   "language": "python",
   "name": "python3"
  },
  "language_info": {
   "codemirror_mode": {
    "name": "ipython",
    "version": 3
   },
   "file_extension": ".py",
   "mimetype": "text/x-python",
   "name": "python",
   "nbconvert_exporter": "python",
   "pygments_lexer": "ipython3",
   "version": "3.7.3"
  }
 },
 "nbformat": 4,
 "nbformat_minor": 2
}
