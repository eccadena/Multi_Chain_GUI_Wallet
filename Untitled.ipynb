{
 "cells": [
  {
   "cell_type": "markdown",
   "metadata": {},
   "source": [
    "# ATOMIC SWAP EXAMPLE\n",
    "\n",
    "- Alice has over 0.01 bitcoinCash and wants to buy 0.001 litecoins\n",
    "- Alice doesn’t have a litecoin wallet\n",
    "- Bob has over 0.001 litecoins and wants to buy around 0.01 bitcoinCash\n",
    "- Bob has a bitcoinCash wallet\n",
    "\n",
    "## 1. Each Party Creates A Wallet In Each Blockchain\n",
    "\n",
    "Total wallets = 4. \n"
   ]
  },
  {
   "cell_type": "code",
   "execution_count": 1,
   "metadata": {},
   "outputs": [],
   "source": [
    "from clove.network import Litecoin"
   ]
  },
  {
   "cell_type": "code",
   "execution_count": 2,
   "metadata": {},
   "outputs": [
    {
     "data": {
      "text/plain": [
       "'LWZm6ZzCFQMP98vkYjFnLQJrPVcmEL6rfg'"
      ]
     },
     "execution_count": 2,
     "metadata": {},
     "output_type": "execute_result"
    }
   ],
   "source": [
    "ltc_network = Litecoin()\n",
    "\n",
    "#alice_ltc_wallet = ltc_network.get_new_wallet()\n",
    "alice_ltc_wallet = ltc_network.get_wallet(private_key='T3uJbS5yKBCBxpptkr6nWoU6DFxkUiDAbKk5Ynoqhqfea5i3ef4e')\n",
    "\n",
    "alice_ltc_wallet.address #LWZm6ZzCFQMP98vkYjFnLQJrPVcmEL6rfg"
   ]
  },
  {
   "cell_type": "code",
   "execution_count": 3,
   "metadata": {},
   "outputs": [
    {
     "data": {
      "text/plain": [
       "'T3uJbS5yKBCBxpptkr6nWoU6DFxkUiDAbKk5Ynoqhqfea5i3ef4e'"
      ]
     },
     "execution_count": 3,
     "metadata": {},
     "output_type": "execute_result"
    }
   ],
   "source": [
    "alice_ltc_wallet.get_private_key()"
   ]
  },
  {
   "cell_type": "code",
   "execution_count": 4,
   "metadata": {},
   "outputs": [
    {
     "data": {
      "text/plain": [
       "'1EemPYVexgWcUYv7Q8Yq4DEr5syrTA4hUE'"
      ]
     },
     "execution_count": 4,
     "metadata": {},
     "output_type": "execute_result"
    }
   ],
   "source": [
    "from clove.network import BitcoinCash\n",
    "\n",
    "bch_network = BitcoinCash()\n",
    "\n",
    "# Alice provides her private key. The one below is fake, because of obvious security reasons.\n",
    "#alice_mona_wallet = mona_network.get_wallet(private_key='cSYq9JswNm79GUdyz6TiNKajRTiJEKgv4RxSWGthP3SmUHiX9WKe')\n",
    "alice_bch_wallet = bch_network.get_wallet(private_key='Ky2wwEucgGfr2phJho8iYnvDmxcWeqzk4RZMY4edWoGbAXWeWMF6')\n",
    "\n",
    "alice_bch_wallet.address #1EemPYVexgWcUYv7Q8Yq4DEr5syrTA4hUE"
   ]
  },
  {
   "cell_type": "code",
   "execution_count": 5,
   "metadata": {},
   "outputs": [
    {
     "data": {
      "text/plain": [
       "'Ky2wwEucgGfr2phJho8iYnvDmxcWeqzk4RZMY4edWoGbAXWeWMF6'"
      ]
     },
     "execution_count": 5,
     "metadata": {},
     "output_type": "execute_result"
    }
   ],
   "source": [
    "alice_bch_wallet.get_private_key()"
   ]
  },
  {
   "cell_type": "code",
   "execution_count": 6,
   "metadata": {},
   "outputs": [
    {
     "data": {
      "text/plain": [
       "'1563NVSXWD8kpMn5ECk8ggmMRDjRtjgp2v'"
      ]
     },
     "execution_count": 6,
     "metadata": {},
     "output_type": "execute_result"
    }
   ],
   "source": [
    "bob_bch_wallet = bch_network.get_wallet(private_key='KyiGY1nUn3RdeSJZZzLTA1yhdDhh8Qk3bAvfTzqCG51FjRFEkFnp')\n",
    "\n",
    "bob_bch_wallet.address #1563NVSXWD8kpMn5ECk8ggmMRDjRtjgp2v"
   ]
  },
  {
   "cell_type": "code",
   "execution_count": 7,
   "metadata": {},
   "outputs": [
    {
     "data": {
      "text/plain": [
       "'KyiGY1nUn3RdeSJZZzLTA1yhdDhh8Qk3bAvfTzqCG51FjRFEkFnp'"
      ]
     },
     "execution_count": 7,
     "metadata": {},
     "output_type": "execute_result"
    }
   ],
   "source": [
    "bob_bch_wallet.get_private_key()"
   ]
  },
  {
   "cell_type": "code",
   "execution_count": 8,
   "metadata": {},
   "outputs": [
    {
     "data": {
      "text/plain": [
       "'LRTubrQdtDUGJuGtKfSA862LpzzHgqyWKg'"
      ]
     },
     "execution_count": 8,
     "metadata": {},
     "output_type": "execute_result"
    }
   ],
   "source": [
    "# Bob provides his private key. The one below is fake, because of obvious security reasons.\n",
    "bob_ltc_wallet = ltc_network.get_wallet(private_key='T9moArvMavB4fNWzTzAs39BKNsgJRYT7zLjneKsrkd57d5o3hyHQ')\n",
    "\n",
    "bob_ltc_wallet.address #LRTubrQdtDUGJuGtKfSA862LpzzHgqyWKg"
   ]
  },
  {
   "cell_type": "code",
   "execution_count": 9,
   "metadata": {},
   "outputs": [
    {
     "data": {
      "text/plain": [
       "'T9moArvMavB4fNWzTzAs39BKNsgJRYT7zLjneKsrkd57d5o3hyHQ'"
      ]
     },
     "execution_count": 9,
     "metadata": {},
     "output_type": "execute_result"
    }
   ],
   "source": [
    "bob_ltc_wallet.get_private_key()"
   ]
  },
  {
   "cell_type": "markdown",
   "metadata": {},
   "source": [
    "## 2. They Share Both Addresses to the Other One"
   ]
  },
  {
   "cell_type": "code",
   "execution_count": 10,
   "metadata": {},
   "outputs": [],
   "source": [
    "import qrcode"
   ]
  },
  {
   "cell_type": "code",
   "execution_count": 11,
   "metadata": {},
   "outputs": [
    {
     "data": {
      "image/png": "[encoded data removed]",
      "text/plain": [
       "<qrcode.image.pil.PilImage at 0x1057e5748>"
      ]
     },
     "execution_count": 11,
     "metadata": {},
     "output_type": "execute_result"
    }
   ],
   "source": [
    "# What Alice sees:\n",
    "bob_bch_address = '1563NVSXWD8kpMn5ECk8ggmMRDjRtjgp2v'\n",
    "bob_ltc_address = 'LRTubrQdtDUGJuGtKfSA862LpzzHgqyWKg'\n",
    "bob_ini_funds = qrcode.make(bob_ltc_address)\n",
    "bob_ini_funds"
   ]
  },
  {
   "cell_type": "code",
   "execution_count": 12,
   "metadata": {},
   "outputs": [
    {
     "data": {
      "image/png": "[encoded data removed]",
      "text/plain": [
       "<qrcode.image.pil.PilImage at 0x105a1e208>"
      ]
     },
     "execution_count": 12,
     "metadata": {},
     "output_type": "execute_result"
    }
   ],
   "source": [
    "# What Bob sees:\n",
    "alice_bch_address = '1EemPYVexgWcUYv7Q8Yq4DEr5syrTA4hUE'\n",
    "alice_ltc_address = 'LWZm6ZzCFQMP98vkYjFnLQJrPVcmEL6rfg'\n",
    "alice_ini_funds = qrcode.make(alice_bch_address)\n",
    "alice_ini_funds"
   ]
  },
  {
   "cell_type": "markdown",
   "metadata": {},
   "source": [
    "## 3. Alice is initializing an atomic swap transaction using BitcoinCash\n",
    "\n",
    "We would have to have initial addresses funded to check this peace"
   ]
  },
  {
   "cell_type": "code",
   "execution_count": 13,
   "metadata": {},
   "outputs": [
    {
     "name": "stderr",
     "output_type": "stream",
     "text": [
      "2020-01-13 15:35:49 Oscars-MacBook-Pro.local root[56637] DEBUG <class 'type'>\n",
      "2020-01-13 15:35:49 Oscars-MacBook-Pro.local root[56637] DEBUG <class 'clove.network.bitcoin_based.bitcoin_cash.BitcoinCash'>\n",
      "2020-01-13 15:35:49 Oscars-MacBook-Pro.local root[56637] DEBUG   Requesting: https://rest.bitbox.earth/v1/address/utxo/1EemPYVexgWcUYv7Q8Yq4DEr5syrTA4hUE\n",
      "2020-01-13 15:35:49 Oscars-MacBook-Pro.local urllib3.connectionpool[56637] DEBUG Starting new HTTPS connection (1): rest.bitbox.earth:443\n",
      "2020-01-13 15:35:50 Oscars-MacBook-Pro.local urllib3.connectionpool[56637] DEBUG https://rest.bitbox.earth:443 \"GET /v1/address/utxo/1EemPYVexgWcUYv7Q8Yq4DEr5syrTA4hUE HTTP/1.1\" 200 353\n",
      "2020-01-13 15:35:50 Oscars-MacBook-Pro.local root[56637] DEBUG Got response: https://rest.bitbox.earth/v1/address/utxo/1EemPYVexgWcUYv7Q8Yq4DEr5syrTA4hUE [0.62s]\n"
     ]
    }
   ],
   "source": [
    "initial_transaction = bch_network.atomic_swap(\n",
    "    sender_address=alice_bch_wallet.address,\n",
    "    recipient_address=bob_bch_address,\n",
    "    value=0.010,\n",
    ")"
   ]
  },
  {
   "cell_type": "code",
   "execution_count": 17,
   "metadata": {},
   "outputs": [],
   "source": [
    "#initial_transaction.add_fee_and_sign(alice_bch_wallet)\n",
    "initial_transaction.fee = 0.000005\n",
    "initial_transaction.add_fee()\n",
    "initial_transaction.sign(alice_bch_wallet)"
   ]
  },
  {
   "cell_type": "code",
   "execution_count": 18,
   "metadata": {},
   "outputs": [
    {
     "ename": "TypeError",
     "evalue": "unsupported format string passed to NoneType.__format__",
     "output_type": "error",
     "traceback": [
      "\u001b[0;31m---------------------------------------------------------------------------\u001b[0m",
      "\u001b[0;31mTypeError\u001b[0m                                 Traceback (most recent call last)",
      "\u001b[0;32m<ipython-input-18-ac1279e713e9>\u001b[0m in \u001b[0;36m<module>\u001b[0;34m\u001b[0m\n\u001b[0;32m----> 1\u001b[0;31m \u001b[0minitial_transaction\u001b[0m\u001b[0;34m.\u001b[0m\u001b[0mshow_details\u001b[0m\u001b[0;34m(\u001b[0m\u001b[0;34m)\u001b[0m\u001b[0;34m\u001b[0m\u001b[0;34m\u001b[0m\u001b[0m\n\u001b[0m",
      "\u001b[0;32m/anaconda3/lib/python3.7/site-packages/clove/network/bitcoin/transaction.py\u001b[0m in \u001b[0;36mshow_details\u001b[0;34m(self)\u001b[0m\n\u001b[1;32m    255\u001b[0m             \u001b[0;34m'fee'\u001b[0m\u001b[0;34m:\u001b[0m \u001b[0mself\u001b[0m\u001b[0;34m.\u001b[0m\u001b[0mfee\u001b[0m\u001b[0;34m,\u001b[0m\u001b[0;34m\u001b[0m\u001b[0;34m\u001b[0m\u001b[0m\n\u001b[1;32m    256\u001b[0m             \u001b[0;34m'fee_per_kb'\u001b[0m\u001b[0;34m:\u001b[0m \u001b[0mself\u001b[0m\u001b[0;34m.\u001b[0m\u001b[0mfee_per_kb\u001b[0m\u001b[0;34m,\u001b[0m\u001b[0;34m\u001b[0m\u001b[0;34m\u001b[0m\u001b[0m\n\u001b[0;32m--> 257\u001b[0;31m             \u001b[0;34m'fee_per_kb_text'\u001b[0m\u001b[0;34m:\u001b[0m \u001b[0;34mf'{self.fee_per_kb:.8f} {self.symbol} / 1 kB'\u001b[0m\u001b[0;34m,\u001b[0m\u001b[0;34m\u001b[0m\u001b[0;34m\u001b[0m\u001b[0m\n\u001b[0m\u001b[1;32m    258\u001b[0m             \u001b[0;34m'fee_text'\u001b[0m\u001b[0;34m:\u001b[0m \u001b[0;34mf'{self.fee:.8f} {self.symbol}'\u001b[0m\u001b[0;34m,\u001b[0m\u001b[0;34m\u001b[0m\u001b[0;34m\u001b[0m\u001b[0m\n\u001b[1;32m    259\u001b[0m             \u001b[0;34m'locktime'\u001b[0m\u001b[0;34m:\u001b[0m \u001b[0mself\u001b[0m\u001b[0;34m.\u001b[0m\u001b[0mlocktime\u001b[0m\u001b[0;34m,\u001b[0m\u001b[0;34m\u001b[0m\u001b[0;34m\u001b[0m\u001b[0m\n",
      "\u001b[0;31mTypeError\u001b[0m: unsupported format string passed to NoneType.__format__"
     ]
    }
   ],
   "source": [
    "initial_transaction.show_details()"
   ]
  },
  {
   "cell_type": "code",
   "execution_count": null,
   "metadata": {},
   "outputs": [],
   "source": [
    "\"\"\"\n",
    "{'contract': '63a61450314a793bf317665ecdc54c2e843bb106aeee158876a914fbed00c1502fded3dfa2524f8672ee013bb3f28f670465bab85bb17576a914a96a92963b7a65ac904875cfa5d535b3115888276888ac',\n",
    " 'contract_address': 'PHVjh4aEgaY5DucNGT6xoFjLD1LAqo9SMu',\n",
    " 'contract_transaction': '0100000001d4a61b33e849c8df64a2c839b878437a0ef055887ff0bf4279b8a805a2043b69010000006b483045022100a038a71fc3218c67e64804171b8a311397872fff51c85cbef81170570915946b02202385c01f3c4b06416108b6b856ca4f112e79ed74bc36766df4d994a696a7479401210240917aa65f12d8051abae7e8e98eea3b085a766a2dd7bd7f71c8121304cca2980000000002c0c62d000000000017a91461b1cbc5cd1b50e69e1c895d6cbcc94376c4ab3c87345e1401000000001976a914a96a92963b7a65ac904875cfa5d535b31158882788ac00000000',\n",
    " 'fee': 0.00017655,\n",
    " 'fee_per_kb': 0.0007881781818181818,\n",
    " 'fee_per_kb_text': '0.00078818 MONA / 1 kB',\n",
    " 'fee_text': '0.00017655 MONA',\n",
    " 'locktime': datetime.datetime(2018, 10, 6, 13, 36, 37, 851140),\n",
    " 'recipient_address': 'MWsDkqHLonS5KfbRnRu3feByD9qkuj44Ye',\n",
    " 'refund_address': 'MPLx6eJS41da9bPsLLkHo35uY6KsHu7dXP',\n",
    " 'secret': 'c480afb333623864901c968022a07dd93fe3c06f5684ea728b8113e17fa91bd9',\n",
    " 'secret_hash': '50314a793bf317665ecdc54c2e843bb106aeee15',\n",
    " 'size': 224,\n",
    " 'size_text': '224 bytes',\n",
    " 'transaction_address': 'a019e444e331ec843ae2d98b87073884e695dd08be06ba91f335af89dbe45473',\n",
    " 'transaction_link': 'https://insight.electrum-mona.org/insight/tx/a019e444e331ec843ae2d98b87073884e695dd08be06ba91f335af89dbe45473',\n",
    " 'value': 0.03,\n",
    " 'value_text': '0.03000000 MONA'}\n",
    "\"\"\""
   ]
  },
  {
   "cell_type": "code",
   "execution_count": 19,
   "metadata": {},
   "outputs": [
    {
     "name": "stderr",
     "output_type": "stream",
     "text": [
      "2020-01-13 15:43:12 Oscars-MacBook-Pro.local root[56637] DEBUG   Requesting: https://rest.bitbox.earth/v1/tx/send\n",
      "2020-01-13 15:43:12 Oscars-MacBook-Pro.local urllib3.connectionpool[56637] DEBUG Starting new HTTPS connection (1): rest.bitbox.earth:443\n",
      "2020-01-13 15:43:12 Oscars-MacBook-Pro.local urllib3.connectionpool[56637] DEBUG https://rest.bitbox.earth:443 \"POST /v1/tx/send HTTP/1.1\" 404 36\n",
      "2020-01-13 15:43:12 Oscars-MacBook-Pro.local root[56637] DEBUG Got response: https://rest.bitbox.earth/v1/tx/send [0.39s]\n",
      "2020-01-13 15:43:12 Oscars-MacBook-Pro.local root[56637] ERROR Unexepected error while publishing transaction via API (BCH). Status code: {response.status.code}\n"
     ]
    },
    {
     "ename": "ValueError",
     "evalue": "Unexpected response from API. Please try again.",
     "output_type": "error",
     "traceback": [
      "\u001b[0;31m---------------------------------------------------------------------------\u001b[0m",
      "\u001b[0;31mValueError\u001b[0m                                Traceback (most recent call last)",
      "\u001b[0;32m<ipython-input-19-9e09e01f08fd>\u001b[0m in \u001b[0;36m<module>\u001b[0;34m\u001b[0m\n\u001b[0;32m----> 1\u001b[0;31m \u001b[0minitial_transaction\u001b[0m\u001b[0;34m.\u001b[0m\u001b[0mpublish\u001b[0m\u001b[0;34m(\u001b[0m\u001b[0;34m)\u001b[0m\u001b[0;34m\u001b[0m\u001b[0;34m\u001b[0m\u001b[0m\n\u001b[0m",
      "\u001b[0;32m/anaconda3/lib/python3.7/site-packages/clove/network/bitcoin/transaction.py\u001b[0m in \u001b[0;36mpublish\u001b[0;34m(self)\u001b[0m\n\u001b[1;32m    101\u001b[0m \u001b[0;34m\u001b[0m\u001b[0m\n\u001b[1;32m    102\u001b[0m     \u001b[0;32mdef\u001b[0m \u001b[0mpublish\u001b[0m\u001b[0;34m(\u001b[0m\u001b[0mself\u001b[0m\u001b[0;34m)\u001b[0m\u001b[0;34m:\u001b[0m\u001b[0;34m\u001b[0m\u001b[0;34m\u001b[0m\u001b[0m\n\u001b[0;32m--> 103\u001b[0;31m         \u001b[0;32mreturn\u001b[0m \u001b[0mself\u001b[0m\u001b[0;34m.\u001b[0m\u001b[0mnetwork\u001b[0m\u001b[0;34m.\u001b[0m\u001b[0mpublish\u001b[0m\u001b[0;34m(\u001b[0m\u001b[0mself\u001b[0m\u001b[0;34m.\u001b[0m\u001b[0mraw_transaction\u001b[0m\u001b[0;34m)\u001b[0m\u001b[0;34m\u001b[0m\u001b[0;34m\u001b[0m\u001b[0m\n\u001b[0m\u001b[1;32m    104\u001b[0m \u001b[0;34m\u001b[0m\u001b[0m\n\u001b[1;32m    105\u001b[0m     \u001b[0;34m@\u001b[0m\u001b[0mproperty\u001b[0m\u001b[0;34m\u001b[0m\u001b[0;34m\u001b[0m\u001b[0m\n",
      "\u001b[0;32m/anaconda3/lib/python3.7/site-packages/clove/block_explorer/insight.py\u001b[0m in \u001b[0;36mpublish\u001b[0;34m(cls, raw_transaction)\u001b[0m\n\u001b[1;32m    364\u001b[0m             \u001b[0;34m'Status code: {response.status.code}'\u001b[0m\u001b[0;34m\u001b[0m\u001b[0;34m\u001b[0m\u001b[0m\n\u001b[1;32m    365\u001b[0m         )\n\u001b[0;32m--> 366\u001b[0;31m         \u001b[0;32mraise\u001b[0m \u001b[0mValueError\u001b[0m\u001b[0;34m(\u001b[0m\u001b[0;34m'Unexpected response from API. Please try again.'\u001b[0m\u001b[0;34m)\u001b[0m\u001b[0;34m\u001b[0m\u001b[0;34m\u001b[0m\u001b[0m\n\u001b[0m",
      "\u001b[0;31mValueError\u001b[0m: Unexpected response from API. Please try again."
     ]
    }
   ],
   "source": [
    " initial_transaction.publish()"
   ]
  },
  {
   "cell_type": "code",
   "execution_count": null,
   "metadata": {},
   "outputs": [],
   "source": []
  }
 ],
 "metadata": {
  "kernelspec": {
   "display_name": "Python 3",
   "language": "python",
   "name": "python3"
  },
  "language_info": {
   "codemirror_mode": {
    "name": "ipython",
    "version": 3
   },
   "file_extension": ".py",
   "mimetype": "text/x-python",
   "name": "python",
   "nbconvert_exporter": "python",
   "pygments_lexer": "ipython3",
   "version": "3.7.3"
  }
 },
 "nbformat": 4,
 "nbformat_minor": 2
}
